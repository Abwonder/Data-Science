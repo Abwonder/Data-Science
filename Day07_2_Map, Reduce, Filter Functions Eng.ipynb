{
 "cells": [
  {
   "cell_type": "markdown",
   "id": "6a7e8938-9467-4126-b8fc-e6e4d9624c72",
   "metadata": {},
   "source": [
    "### Map, Reduce Filter Functions"
   ]
  },
  {
   "cell_type": "code",
   "execution_count": null,
   "id": "81f2f69d-930e-43d1-972d-1758a2845acf",
   "metadata": {},
   "outputs": [],
   "source": [
    "## map"
   ]
  },
  {
   "cell_type": "code",
   "execution_count": 2,
   "id": "c7bb53e7-8766-4c35-a8a6-2b11740efa92",
   "metadata": {},
   "outputs": [],
   "source": [
    "l = [1,2,3,4,45,5]  ### this is a list considered\n",
    "## task: square each of the element in the list"
   ]
  },
  {
   "cell_type": "code",
   "execution_count": 3,
   "id": "3152c13f-c53c-47f2-8372-5b72f68f42bb",
   "metadata": {},
   "outputs": [],
   "source": [
    "## normal method that would be considered\n",
    "def test(l):\n",
    "    l1 = []\n",
    "    for i in l :\n",
    "        l1.append(i**2)\n",
    "    return l1\n",
    "## why not consider doing all of this in one line!!!!!      "
   ]
  },
  {
   "cell_type": "code",
   "execution_count": 5,
   "id": "04e32ff4-bd51-4c94-9a95-131f44c92006",
   "metadata": {},
   "outputs": [
    {
     "data": {
      "text/plain": [
       "[1, 4, 9, 16, 2025, 25]"
      ]
     },
     "execution_count": 5,
     "metadata": {},
     "output_type": "execute_result"
    }
   ],
   "source": [
    "test(l)"
   ]
  },
  {
   "cell_type": "code",
   "execution_count": null,
   "id": "a2c373a7-02ef-4755-aed9-f4f580b55b93",
   "metadata": {},
   "outputs": [],
   "source": [
    "map() ## it takes function and applies it to each of the element of an Iteration\n",
    "## see example of it usage below"
   ]
  },
  {
   "cell_type": "code",
   "execution_count": 6,
   "id": "3ddc6543-018b-4e05-96c8-a28596c8750d",
   "metadata": {},
   "outputs": [],
   "source": [
    "def sq(x):\n",
    "    return x**2  ## returns this output"
   ]
  },
  {
   "cell_type": "code",
   "execution_count": 8,
   "id": "1f518968-0287-4652-a562-e60f76a0d412",
   "metadata": {},
   "outputs": [
    {
     "data": {
      "text/plain": [
       "[1, 4, 9, 16, 2025, 25]"
      ]
     },
     "execution_count": 8,
     "metadata": {},
     "output_type": "execute_result"
    }
   ],
   "source": [
    "list(map(sq , l)) ## this is don within list and this is similar to what on liner we do in list\n",
    "## example below"
   ]
  },
  {
   "cell_type": "code",
   "execution_count": 22,
   "id": "9b57ba23-855f-412a-a3af-f490aeea6d86",
   "metadata": {},
   "outputs": [
    {
     "data": {
      "text/plain": [
       "<map at 0x7f13b8dce500>"
      ]
     },
     "execution_count": 22,
     "metadata": {},
     "output_type": "execute_result"
    }
   ],
   "source": [
    "map(sq , l)  ## is like typecasting is a must to get output for def within map"
   ]
  },
  {
   "cell_type": "code",
   "execution_count": 10,
   "id": "6f383301-3b41-4832-a885-4292ed8b5299",
   "metadata": {},
   "outputs": [],
   "source": [
    "lst42 = [2.5,5,6,34,53,3,24,323,53]  #### Example to explain above"
   ]
  },
  {
   "cell_type": "code",
   "execution_count": null,
   "id": "8844a1b8-b168-4a62-98a7-9ea5c5de2ba0",
   "metadata": {},
   "outputs": [],
   "source": []
  },
  {
   "cell_type": "code",
   "execution_count": 14,
   "id": "c21ccbb7-0500-4919-aba6-fd2665bc5251",
   "metadata": {},
   "outputs": [
    {
     "data": {
      "text/plain": [
       "[6.25, 25, 36, 1156, 2809, 9, 576, 104329, 2809]"
      ]
     },
     "execution_count": 14,
     "metadata": {},
     "output_type": "execute_result"
    }
   ],
   "source": [
    "[i**2 for i in lst42]   ## usage"
   ]
  },
  {
   "cell_type": "code",
   "execution_count": 16,
   "id": "8633e4d4-16c2-4111-94a8-9b969d6bcfb6",
   "metadata": {},
   "outputs": [
    {
     "data": {
      "text/plain": [
       "[0, 1, 4, 9, 16]"
      ]
     },
     "execution_count": 16,
     "metadata": {},
     "output_type": "execute_result"
    }
   ],
   "source": [
    "list(i**2 for i in range(5))### building it within a tuple and typecasting to list"
   ]
  },
  {
   "cell_type": "code",
   "execution_count": 17,
   "id": "26ff354c-f692-4d70-8c6d-550fbc455cd1",
   "metadata": {},
   "outputs": [
    {
     "data": {
      "text/plain": [
       "generator"
      ]
     },
     "execution_count": 17,
     "metadata": {},
     "output_type": "execute_result"
    }
   ],
   "source": [
    "type(i**2 for i in range(5))   ## its actually a generator"
   ]
  },
  {
   "cell_type": "code",
   "execution_count": 20,
   "id": "00411e91-a2e1-4709-ac82-4bede69645fb",
   "metadata": {},
   "outputs": [
    {
     "data": {
      "text/plain": [
       "generator"
      ]
     },
     "execution_count": 20,
     "metadata": {},
     "output_type": "execute_result"
    }
   ],
   "source": [
    "type((i**2 for i in range(5)))  ## it didnt change"
   ]
  },
  {
   "cell_type": "code",
   "execution_count": 19,
   "id": "9bcb970a-9a8d-483f-ba08-712de151ca61",
   "metadata": {},
   "outputs": [
    {
     "data": {
      "text/plain": [
       "list"
      ]
     },
     "execution_count": 19,
     "metadata": {},
     "output_type": "execute_result"
    }
   ],
   "source": [
    "type([i**2 for i in lst42])"
   ]
  },
  {
   "cell_type": "code",
   "execution_count": 10,
   "id": "7a758966-eb2e-48bd-a176-54e0dce1fd98",
   "metadata": {},
   "outputs": [
    {
     "data": {
      "text/plain": [
       "[1, 4, 9, 16, 2025, 25]"
      ]
     },
     "execution_count": 10,
     "metadata": {},
     "output_type": "execute_result"
    }
   ],
   "source": [
    "list(map(lambda x : x**2 , l ))  ## lambda function can be applied too!!"
   ]
  },
  {
   "cell_type": "code",
   "execution_count": 11,
   "id": "ae05fb09-5e00-4f3a-a185-8f43279d34f4",
   "metadata": {},
   "outputs": [
    {
     "data": {
      "text/plain": [
       "[11, 12, 13, 14, 55, 15]"
      ]
     },
     "execution_count": 11,
     "metadata": {},
     "output_type": "execute_result"
    }
   ],
   "source": [
    "list(map(lambda x : x+10 , l ))"
   ]
  },
  {
   "cell_type": "code",
   "execution_count": 12,
   "id": "df1049b0-9ede-4c86-9f7f-3d4fa188d18d",
   "metadata": {},
   "outputs": [
    {
     "data": {
      "text/plain": [
       "['1', '2', '3', '4', '45', '5']"
      ]
     },
     "execution_count": 12,
     "metadata": {},
     "output_type": "execute_result"
    }
   ],
   "source": [
    "list(map(lambda x : str(x) , l ))"
   ]
  },
  {
   "cell_type": "code",
   "execution_count": 23,
   "id": "0e5172d1-93bd-42a9-a6ff-3673ac5c97fe",
   "metadata": {},
   "outputs": [],
   "source": [
    "## based on the indexes do addition operation\n",
    "1 = [1,2,3,4,5]\n",
    "l2 = [6,7,8,9,10]"
   ]
  },
  {
   "cell_type": "code",
   "execution_count": 24,
   "id": "21e021e0-2067-4160-848c-b350f1260184",
   "metadata": {},
   "outputs": [
    {
     "data": {
      "text/plain": [
       "[7, 9, 11, 13, 15]"
      ]
     },
     "execution_count": 24,
     "metadata": {},
     "output_type": "execute_result"
    }
   ],
   "source": [
    "list(map(lambda x,y :x+y , l1,l2))  ## here x is repping element in l1 and y l2 mapping the fucntion by iterating over all the content of list "
   ]
  },
  {
   "cell_type": "code",
   "execution_count": 25,
   "id": "f888dc50-92c5-40c1-9536-8dec59476cee",
   "metadata": {},
   "outputs": [],
   "source": [
    "f = lambda x,y :x+y   ## lambda function already defined"
   ]
  },
  {
   "cell_type": "code",
   "execution_count": 26,
   "id": "32006792-bde2-4b86-ac5b-f1d533ecc9fc",
   "metadata": {},
   "outputs": [
    {
     "data": {
      "text/plain": [
       "[7, 9, 11, 13, 15]"
      ]
     },
     "execution_count": 26,
     "metadata": {},
     "output_type": "execute_result"
    }
   ],
   "source": [
    "list(map(f , l1,l2))"
   ]
  },
  {
   "cell_type": "code",
   "execution_count": 27,
   "id": "4b14f547-de37-485f-9b0b-feff5995d545",
   "metadata": {},
   "outputs": [],
   "source": [
    "s = \"pwskills\""
   ]
  },
  {
   "cell_type": "code",
   "execution_count": 28,
   "id": "c5e3923e-be92-4057-b49d-e586e7446e1a",
   "metadata": {},
   "outputs": [
    {
     "data": {
      "text/plain": [
       "['P', 'W', 'S', 'K', 'I', 'L', 'L', 'S']"
      ]
     },
     "execution_count": 28,
     "metadata": {},
     "output_type": "execute_result"
    }
   ],
   "source": [
    "list(map(lambda x : x.upper()  , s))"
   ]
  },
  {
   "cell_type": "code",
   "execution_count": 32,
   "id": "4992e79e-b136-47ee-b8cd-5d19d50992f1",
   "metadata": {},
   "outputs": [],
   "source": [
    "from functools import  reduce  ### this function is called from a library"
   ]
  },
  {
   "cell_type": "code",
   "execution_count": 38,
   "id": "601736f1-5883-4de3-b5e7-0de044aadb95",
   "metadata": {},
   "outputs": [],
   "source": [
    "l = [1,2,3,4,5,4]"
   ]
  },
  {
   "cell_type": "code",
   "execution_count": 39,
   "id": "265103e6-71eb-4305-8106-5500ecfffa4c",
   "metadata": {},
   "outputs": [
    {
     "data": {
      "text/plain": [
       "19"
      ]
     },
     "execution_count": 39,
     "metadata": {},
     "output_type": "execute_result"
    }
   ],
   "source": [
    "reduce(lambda x , y : x+y , l) ## reduce functio collapse the entire iterables\n",
    "## it take the x as first and y as second element and proceeds\n",
    "## 1 + 2 = 3, 3+3=6, 6+4=10, 10+5=15, 15+4=19"
   ]
  },
  {
   "cell_type": "code",
   "execution_count": 37,
   "id": "84f5111a-728a-4128-846b-52dfc12036da",
   "metadata": {},
   "outputs": [
    {
     "ename": "TypeError",
     "evalue": "<lambda>() missing 1 required positional argument: 'y'",
     "output_type": "error",
     "traceback": [
      "\u001b[0;31m---------------------------------------------------------------------------\u001b[0m",
      "\u001b[0;31mTypeError\u001b[0m                                 Traceback (most recent call last)",
      "Cell \u001b[0;32mIn[37], line 1\u001b[0m\n\u001b[0;32m----> 1\u001b[0m \u001b[38;5;28;43mlist\u001b[39;49m\u001b[43m(\u001b[49m\u001b[38;5;28;43mmap\u001b[39;49m\u001b[43m(\u001b[49m\u001b[38;5;28;43;01mlambda\u001b[39;49;00m\u001b[43m \u001b[49m\u001b[43mx\u001b[49m\u001b[43m \u001b[49m\u001b[43m,\u001b[49m\u001b[43m \u001b[49m\u001b[43my\u001b[49m\u001b[43m \u001b[49m\u001b[43m:\u001b[49m\u001b[43m \u001b[49m\u001b[43mx\u001b[49m\u001b[38;5;241;43m+\u001b[39;49m\u001b[43my\u001b[49m\u001b[43m \u001b[49m\u001b[43m,\u001b[49m\u001b[43m \u001b[49m\u001b[43ml\u001b[49m\u001b[43m)\u001b[49m\u001b[43m)\u001b[49m\n",
      "\u001b[0;31mTypeError\u001b[0m: <lambda>() missing 1 required positional argument: 'y'"
     ]
    }
   ],
   "source": [
    "list(map(lambda x , y : x+y , l)) ## this won't work because I only have one list added"
   ]
  },
  {
   "cell_type": "code",
   "execution_count": null,
   "id": "25f55769-d343-4a3c-957c-70d784bdfcd6",
   "metadata": {},
   "outputs": [],
   "source": [
    "##Compare to what mapping will do!!!"
   ]
  },
  {
   "cell_type": "code",
   "execution_count": 40,
   "id": "4c4de31e-e669-47b6-b185-bb1449331d50",
   "metadata": {},
   "outputs": [],
   "source": [
    "def add(x,y):\n",
    "    return x+y"
   ]
  },
  {
   "cell_type": "code",
   "execution_count": 24,
   "id": "2ad6ea19-76ac-47f4-98a4-d1e098a4489c",
   "metadata": {},
   "outputs": [
    {
     "data": {
      "text/plain": [
       "19"
      ]
     },
     "execution_count": 24,
     "metadata": {},
     "output_type": "execute_result"
    }
   ],
   "source": [
    "reduce (add , l)"
   ]
  },
  {
   "cell_type": "code",
   "execution_count": 41,
   "id": "fb1225e7-7832-480e-99e7-07b2099aba21",
   "metadata": {},
   "outputs": [
    {
     "ename": "TypeError",
     "evalue": "<lambda>() missing 1 required positional argument: 'z'",
     "output_type": "error",
     "traceback": [
      "\u001b[0;31m---------------------------------------------------------------------------\u001b[0m",
      "\u001b[0;31mTypeError\u001b[0m                                 Traceback (most recent call last)",
      "Cell \u001b[0;32mIn[41], line 1\u001b[0m\n\u001b[0;32m----> 1\u001b[0m \u001b[43mreduce\u001b[49m\u001b[43m(\u001b[49m\u001b[38;5;28;43;01mlambda\u001b[39;49;00m\u001b[43m \u001b[49m\u001b[43mx\u001b[49m\u001b[43m \u001b[49m\u001b[43m,\u001b[49m\u001b[43m \u001b[49m\u001b[43my\u001b[49m\u001b[43m \u001b[49m\u001b[43m,\u001b[49m\u001b[43m \u001b[49m\u001b[43mz\u001b[49m\u001b[43m \u001b[49m\u001b[43m:\u001b[49m\u001b[43m \u001b[49m\u001b[43mx\u001b[49m\u001b[38;5;241;43m+\u001b[39;49m\u001b[43my\u001b[49m\u001b[38;5;241;43m+\u001b[39;49m\u001b[43mz\u001b[49m\u001b[43m \u001b[49m\u001b[43m,\u001b[49m\u001b[43m \u001b[49m\u001b[43ml\u001b[49m\u001b[43m)\u001b[49m\n",
      "\u001b[0;31mTypeError\u001b[0m: <lambda>() missing 1 required positional argument: 'z'"
     ]
    }
   ],
   "source": [
    "reduce(lambda x , y , z : x+y+z , l)\n",
    "## it will not work because reduce only take two argument because it it Iterate in a single step and does not look\n",
    "#for the next until the present instance of the code is executed"
   ]
  },
  {
   "cell_type": "code",
   "execution_count": 26,
   "id": "4ecc4abc-2c96-470d-8c8a-d5bcd768d466",
   "metadata": {},
   "outputs": [
    {
     "data": {
      "text/plain": [
       "[1, 2, 3, 4, 5, 4]"
      ]
     },
     "execution_count": 26,
     "metadata": {},
     "output_type": "execute_result"
    }
   ],
   "source": [
    "l"
   ]
  },
  {
   "cell_type": "code",
   "execution_count": 27,
   "id": "62cf7c23-da82-40ee-b202-d7490601c248",
   "metadata": {},
   "outputs": [
    {
     "ename": "TypeError",
     "evalue": "reduce() of empty iterable with no initial value",
     "output_type": "error",
     "traceback": [
      "\u001b[0;31m---------------------------------------------------------------------------\u001b[0m",
      "\u001b[0;31mTypeError\u001b[0m                                 Traceback (most recent call last)",
      "Cell \u001b[0;32mIn[27], line 1\u001b[0m\n\u001b[0;32m----> 1\u001b[0m \u001b[43mreduce\u001b[49m\u001b[43m(\u001b[49m\u001b[38;5;28;43;01mlambda\u001b[39;49;00m\u001b[43m \u001b[49m\u001b[43mx\u001b[49m\u001b[43m \u001b[49m\u001b[43m,\u001b[49m\u001b[43m \u001b[49m\u001b[43my\u001b[49m\u001b[43m \u001b[49m\u001b[43m:\u001b[49m\u001b[43m \u001b[49m\u001b[43mx\u001b[49m\u001b[38;5;241;43m+\u001b[39;49m\u001b[43my\u001b[49m\u001b[43m \u001b[49m\u001b[43m,\u001b[49m\u001b[43m \u001b[49m\u001b[43m[\u001b[49m\u001b[43m]\u001b[49m\u001b[43m)\u001b[49m\n",
      "\u001b[0;31mTypeError\u001b[0m: reduce() of empty iterable with no initial value"
     ]
    }
   ],
   "source": [
    "reduce(lambda x , y : x+y , [])"
   ]
  },
  {
   "cell_type": "code",
   "execution_count": 28,
   "id": "0b8dd005-d350-410f-afe2-2a099b9c8e28",
   "metadata": {},
   "outputs": [
    {
     "data": {
      "text/plain": [
       "1"
      ]
     },
     "execution_count": 28,
     "metadata": {},
     "output_type": "execute_result"
    }
   ],
   "source": [
    "reduce(lambda x , y : x+y , [1]) ## it is an exceptional case"
   ]
  },
  {
   "cell_type": "code",
   "execution_count": 29,
   "id": "9309dc03-b2b4-4be6-994e-1cdb209f3f7f",
   "metadata": {},
   "outputs": [
    {
     "data": {
      "text/plain": [
       "1"
      ]
     },
     "execution_count": 29,
     "metadata": {},
     "output_type": "execute_result"
    }
   ],
   "source": [
    "reduce(lambda x , y : x*y , [1])"
   ]
  },
  {
   "cell_type": "code",
   "execution_count": 42,
   "id": "c0de5ab4-e4c5-40a6-8195-0bbdf4d19932",
   "metadata": {},
   "outputs": [
    {
     "data": {
      "text/plain": [
       "[1, 2, 3, 4, 5, 4]"
      ]
     },
     "execution_count": 42,
     "metadata": {},
     "output_type": "execute_result"
    }
   ],
   "source": [
    "l   ## Look for the maximum number in the list (like max() function)"
   ]
  },
  {
   "cell_type": "code",
   "execution_count": 43,
   "id": "a257a87f-08c7-492c-afd9-a90f1cbb7d56",
   "metadata": {},
   "outputs": [
    {
     "data": {
      "text/plain": [
       "5"
      ]
     },
     "execution_count": 43,
     "metadata": {},
     "output_type": "execute_result"
    }
   ],
   "source": [
    "reduce(lambda x,y : x if x> y else y , l)"
   ]
  },
  {
   "cell_type": "code",
   "execution_count": 32,
   "id": "5833c6a3-6d0b-4766-80fd-02494e57f951",
   "metadata": {},
   "outputs": [
    {
     "data": {
      "text/plain": [
       "[1, 2, 3, 4, 5, 4]"
      ]
     },
     "execution_count": 32,
     "metadata": {},
     "output_type": "execute_result"
    }
   ],
   "source": [
    "l "
   ]
  },
  {
   "cell_type": "code",
   "execution_count": 45,
   "id": "3e5ee63c-df8d-4ca2-8c7e-c187a97df649",
   "metadata": {},
   "outputs": [
    {
     "data": {
      "text/plain": [
       "[2, 4, 4]"
      ]
     },
     "execution_count": 45,
     "metadata": {},
     "output_type": "execute_result"
    }
   ],
   "source": [
    "list(filter(lambda x : x % 2 ==0 , l)) ## used to sort base on conditions"
   ]
  },
  {
   "cell_type": "code",
   "execution_count": null,
   "id": "41a9c7e4-bb50-488e-89db-635ecdd96efa",
   "metadata": {},
   "outputs": [],
   "source": [
    "## if its not rapped it produce object with specification of where is is stored\n"
   ]
  },
  {
   "cell_type": "code",
   "execution_count": 46,
   "id": "5886b6c8-c840-46c4-ac12-b429aacc55b5",
   "metadata": {},
   "outputs": [
    {
     "data": {
      "text/plain": [
       "[1, 3, 5]"
      ]
     },
     "execution_count": 46,
     "metadata": {},
     "output_type": "execute_result"
    }
   ],
   "source": [
    "list(filter(lambda x : x % 2 !=0 , l))  ## this means only consider and add to list \n",
    "## if remainder of the operation is not 0 (logic for odd numbers)"
   ]
  },
  {
   "cell_type": "code",
   "execution_count": 49,
   "id": "f6f736b0-f815-4874-b45b-14284bbf7d02",
   "metadata": {},
   "outputs": [
    {
     "data": {
      "text/plain": [
       "[1, 3, 5]"
      ]
     },
     "execution_count": 49,
     "metadata": {},
     "output_type": "execute_result"
    }
   ],
   "source": [
    "## lets try\n",
    "list(filter(lambda x : x if x % 2 !=0 else \"\", l)) ## it worked also"
   ]
  },
  {
   "cell_type": "code",
   "execution_count": 50,
   "id": "9029e86d-db6d-4393-ac40-7f2d287ae585",
   "metadata": {},
   "outputs": [],
   "source": [
    "l1 = [-2,4,5,6,-3,-6,-7]"
   ]
  },
  {
   "cell_type": "code",
   "execution_count": 51,
   "id": "6b079de0-59bd-4b38-82e3-cb500752ac41",
   "metadata": {},
   "outputs": [
    {
     "data": {
      "text/plain": [
       "[-2, -3, -6, -7]"
      ]
     },
     "execution_count": 51,
     "metadata": {},
     "output_type": "execute_result"
    }
   ],
   "source": [
    "list(filter(lambda x : x < 0 , l1))"
   ]
  },
  {
   "cell_type": "code",
   "execution_count": 52,
   "id": "253fd96a-fad0-4cf5-95a7-2d763b058560",
   "metadata": {},
   "outputs": [
    {
     "data": {
      "text/plain": [
       "[4, 5, 6]"
      ]
     },
     "execution_count": 52,
     "metadata": {},
     "output_type": "execute_result"
    }
   ],
   "source": [
    "list(filter(lambda x : x >= 0 , l1))"
   ]
  },
  {
   "cell_type": "code",
   "execution_count": 53,
   "id": "37919dae-d4d7-4bab-a1e4-f6cb9d58e251",
   "metadata": {},
   "outputs": [],
   "source": [
    "l2 = [\"sudh\" , \"pwskills\" , \"kumar\" , \"bengalore\" , \"krish\"]"
   ]
  },
  {
   "cell_type": "code",
   "execution_count": 54,
   "id": "18fd3d63-4ee2-4662-b808-18b8442adc28",
   "metadata": {},
   "outputs": [
    {
     "data": {
      "text/plain": [
       "['sudh', 'kumar', 'krish']"
      ]
     },
     "execution_count": 54,
     "metadata": {},
     "output_type": "execute_result"
    }
   ],
   "source": [
    "list(filter(lambda x : len(x) < 6 , l2))"
   ]
  },
  {
   "cell_type": "code",
   "execution_count": null,
   "id": "c5d78d32-bd51-4a69-98a0-e6fbff7094b6",
   "metadata": {},
   "outputs": [],
   "source": []
  }
 ],
 "metadata": {
  "kernelspec": {
   "display_name": "Python 3 (ipykernel)",
   "language": "python",
   "name": "python3"
  },
  "language_info": {
   "codemirror_mode": {
    "name": "ipython",
    "version": 3
   },
   "file_extension": ".py",
   "mimetype": "text/x-python",
   "name": "python",
   "nbconvert_exporter": "python",
   "pygments_lexer": "ipython3",
   "version": "3.10.8"
  }
 },
 "nbformat": 4,
 "nbformat_minor": 5
}
