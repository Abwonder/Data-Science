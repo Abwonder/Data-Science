{
 "cells": [
  {
   "cell_type": "markdown",
   "id": "7f759eb1",
   "metadata": {},
   "source": [
    "## OOPS section assignment"
   ]
  },
  {
   "cell_type": "markdown",
   "id": "5f7b4405",
   "metadata": {},
   "source": [
    "## Question 1"
   ]
  },
  {
   "cell_type": "markdown",
   "id": "17b7320a",
   "metadata": {},
   "source": [
    "Q1. Which function is used to open a file? What are the different modes of opening a file? Explain each mode\n",
    "of file opening."
   ]
  },
  {
   "cell_type": "markdown",
   "id": "48c3a87a",
   "metadata": {},
   "source": [
    "open() is the function used in python to open file\n",
    "\n",
    "Below is the list of the modes of opening file:\n",
    "a. Read (\"r\")\n",
    "b. Append (\"a\")\n",
    "c. Write (\"w\")\n",
    "d. Exclusive (\"x\")\n",
    "e. Updating (+\")\n",
    "f. Text (\"t\")\n",
    "g. Binary (\"b\")\n",
    "\n",
    "\n",
    "The different mode of opening a file are:\n",
    "1. \"r\" -- to open file for reading and output error when the file doesn't exist\n",
    "2. \"a\" -- used to open a file for appending (to add more content) and its creates file if it does not exist\n",
    "3. \"w\" -- it opens file for writing, it also creates one if file does not exist\n",
    "4. \"x\" -- Create - Creates the specified file and thus return error if the file exists\n",
    "5. \"+\"  -- to create file for updating\n",
    "\n",
    "other: this other modes dictate how the files are handled\n",
    "\n",
    "5. \"t\" -- to handle the file in text mode\n",
    "6. \"b\" -- to handle the file in Binary mode (e.g images)\n",
    "\n",
    "Note: Usage is;  open(file, \"mode\") for example open(filename, \"r\")"
   ]
  },
  {
   "cell_type": "markdown",
   "id": "8d9d0eb0",
   "metadata": {},
   "source": [
    "## Question 2\n"
   ]
  },
  {
   "cell_type": "markdown",
   "id": "e869f0bd",
   "metadata": {},
   "source": [
    "Q2. Why close() function is used? Why is it important to close a file?"
   ]
  },
  {
   "cell_type": "markdown",
   "id": "660bbb08",
   "metadata": {},
   "source": [
    "Close() function is used to close an open file to prevent the risk of losing data and this ensures the file is not left open.\n",
    "\n",
    "It is important to close file for the following reasons:\n",
    "1. It prevent vulnerability to data loss.\n",
    "2. It prevent the system from running into open file limit because file handle are limited resources.\n",
    "3. Help to prevent hard-to-debug issues like experiencing corrupt data or running out of file handles.\n",
    "4. Opening too many files without closing can lead to crash\n",
    "5. it help to improve speed of the system as lesser space will be use to single files that large number of open files.\n",
    "6. It is a good programming practice.\n"
   ]
  },
  {
   "cell_type": "markdown",
   "id": "52077a40",
   "metadata": {},
   "source": [
    "### Question 3\n"
   ]
  },
  {
   "cell_type": "markdown",
   "id": "f1f5afa6",
   "metadata": {},
   "source": [
    "Q3. Write a python program to create a text file. Write ‘I want to become a Data Scientist’ in that file. Then\n",
    "close the file. Open this file and read the content of the file."
   ]
  },
  {
   "cell_type": "code",
   "execution_count": 29,
   "id": "20a90cab",
   "metadata": {},
   "outputs": [],
   "source": [
    "## creating files\n",
    "\n",
    "f = open(\"abioye_first_file\", \"w\")  ## opening file for write purposes!!!\n",
    "f.write(\"My first open file and write operation!!!\")\n",
    "f.close()\n",
    "\n",
    "#open and read the file after the appending:\n",
    "\n"
   ]
  },
  {
   "cell_type": "code",
   "execution_count": null,
   "id": "31ac3e53",
   "metadata": {},
   "outputs": [],
   "source": [
    "## reading the file"
   ]
  },
  {
   "cell_type": "code",
   "execution_count": 30,
   "id": "0a543bd5",
   "metadata": {},
   "outputs": [
    {
     "name": "stdout",
     "output_type": "stream",
     "text": [
      "My first open file and write operation!!!\n"
     ]
    }
   ],
   "source": [
    "abioye = open(\"abioye_first_file\", \"r\")  ## open and set mode to read\n",
    "## abioye here serve as reference to the open function\n",
    "\n",
    "\n",
    "print(abioye.read()) ## print out the content of the file"
   ]
  },
  {
   "cell_type": "markdown",
   "id": "d2b44fbc",
   "metadata": {},
   "source": [
    "### Question 4"
   ]
  },
  {
   "cell_type": "markdown",
   "id": "2b8860c9",
   "metadata": {},
   "source": [
    "Q4. Explain the following with python code: read(), readline() and readlines()."
   ]
  },
  {
   "cell_type": "code",
   "execution_count": 31,
   "id": "5c746e0b",
   "metadata": {},
   "outputs": [],
   "source": [
    "## add more lines to the file I initially created\n",
    "file2 = open(\"abioye_first_file\", \"a\")  ##\n",
    "file2.write(\"\\nI am here to learn Data science\\nwith Pwskills Good day to you all\\nNice to practice daily \\nI appreciate\")\n",
    "file2.close()\n"
   ]
  },
  {
   "cell_type": "code",
   "execution_count": 37,
   "id": "4c80c5a3",
   "metadata": {},
   "outputs": [
    {
     "name": "stdout",
     "output_type": "stream",
     "text": [
      "My first open file and write operation!!!\n",
      "I am here to learn Data science\n",
      "with Pwskills Good day to you all\n",
      "Nice to practice daily \n",
      "I appreciate\n"
     ]
    }
   ],
   "source": [
    "### \n",
    "file2 = open(\"abioye_first_file\", \"r\")\n",
    "print(file2.read())\n",
    "file2.close()"
   ]
  },
  {
   "cell_type": "markdown",
   "id": "afa7592c",
   "metadata": {},
   "source": [
    "read() -- read method is used to return content of file base on specified number of bytes from the files.\n",
    "\n",
    "readline() -- readline method returns one line from the file.\n",
    "\n",
    "readlines() -- readlines method returns all lines in the file.\n"
   ]
  },
  {
   "cell_type": "code",
   "execution_count": 57,
   "id": "e49d0b9b",
   "metadata": {},
   "outputs": [
    {
     "name": "stdout",
     "output_type": "stream",
     "text": [
      "My\n",
      " first ope\n",
      "n\n"
     ]
    }
   ],
   "source": [
    "## use of these methods\n",
    "## Read()\n",
    "file2 = open(\"abioye_first_file\", \"r\")\n",
    "print(file2.read(2)) ## print 2 bytes\n",
    "print(file2.read(10)) ## print 10 bytes\n",
    "print(file2.read(1)) ## it continues and does not default back to begining of file\n",
    "file2.close()"
   ]
  },
  {
   "cell_type": "code",
   "execution_count": 55,
   "id": "96aad7bb",
   "metadata": {},
   "outputs": [
    {
     "name": "stdout",
     "output_type": "stream",
     "text": [
      "My first open file and write operation!!!\n",
      "\n",
      "I am here to learn Data science\n",
      "\n",
      "with Pwskills Good day to you all\n",
      "\n"
     ]
    }
   ],
   "source": [
    "# use of Readline()\n",
    "file2 = open(\"abioye_first_file\", \"r\")\n",
    "print(file2.readline()) ## print line 1 by default\n",
    "print(file2.readline())  ## proceed to the next line to print\n",
    "print(file2.readline()) ## proceed to the next line to print\n",
    "file2.close()"
   ]
  },
  {
   "cell_type": "code",
   "execution_count": 58,
   "id": "182c9256",
   "metadata": {},
   "outputs": [
    {
     "name": "stdout",
     "output_type": "stream",
     "text": [
      "['My first open file and write operation!!!\\n', 'I am here to learn Data science\\n', 'with Pwskills Good day to you all\\n', 'Nice to practice daily \\n', 'I appreciate']\n"
     ]
    }
   ],
   "source": [
    "## use of readlines()\n",
    "file2 = open(\"abioye_first_file\", \"r\")\n",
    "print(file2.readlines())  ## reads everything, produce it as list\n",
    "## and each line as element of in the list\n",
    "file2.close()"
   ]
  },
  {
   "cell_type": "markdown",
   "id": "62c300dc",
   "metadata": {},
   "source": [
    "### Question 5"
   ]
  },
  {
   "cell_type": "markdown",
   "id": "f032519f",
   "metadata": {},
   "source": [
    "Q5. Explain why with statement is used with open(). What is the advantage of using with statement and\n",
    "open() together?"
   ]
  },
  {
   "cell_type": "markdown",
   "id": "93e16417",
   "metadata": {},
   "source": [
    "With used with open() -- help to automatically close the file when the file is no longer in use. it is refer to as a manager that oversee and ensure file open file closure. It calls two dunder or magic method \"__enter()__\" and \"__exit()__\"\n",
    "\n",
    "The advantage of using both together is that the closing of opened file is handled automatically and you don't need to bother about it which is a good programing practice and it help improve code efficiency."
   ]
  },
  {
   "cell_type": "markdown",
   "id": "6e0fcb0b",
   "metadata": {},
   "source": [
    "### Question 6"
   ]
  },
  {
   "cell_type": "markdown",
   "id": "5e315ecd",
   "metadata": {},
   "source": [
    "Q6. Explain the write() and writelines() functions. Give a suitable example."
   ]
  },
  {
   "cell_type": "markdown",
   "id": "4aac307b",
   "metadata": {},
   "source": [
    "write() method writes content into file as string without adding extra characters, it takes the content in as strings"
   ]
  },
  {
   "cell_type": "code",
   "execution_count": null,
   "id": "767a520c",
   "metadata": {},
   "outputs": [],
   "source": [
    "#### usage for write()"
   ]
  },
  {
   "cell_type": "code",
   "execution_count": 67,
   "id": "ddebe76b",
   "metadata": {},
   "outputs": [
    {
     "name": "stdout",
     "output_type": "stream",
     "text": [
      "I am enjoying my learning at PWSKILLS\n"
     ]
    }
   ],
   "source": [
    "#write\n",
    "file4 = open(\"file_write_example\", \"w\")\n",
    "file4.write(\"I am enjoying my learning at PWSKILLS\")\n",
    "file4.close()\n",
    "\n",
    "##print to check\n",
    "file4 = open(\"file_write_example\", \"r\")\n",
    "print(file4.read())\n",
    "file4.close()"
   ]
  },
  {
   "cell_type": "code",
   "execution_count": 72,
   "id": "84945fbc",
   "metadata": {},
   "outputs": [
    {
     "name": "stdout",
     "output_type": "stream",
     "text": [
      "I am enjoying my learning at PWSKILLS\n",
      "Today will be great\n",
      "Happy to everyone\n"
     ]
    }
   ],
   "source": [
    "#### usage for writelines()  it handles list\n",
    "file5 = open(\"file_writelines_example\", \"w\")\n",
    "lst = [\"I am enjoying my learning at PWSKILLS\", \"\\nToday will be great\", \"\\nHappy to everyone\"]\n",
    "file5.writelines(lst)\n",
    "file5.close()\n",
    "\n",
    "##print to check\n",
    "file5 = open(\"file_writelines_example\", \"r\")\n",
    "print(file5.read())\n",
    "file5.close()"
   ]
  },
  {
   "cell_type": "code",
   "execution_count": null,
   "id": "56726d4f",
   "metadata": {},
   "outputs": [],
   "source": [
    "#########   The end ###########"
   ]
  },
  {
   "cell_type": "code",
   "execution_count": null,
   "id": "938ba982",
   "metadata": {},
   "outputs": [],
   "source": []
  }
 ],
 "metadata": {
  "kernelspec": {
   "display_name": "Python 3 (ipykernel)",
   "language": "python",
   "name": "python3"
  },
  "language_info": {
   "codemirror_mode": {
    "name": "ipython",
    "version": 3
   },
   "file_extension": ".py",
   "mimetype": "text/x-python",
   "name": "python",
   "nbconvert_exporter": "python",
   "pygments_lexer": "ipython3",
   "version": "3.9.12"
  }
 },
 "nbformat": 4,
 "nbformat_minor": 5
}
