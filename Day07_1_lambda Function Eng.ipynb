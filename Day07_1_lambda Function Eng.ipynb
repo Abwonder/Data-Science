{
 "cells": [
  {
   "cell_type": "markdown",
   "id": "47376d12-754c-4c23-ba8a-10855e0919db",
   "metadata": {},
   "source": [
    "### Working with Lamda function"
   ]
  },
  {
   "cell_type": "code",
   "execution_count": null,
   "id": "3d1138f1-6333-468d-ad41-9c830416f4b9",
   "metadata": {},
   "outputs": [],
   "source": []
  },
  {
   "cell_type": "code",
   "execution_count": 1,
   "id": "3286809f-37f5-41b5-98e5-f7ec53e91e24",
   "metadata": {},
   "outputs": [],
   "source": [
    "## this are assignment\n",
    "n = 3 \n",
    "p = 2"
   ]
  },
  {
   "cell_type": "code",
   "execution_count": 2,
   "id": "294dc779-49ee-4852-93df-5e0ef1cb4f8c",
   "metadata": {},
   "outputs": [],
   "source": [
    "## sample of external function\n",
    "def test(n,p):\n",
    "    return n**p  ## obtain power "
   ]
  },
  {
   "cell_type": "code",
   "execution_count": 3,
   "id": "26fc4c90-2fcf-4d72-996f-f8ca7c3dca6b",
   "metadata": {},
   "outputs": [
    {
     "data": {
      "text/plain": [
       "9"
      ]
     },
     "execution_count": 3,
     "metadata": {},
     "output_type": "execute_result"
    }
   ],
   "source": [
    "test(3,2) "
   ]
  },
  {
   "cell_type": "code",
   "execution_count": 4,
   "id": "6c04dd5a-dc3d-4b2d-96a3-a9bb36c96e90",
   "metadata": {},
   "outputs": [
    {
     "data": {
      "text/plain": [
       "6561"
      ]
     },
     "execution_count": 4,
     "metadata": {},
     "output_type": "execute_result"
    }
   ],
   "source": [
    "test(9,4)"
   ]
  },
  {
   "cell_type": "code",
   "execution_count": 2,
   "id": "10d6fe59-d00b-4ef9-abcd-17c989367f00",
   "metadata": {},
   "outputs": [],
   "source": [
    "## is an anomymous function without name, also called an\n",
    "a = lambda n,p : n**p  # it another way of writing function. it is a function without name\n",
    "## : colon is used to the declare lambda function from the arguments\n"
   ]
  },
  {
   "cell_type": "code",
   "execution_count": 7,
   "id": "6ef4fd8f-ad84-4aa9-981d-c8ba56fff5eb",
   "metadata": {},
   "outputs": [
    {
     "data": {
      "text/plain": [
       "9"
      ]
     },
     "execution_count": 7,
     "metadata": {},
     "output_type": "execute_result"
    }
   ],
   "source": [
    "a(3,2)"
   ]
  },
  {
   "cell_type": "code",
   "execution_count": 8,
   "id": "b4ba5061-a52b-4d5f-87ba-0e487b5eb0b7",
   "metadata": {},
   "outputs": [
    {
     "data": {
      "text/plain": [
       "6561"
      ]
     },
     "execution_count": 8,
     "metadata": {},
     "output_type": "execute_result"
    }
   ],
   "source": [
    "a(9,4)"
   ]
  },
  {
   "cell_type": "code",
   "execution_count": 9,
   "id": "a50c4eb5-7f2a-4a14-9939-ff5304f9f4d5",
   "metadata": {},
   "outputs": [],
   "source": [
    "b = lambda a,j: int(a/j)  ## it is a one liner function "
   ]
  },
  {
   "cell_type": "code",
   "execution_count": 6,
   "id": "c11c59b8-df0e-48ad-8641-77b22eba1e71",
   "metadata": {},
   "outputs": [
    {
     "data": {
      "text/plain": [
       "100"
      ]
     },
     "execution_count": 6,
     "metadata": {},
     "output_type": "execute_result"
    }
   ],
   "source": [
    "b(1000,10) ## no name function created, so b becomes the anchor"
   ]
  },
  {
   "cell_type": "code",
   "execution_count": null,
   "id": "2cbdba44-e005-4942-9ad1-0deb831df602",
   "metadata": {},
   "outputs": [],
   "source": [
    "## Lambda is best one on liner function is needed"
   ]
  },
  {
   "cell_type": "code",
   "execution_count": 15,
   "id": "d2884988-b8fa-4623-8104-ef453ed77bb7",
   "metadata": {},
   "outputs": [],
   "source": [
    "add = lambda x,y : x+y"
   ]
  },
  {
   "cell_type": "code",
   "execution_count": 11,
   "id": "2627c9f8-2788-4845-b498-9e50f78cdfa2",
   "metadata": {},
   "outputs": [
    {
     "data": {
      "text/plain": [
       "268"
      ]
     },
     "execution_count": 11,
     "metadata": {},
     "output_type": "execute_result"
    }
   ],
   "source": [
    "add(234,34)"
   ]
  },
  {
   "cell_type": "code",
   "execution_count": 16,
   "id": "52a5114e-85de-42a9-9e18-481a6ae83562",
   "metadata": {},
   "outputs": [],
   "source": [
    "c_to_f = lambda c : (9/5)*c+32  ## coverter for celsius to farenheit"
   ]
  },
  {
   "cell_type": "code",
   "execution_count": 17,
   "id": "c6fca98f-2fc5-4d36-971e-3c8351e54542",
   "metadata": {},
   "outputs": [
    {
     "data": {
      "text/plain": [
       "93.2"
      ]
     },
     "execution_count": 17,
     "metadata": {},
     "output_type": "execute_result"
    }
   ],
   "source": [
    "c_to_f(34)"
   ]
  },
  {
   "cell_type": "code",
   "execution_count": 18,
   "id": "34909804-4994-4156-af97-cc0a119e415c",
   "metadata": {},
   "outputs": [],
   "source": [
    "max_two = lambda x,y : x if x> y else y ### "
   ]
  },
  {
   "cell_type": "code",
   "execution_count": 19,
   "id": "225d4d12-cbfc-4089-9e2a-ac5215102234",
   "metadata": {},
   "outputs": [
    {
     "data": {
      "text/plain": [
       "56"
      ]
     },
     "execution_count": 19,
     "metadata": {},
     "output_type": "execute_result"
    }
   ],
   "source": [
    "max_two(4,56)"
   ]
  },
  {
   "cell_type": "code",
   "execution_count": 23,
   "id": "48a013c7-0e19-4e84-bd65-3a041bdde07e",
   "metadata": {},
   "outputs": [
    {
     "ename": "SyntaxError",
     "evalue": "expected 'else' after 'if' expression (831384613.py, line 1)",
     "output_type": "error",
     "traceback": [
      "\u001b[0;36m  Cell \u001b[0;32mIn[23], line 1\u001b[0;36m\u001b[0m\n\u001b[0;31m    check_odd = lambda a,b: a if a%2!=0 b elif b%2!=0 else \"No odd number\"\u001b[0m\n\u001b[0m                            ^\u001b[0m\n\u001b[0;31mSyntaxError\u001b[0m\u001b[0;31m:\u001b[0m expected 'else' after 'if' expression\n"
     ]
    }
   ],
   "source": [
    "check_odd = lambda (a,b): for i in (a,b)  a%2!=0 b elif b%2!=0 else \"No odd number\" "
   ]
  },
  {
   "cell_type": "code",
   "execution_count": 20,
   "id": "feafa8c9-4458-4306-9d3c-b50fde75601c",
   "metadata": {},
   "outputs": [],
   "source": [
    "s = \"pwskills\""
   ]
  },
  {
   "cell_type": "code",
   "execution_count": 27,
   "id": "6659b856-9c5b-41ed-8a66-dce955ee9dbd",
   "metadata": {},
   "outputs": [],
   "source": [
    "check_odd = lambda a: \"Odd number alert\" if a%2!=0 else \"Not odd number\" "
   ]
  },
  {
   "cell_type": "code",
   "execution_count": 28,
   "id": "f5993ca1-447a-4c59-9f14-fefcaccd9657",
   "metadata": {},
   "outputs": [
    {
     "data": {
      "text/plain": [
       "'Odd number alert'"
      ]
     },
     "execution_count": 28,
     "metadata": {},
     "output_type": "execute_result"
    }
   ],
   "source": [
    "check_odd(5)"
   ]
  },
  {
   "cell_type": "code",
   "execution_count": 29,
   "id": "edcf646c-a22e-491c-9e1f-fc103bc88fba",
   "metadata": {},
   "outputs": [
    {
     "data": {
      "text/plain": [
       "'No odd number'"
      ]
     },
     "execution_count": 29,
     "metadata": {},
     "output_type": "execute_result"
    }
   ],
   "source": [
    "check_odd(10)"
   ]
  },
  {
   "cell_type": "code",
   "execution_count": 21,
   "id": "35f5e50e-a521-4eab-9b13-a31f57dcd339",
   "metadata": {},
   "outputs": [],
   "source": [
    "len_st = lambda s : len(s)"
   ]
  },
  {
   "cell_type": "code",
   "execution_count": 22,
   "id": "0c3daf87-f9fe-45c2-8c0a-523a7425b6c1",
   "metadata": {},
   "outputs": [
    {
     "data": {
      "text/plain": [
       "8"
      ]
     },
     "execution_count": 22,
     "metadata": {},
     "output_type": "execute_result"
    }
   ],
   "source": [
    "len_st(s)"
   ]
  },
  {
   "cell_type": "code",
   "execution_count": null,
   "id": "35673773-ff49-456e-9adb-62b0c88c22bd",
   "metadata": {},
   "outputs": [],
   "source": []
  }
 ],
 "metadata": {
  "kernelspec": {
   "display_name": "Python 3 (ipykernel)",
   "language": "python",
   "name": "python3"
  },
  "language_info": {
   "codemirror_mode": {
    "name": "ipython",
    "version": 3
   },
   "file_extension": ".py",
   "mimetype": "text/x-python",
   "name": "python",
   "nbconvert_exporter": "python",
   "pygments_lexer": "ipython3",
   "version": "3.10.8"
  }
 },
 "nbformat": 4,
 "nbformat_minor": 5
}
