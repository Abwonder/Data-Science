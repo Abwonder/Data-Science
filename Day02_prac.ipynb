{
 "cells": [
  {
   "cell_type": "code",
   "execution_count": 6,
   "id": "5294cb82-8389-4722-978d-012e3b70e7d2",
   "metadata": {},
   "outputs": [
    {
     "name": "stdout",
     "output_type": "stream",
     "text": [
      "10\n"
     ]
    }
   ],
   "source": [
    "a=10   # this is an integer\n",
    "print(a)  # it prints out when stated"
   ]
  },
  {
   "cell_type": "markdown",
   "id": "b45d216e-80be-44f5-bba5-54596c61bbb8",
   "metadata": {},
   "source": [
    "## Help function on python is     shift+tab"
   ]
  },
  {
   "cell_type": "code",
   "execution_count": 6,
   "id": "b915758f-f337-47cb-a954-5505f24af717",
   "metadata": {},
   "outputs": [
    {
     "data": {
      "text/plain": [
       "0"
      ]
     },
     "execution_count": 6,
     "metadata": {},
     "output_type": "execute_result"
    }
   ],
   "source": [
    "int()"
   ]
  },
  {
   "attachments": {
    "ed671cc2-a243-4fff-9162-93004176e5e9.png": {
     "image/png": "[encoded data removed]"
    }
   },
   "cell_type": "markdown",
   "id": "91cf3d36-9000-4edc-8580-285e7e6334aa",
   "metadata": {},
   "source": [
    "![image.png](attachment:ed671cc2-a243-4fff-9162-93004176e5e9.png)\n",
    "from the above int() --  checked with the function a shift+tab\n"
   ]
  },
  {
   "cell_type": "code",
   "execution_count": 4,
   "id": "93b37c69-322a-447e-ae5e-9942037dce84",
   "metadata": {},
   "outputs": [
    {
     "data": {
      "text/plain": [
       "0"
      ]
     },
     "execution_count": 4,
     "metadata": {},
     "output_type": "execute_result"
    }
   ],
   "source": [
    "# with no input in this statement it prints 0\n",
    "int()"
   ]
  },
  {
   "cell_type": "code",
   "execution_count": 7,
   "id": "358efa8d-24a7-498b-9a7b-09177f3fcb57",
   "metadata": {},
   "outputs": [
    {
     "name": "stdout",
     "output_type": "stream",
     "text": [
      "hello world\n",
      "123\n"
     ]
    }
   ],
   "source": [
    "''' print statement, how to define print statment in different way '''\n",
    "\n",
    "\n",
    "print(\"hello world\")\n",
    "\n",
    "print(123)"
   ]
  },
  {
   "cell_type": "code",
   "execution_count": 13,
   "id": "a9fc3c88-c211-4a51-96c4-ad801fcf72f4",
   "metadata": {},
   "outputs": [
    {
     "name": "stdout",
     "output_type": "stream",
     "text": [
      "My age is 32\n",
      "My age is: 32\n",
      "My name is Abioye and my age is 32\n"
     ]
    }
   ],
   "source": [
    "## the different ways\n",
    "#1.\n",
    "age=32\n",
    "\n",
    "print(\"My age is\",age)\n",
    "\n",
    "#2.\n",
    "\n",
    "print(f\"My age is: {age}\")   ## its called f-strings\n",
    "\n",
    "#3. format --- understanding index, numbers in python starts from 0\n",
    "\n",
    "name = \"Abioye\"\n",
    "age = 32\n",
    "\n",
    "print(\"My name is {} and my age is {}\".format(name, age))   ### new I just learnt this!!!! order is important in this"
   ]
  },
  {
   "cell_type": "code",
   "execution_count": 19,
   "id": "25d36232-3ef4-492c-9b9b-e3efee9e8ad2",
   "metadata": {},
   "outputs": [
    {
     "name": "stdout",
     "output_type": "stream",
     "text": [
      "My name is Abioye and my age is 32\n",
      "\n",
      "\n",
      "My name is Abioye and my age is 32\n"
     ]
    }
   ],
   "source": [
    "## using place holder\n",
    "\n",
    "print(\"My name is {firstname} and my age is {firstage}\".format(firstname = name, firstage = age))   #applied placeholder\n",
    "\n",
    "print(\"\\n\")\n",
    "\n",
    "print(\"My name is {firstname} and my age is {firstage}\".format(firstage = age, firstname = name))  #arrangement "
   ]
  },
  {
   "cell_type": "code",
   "execution_count": 32,
   "id": "147fc8cc-549d-4282-984b-91d0f160e1d0",
   "metadata": {},
   "outputs": [
    {
     "name": "stdout",
     "output_type": "stream",
     "text": [
      "<class 'int'>\n",
      "My age is 32 and I have completed: my degree of BE with the name Abioye Oyatoye\n",
      "\n",
      "My age is 32 and I have completed: my degree of BE with the name Abioye Oyatoye\n",
      "\n",
      "My age is 32 and I have completed: my degree of BE with the name Abioye Oyatoye\n",
      "\n",
      "My age is 32 and I have completed: my degree of BE with the name Abioye Oyatoye\n"
     ]
    }
   ],
   "source": [
    "#practice\n",
    "name = \"Abioye Oyatoye\"\n",
    "age = 32\n",
    "degree = \"BE\"\n",
    "print(type(age))\n",
    "\n",
    "print(\"My age is {} and I have completed: my degree of {} with the name {}\".format(age,degree,name))\n",
    "\n",
    "##another way\n",
    "\n",
    "print(\"\\nMy age is {age} and I have completed: my degree of {degree} with the name {name}\".format(age=age, degree=degree, name=name))\n",
    "\n",
    "##Another way\n",
    "\n",
    "print(f\"\\nMy age is {age} and I have completed: my degree of {degree} with the name {name}\")\n",
    "\n",
    "## Another way to use the print statement\n",
    "\n",
    "print(\"\\nMy age is \" + str(age) + \" and I have completed: my degree of \" + degree + \" with the name \" + name)\n",
    "\n",
    "\n"
   ]
  },
  {
   "cell_type": "markdown",
   "id": "f519745d-c3fd-4c7c-8b5f-17840c8bbe2a",
   "metadata": {},
   "source": [
    "## Control Flow\n",
    "### Decision Making Statments\n",
    "    * It is kind fo making decision during occured situation of program execution and action can be taken according to specified conditions.\n",
    "    * Structture of decision making evaluate several expressions that provide True pf False as a result.\n",
    "    * It is up to you decide which type of actioon want to take and execute the statements based upon True or False.\n",
    "\n",
    "**These are several topics of decision making which going to be discussed below:**\n",
    "    1. **if**\n",
    "    2. **if else**\n",
    "    3. **if elif else**\n",
    "    4. **Nested if**\n",
    "    5. **Single Statement Suites**\n"
   ]
  },
  {
   "cell_type": "code",
   "execution_count": 34,
   "id": "582a1b9a-0bef-46c6-adce-2abc6c2e5219",
   "metadata": {},
   "outputs": [
    {
     "name": "stdout",
     "output_type": "stream",
     "text": [
      "You are eligible to vote\n"
     ]
    },
    {
     "data": {
      "text/plain": [
       "False"
      ]
     },
     "execution_count": 34,
     "metadata": {},
     "output_type": "execute_result"
    }
   ],
   "source": [
    "## if statement\n",
    "age = 18\n",
    "\n",
    "if age >= 18:\n",
    "    print(\"You are eligible to vote\")\n",
    "\n",
    "    \n",
    "## 2. example\n",
    "\n",
    "age = 18\n",
    "\n",
    "if age < 18:\n",
    "    print(\"You are eligible to vote\") ## this block will not be executed\n",
    "18<18  ##boolean outcome    \n",
    "\n"
   ]
  },
  {
   "cell_type": "code",
   "execution_count": 40,
   "id": "8c5b1f29-74bb-43a0-ac4b-7078f27566b4",
   "metadata": {},
   "outputs": [
    {
     "name": "stdin",
     "output_type": "stream",
     "text": [
      "Enter the name abioye\n"
     ]
    },
    {
     "name": "stdout",
     "output_type": "stream",
     "text": [
      "My name is abioye\n"
     ]
    },
    {
     "name": "stdin",
     "output_type": "stream",
     "text": [
      "Enter your age:  32\n"
     ]
    },
    {
     "name": "stdout",
     "output_type": "stream",
     "text": [
      "My age is 32\n"
     ]
    }
   ],
   "source": [
    "## using input functions!!!\n",
    "name = input(\"Enter the name\")\n",
    "print(f'My name is {name}')  ## using the f\"string format!!!\n",
    "\n",
    "\n",
    "## input alway produce strings  so for number entered you typecast\n",
    "\n",
    "age = int(input(\"Enter your age: \"))\n",
    "\n",
    "print(f\"My age is {age}\")\n",
    "\n",
    "\n",
    "\n"
   ]
  },
  {
   "cell_type": "code",
   "execution_count": 41,
   "id": "37b22a94-ebbb-493a-b789-42f42ce7e4a3",
   "metadata": {},
   "outputs": [
    {
     "data": {
      "text/plain": [
       "'abioye'"
      ]
     },
     "execution_count": 41,
     "metadata": {},
     "output_type": "execute_result"
    }
   ],
   "source": [
    "name"
   ]
  },
  {
   "cell_type": "code",
   "execution_count": 43,
   "id": "fd96ab29-be3c-4733-b1f1-b5189b585bc1",
   "metadata": {},
   "outputs": [
    {
     "name": "stdout",
     "output_type": "stream",
     "text": [
      "<class 'int'>\n"
     ]
    }
   ],
   "source": [
    "age\n",
    "print(type(age))"
   ]
  },
  {
   "cell_type": "code",
   "execution_count": 46,
   "id": "d162cb14-2610-49b5-b11e-2e9daee1fd00",
   "metadata": {},
   "outputs": [
    {
     "name": "stdin",
     "output_type": "stream",
     "text": [
      "Enter your age:  12\n"
     ]
    },
    {
     "name": "stdout",
     "output_type": "stream",
     "text": [
      "We have not defined your category yet, come back later!!!\n"
     ]
    }
   ],
   "source": [
    "## Practice\n",
    "## Take a input of age\n",
    "## Check whether age >=18 and age<=45\n",
    "## Display a message you are young blood\n",
    "\n",
    "age = int(input(\"Enter your age: \"))\n",
    "\n",
    "if age >=18 and age<=45:\n",
    "    print(\"You are a young blood\")\n",
    "else:\n",
    "    print(\"We have not defined your category yet, come back later!!!\")\n"
   ]
  },
  {
   "cell_type": "code",
   "execution_count": 47,
   "id": "2a81b4ba-b590-4702-aeeb-f28fd7698750",
   "metadata": {},
   "outputs": [
    {
     "data": {
      "text/plain": [
       "True"
      ]
     },
     "execution_count": 47,
     "metadata": {},
     "output_type": "execute_result"
    }
   ],
   "source": [
    "## Explanation \n",
    "25>=18"
   ]
  },
  {
   "cell_type": "code",
   "execution_count": 48,
   "id": "0357e0e6-fc53-439d-a63d-4d2299bbb9f0",
   "metadata": {},
   "outputs": [
    {
     "data": {
      "text/plain": [
       "True"
      ]
     },
     "execution_count": 48,
     "metadata": {},
     "output_type": "execute_result"
    }
   ],
   "source": [
    "25<=45"
   ]
  },
  {
   "cell_type": "code",
   "execution_count": 50,
   "id": "07115e11-f91f-48a2-b665-d688038fa6a5",
   "metadata": {},
   "outputs": [
    {
     "data": {
      "text/plain": [
       "True"
      ]
     },
     "execution_count": 50,
     "metadata": {},
     "output_type": "execute_result"
    }
   ],
   "source": [
    "True and True"
   ]
  },
  {
   "cell_type": "code",
   "execution_count": null,
   "id": "f2264288-fc3b-4796-8075-7ab377c4cd1d",
   "metadata": {},
   "outputs": [],
   "source": [
    "## Above explains the internal workings of the code I just wrote!!!"
   ]
  },
  {
   "cell_type": "code",
   "execution_count": null,
   "id": "af408242-648b-41a1-813d-e793da3b09b6",
   "metadata": {},
   "outputs": [
    {
     "name": "stdin",
     "output_type": "stream",
     "text": [
      "Enter price of product:  3000\n"
     ]
    },
    {
     "name": "stdout",
     "output_type": "stream",
     "text": [
      "You get a discount of 20%, your new price is 2400.0\n"
     ]
    }
   ],
   "source": [
    "## mall - input the product price\n",
    "## product > 1000 naira 20%off\n",
    "## product <=1000 naira gets 30% discount\n",
    "## print product price!!!\n",
    "\n",
    "price_of_product = int(input(\"Enter price of product: \"))\n",
    "\n",
    "if price_of_product > 1000:\n",
    "    new_price = price_of_product*((100-20)/100)\n",
    "    print(\"You get a discount of 20%, your new price is {}\".format(new_price))\n",
    "elif price_of_product <= 1000:\n",
    "        new_price = price_of_product*((100-30)/100)\n",
    "        print(\"You get a discount of 30%, your new price is {}\".format(new_price))\n",
    "          "
   ]
  },
  {
   "cell_type": "code",
   "execution_count": null,
   "id": "b4c2a0a5-8ae2-45ed-ac5b-4d0c15dc6576",
   "metadata": {},
   "outputs": [],
   "source": [
    "#### mall - input the product price\n",
    "## product > 3000 naira 20%off\n",
    "## print the product price after removing the discount\n",
    "## product >=2000 and <=3000 naira gets 30% discount\n",
    "## print the product price after removing the discount\n",
    "## product <=1000 and <=2000 40% off\n",
    "## print the product price after removing the discount"
   ]
  },
  {
   "cell_type": "code",
   "execution_count": 21,
   "id": "e25899b0-b509-4ada-97b7-8c1819fad3ae",
   "metadata": {},
   "outputs": [
    {
     "name": "stdin",
     "output_type": "stream",
     "text": [
      "Enter price of product:  2999\n"
     ]
    },
    {
     "name": "stdout",
     "output_type": "stream",
     "text": [
      "You get additional gift\n",
      "You get a discount of 30%, your new price is 2099.3\n"
     ]
    }
   ],
   "source": [
    "price_of_product = int(input(\"Enter price of product: \"))\n",
    "\n",
    "if price_of_product <=1000 and price_of_product <= 2000:\n",
    "    print(\"You get a discount of 20%, your new price is {}\".format(price_of_product*0.6))\n",
    "elif price_of_product >=2000 and price_of_product <= 3000:\n",
    "    if price_of_product == 2999:    # This is called if nested!!!\n",
    "        print(\"You get additional gift\")\n",
    "    print(\"You get a discount of 30%, your new price is {}\".format(round(price_of_product*0.7, 3)))\n",
    "elif price_of_product > 3000:\n",
    "    print(\"You get a discount of 30%, your new price is {}\".format(price_of_product*0.8))"
   ]
  },
  {
   "cell_type": "code",
   "execution_count": 22,
   "id": "1ae7c247-ddf6-4834-aebd-f23699973971",
   "metadata": {},
   "outputs": [
    {
     "data": {
      "text/plain": [
       "True"
      ]
     },
     "execution_count": 22,
     "metadata": {},
     "output_type": "execute_result"
    }
   ],
   "source": [
    "## Comprison operator\n",
    "True == True"
   ]
  },
  {
   "cell_type": "code",
   "execution_count": 24,
   "id": "4fb32f77-86d0-43bd-916f-53ea6f9e92ad",
   "metadata": {},
   "outputs": [
    {
     "name": "stdin",
     "output_type": "stream",
     "text": [
      " Enter the number 10000\n"
     ]
    },
    {
     "name": "stdout",
     "output_type": "stream",
     "text": [
      "Go home\n"
     ]
    }
   ],
   "source": [
    "## Single Statement\n",
    "val = int(input(\"Enter the number\"))\n",
    "if(val<=999):print(\"Value is less than equal to 999\")    ## take note of one liner code statement\n",
    "else:\n",
    "    print(\"Go home\")\n",
    "          "
   ]
  },
  {
   "cell_type": "markdown",
   "id": "941f9fb3-9b04-4402-aaf8-46aa937335fd",
   "metadata": {},
   "source": [
    "## Loop statements\n",
    "* while loop\n",
    "* for loop\n",
    "* nested loop\n",
    "* loop control\n",
    "    * break\n",
    "    * continue\n",
    "    * pass\n"
   ]
  },
  {
   "cell_type": "code",
   "execution_count": 25,
   "id": "b2d4cea4-5992-494c-b938-f3ee0a26d001",
   "metadata": {},
   "outputs": [
    {
     "name": "stdout",
     "output_type": "stream",
     "text": [
      "You are good to still be working Gov't jobs\n",
      "You are good to still be working Gov't jobs\n",
      "You are good to still be working Gov't jobs\n",
      "You are good to still be working Gov't jobs\n",
      "You are good to still be working Gov't jobs\n",
      "You are good to still be working Gov't jobs\n",
      "You are good to still be working Gov't jobs\n",
      "You are good to still be working Gov't jobs\n",
      "You are good to still be working Gov't jobs\n",
      "You are good to still be working Gov't jobs\n",
      "You are good to still be working Gov't jobs\n",
      "You are good to still be working Gov't jobs\n",
      "You are good to still be working Gov't jobs\n",
      "You are good to still be working Gov't jobs\n",
      "You are good to still be working Gov't jobs\n",
      "You are good to still be working Gov't jobs\n",
      "You are good to still be working Gov't jobs\n",
      "You are good to still be working Gov't jobs\n",
      "You are good to still be working Gov't jobs\n",
      "You are good to still be working Gov't jobs\n",
      "You are good to still be working Gov't jobs\n",
      "You are good to still be working Gov't jobs\n",
      "You are good to still be working Gov't jobs\n",
      "You are good to still be working Gov't jobs\n",
      "You are good to still be working Gov't jobs\n",
      "You are good to still be working Gov't jobs\n",
      "You are good to still be working Gov't jobs\n",
      "You are good to still be working Gov't jobs\n",
      "You are good to still be working Gov't jobs\n",
      "You are good to still be working Gov't jobs\n",
      "You are good to still be working Gov't jobs\n",
      "You are good to still be working Gov't jobs\n",
      "You are good to still be working Gov't jobs\n",
      "You are good to still be working Gov't jobs\n",
      "You are good to still be working Gov't jobs\n",
      "You are good to still be working Gov't jobs\n",
      "You are now above 61 years old its time to retire\n"
     ]
    }
   ],
   "source": [
    "## while loop\n",
    "\n",
    "age_worker = 25\n",
    "\n",
    "while age_worker <= 60:\n",
    "    print(\"You are good to still be working Gov't jobs\")\n",
    "    age_worker += 1\n",
    "print(\"You are now {} years old its, time to retire!!!\".format(age_worker))\n"
   ]
  },
  {
   "cell_type": "code",
   "execution_count": 26,
   "id": "96b08371-849b-441c-9127-fa5f8b0c4782",
   "metadata": {},
   "outputs": [
    {
     "name": "stdout",
     "output_type": "stream",
     "text": [
      "You are good to still be working Gov't jobs\n",
      "You are good to still be working Gov't jobs\n",
      "You are good to still be working Gov't jobs\n",
      "You are good to still be working Gov't jobs\n",
      "You are good to still be working Gov't jobs\n",
      "You are good to still be working Gov't jobs\n",
      "You are good to still be working Gov't jobs\n",
      "You are good to still be working Gov't jobs\n",
      "You are good to still be working Gov't jobs\n",
      "You are good to still be working Gov't jobs\n",
      "You are good to still be working Gov't jobs\n",
      "You are good to still be working Gov't jobs\n",
      "You are good to still be working Gov't jobs\n",
      "You are good to still be working Gov't jobs\n",
      "You are good to still be working Gov't jobs\n",
      "You are good to still be working Gov't jobs\n",
      "You are good to still be working Gov't jobs\n",
      "You are good to still be working Gov't jobs\n",
      "You are good to still be working Gov't jobs\n",
      "You are good to still be working Gov't jobs\n",
      "You are good to still be working Gov't jobs\n",
      "You are good to still be working Gov't jobs\n",
      "You are good to still be working Gov't jobs\n",
      "You are good to still be working Gov't jobs\n",
      "You are good to still be working Gov't jobs\n",
      "You are good to still be working Gov't jobs\n",
      "You are good to still be working Gov't jobs\n",
      "You are good to still be working Gov't jobs\n",
      "You are good to still be working Gov't jobs\n",
      "You are good to still be working Gov't jobs\n",
      "You are good to still be working Gov't jobs\n",
      "You are good to still be working Gov't jobs\n",
      "You are good to still be working Gov't jobs\n",
      "You are good to still be working Gov't jobs\n",
      "You are good to still be working Gov't jobs\n",
      "You are good to still be working Gov't jobs\n",
      "You are now 61 years old its, time to retire!!!\n"
     ]
    }
   ],
   "source": [
    "##\n",
    "## while loop including else block\n",
    "\n",
    "age_worker = 25\n",
    "\n",
    "while age_worker <= 60:\n",
    "    print(\"You are good to still be working Gov't jobs\")\n",
    "    age_worker += 1\n",
    "else:\n",
    "    print(\"You are now {} years old its, time to retire!!!\".format(age_worker))"
   ]
  },
  {
   "cell_type": "code",
   "execution_count": 28,
   "id": "b93cc2d2-48c2-49f9-8749-d8ae16096daa",
   "metadata": {},
   "outputs": [
    {
     "name": "stdout",
     "output_type": "stream",
     "text": [
      "You can still withdraw\n",
      "current balance is 900000\n",
      "You can still withdraw\n",
      "current balance is 800000\n",
      "You can still withdraw\n",
      "current balance is 700000\n",
      "You can still withdraw\n",
      "current balance is 600000\n",
      "You can still withdraw\n",
      "current balance is 500000\n",
      "You can still withdraw\n",
      "current balance is 400000\n",
      "You can still withdraw\n",
      "current balance is 300000\n",
      "You can still withdraw\n",
      "current balance is 200000\n",
      "You can still withdraw\n",
      "current balance is 100000\n",
      "You can still withdraw\n",
      "current balance is 0\n",
      "Balance low you can't make further withdrawal\n"
     ]
    }
   ],
   "source": [
    "##Example with Automated Teller Machine\n",
    "## ATM with 1,000,000 Naira starting balance on monday morning\n",
    "\n",
    "start_bal = 1000000\n",
    "\n",
    "while start_bal > 5000:\n",
    "    print(\"You can still withdraw\")\n",
    "    start_bal -= 100000\n",
    "    print(f\"current balance is {start_bal}\")\n",
    "else:\n",
    "    print(\"Balance low you can't make further withdrawal\")\n"
   ]
  },
  {
   "cell_type": "markdown",
   "id": "b3f1c74b-61e1-4d40-9963-053580e283a3",
   "metadata": {},
   "source": [
    "## While Loop"
   ]
  },
  {
   "cell_type": "code",
   "execution_count": 30,
   "id": "f10aab2d-d131-4aeb-b5f7-b66f67a887cf",
   "metadata": {},
   "outputs": [
    {
     "name": "stdout",
     "output_type": "stream",
     "text": [
      "1000\n",
      "900\n",
      "800\n",
      "700\n",
      "600\n",
      "500\n",
      "400\n",
      "300\n",
      "200\n",
      "100\n",
      "Reload the machine with more funds!!\n"
     ]
    }
   ],
   "source": [
    "## Atm machine with 1000 naira\n",
    "\n",
    "total_amount = 1000\n",
    "while total_amount !=0:\n",
    "    print(total_amount)\n",
    "    total_amount=total_amount-100\n",
    "else:\n",
    "    print(\"Reload the machine with more funds!!\")\n",
    "    "
   ]
  },
  {
   "cell_type": "markdown",
   "id": "43b9060c-6466-495c-b4d9-6608b1948bb0",
   "metadata": {},
   "source": [
    "## For Loop"
   ]
  },
  {
   "cell_type": "code",
   "execution_count": 33,
   "id": "ebf4b25f-0786-4d93-9c94-ddd0e153c56a",
   "metadata": {},
   "outputs": [],
   "source": [
    "lst = [\"Abioye\", 1, 2 , 3, 4, \"Apple\", \"banana\"]\n"
   ]
  },
  {
   "cell_type": "code",
   "execution_count": 35,
   "id": "fc4b11ca-bdb4-4d8e-a544-55e87df5ccab",
   "metadata": {},
   "outputs": [
    {
     "data": {
      "text/plain": [
       "list"
      ]
     },
     "execution_count": 35,
     "metadata": {},
     "output_type": "execute_result"
    }
   ],
   "source": [
    "type(lst)"
   ]
  },
  {
   "cell_type": "code",
   "execution_count": 36,
   "id": "7a8ff42d-f40a-43b6-8bad-e2345d741a74",
   "metadata": {},
   "outputs": [
    {
     "name": "stdout",
     "output_type": "stream",
     "text": [
      "<class 'list'>\n"
     ]
    }
   ],
   "source": [
    "print(type(lst))"
   ]
  },
  {
   "cell_type": "code",
   "execution_count": 37,
   "id": "5a6e2f58-9627-45e2-972e-2e8f72372974",
   "metadata": {},
   "outputs": [
    {
     "name": "stdout",
     "output_type": "stream",
     "text": [
      "Abioye\n",
      "1\n",
      "2\n",
      "3\n",
      "4\n",
      "Apple\n",
      "banana\n"
     ]
    }
   ],
   "source": [
    "for x in lst:\n",
    "    print(x)"
   ]
  },
  {
   "cell_type": "code",
   "execution_count": 41,
   "id": "03b61533-a95e-44c8-8001-2763b1abb71a",
   "metadata": {},
   "outputs": [
    {
     "name": "stdout",
     "output_type": "stream",
     "text": [
      "Femi\n",
      "Iyabo\n",
      "Segun\n",
      "Lara\n",
      "Gbenga\n",
      "Abioye\n",
      "Abioye is the student taking the Data Science Master course with PWskills\n"
     ]
    }
   ],
   "source": [
    "## second exercise\n",
    "\n",
    "name_students = [\"Femi\", \"Iyabo\", \"Segun\", \"Lara\", \"Gbenga\", \"Abioye\"]\n",
    "\n",
    "for name in name_students:\n",
    "    print(name)\n",
    "    if name == \"Abioye\":\n",
    "        print(\"{} is the student taking the Data Science Master course with PWskills\".format(name))"
   ]
  },
  {
   "cell_type": "code",
   "execution_count": 13,
   "id": "4d845b57-e21e-4058-81c0-0f30a1e94c13",
   "metadata": {},
   "outputs": [
    {
     "name": "stdout",
     "output_type": "stream",
     "text": [
      "Femi\n",
      "Iyabo\n",
      "Segun\n",
      "Lara\n",
      "Gbenga\n",
      "Abioye\n",
      "Abioye is the student taking the Data Science Master course with PWskills"
     ]
    }
   ],
   "source": [
    "## second exercise\n",
    "\n",
    "name_students = [\"Femi\", \"Iyabo\", \"Segun\", \"Lara\", \"Gbenga\", \"Abioye\"]\n",
    "\n",
    "for name in name_students:\n",
    "    print(name)\n",
    "    if name == \"Abioye\":\n",
    "        print(f\"{name} is the student taking the Data Science Master course with PWskills\", end=\"\")"
   ]
  },
  {
   "cell_type": "code",
   "execution_count": 12,
   "id": "d6e0401e-fc7e-48a4-aca9-fb9b4aa5936b",
   "metadata": {},
   "outputs": [
    {
     "name": "stdout",
     "output_type": "stream",
     "text": [
      "mango"
     ]
    }
   ],
   "source": [
    "## Modiification and exception\n",
    "\n",
    "fruit = \"mango\"\n",
    "for x in fruit:\n",
    "    print(x, end=\"\")  #iterate over the characters that makes up the word!!!\n"
   ]
  },
  {
   "cell_type": "code",
   "execution_count": 13,
   "id": "c17b9331-fdf2-4bd9-a844-b268d2f95ea5",
   "metadata": {},
   "outputs": [
    {
     "data": {
      "text/plain": [
       "'n'"
      ]
     },
     "execution_count": 13,
     "metadata": {},
     "output_type": "execute_result"
    }
   ],
   "source": [
    "fruit[2]"
   ]
  },
  {
   "cell_type": "markdown",
   "id": "03527f2b-265d-4dab-b532-a29c47039c8f",
   "metadata": {},
   "source": [
    "## using Range function"
   ]
  },
  {
   "cell_type": "code",
   "execution_count": 16,
   "id": "b84bfca2-f686-4527-a051-d3d90170ccf2",
   "metadata": {},
   "outputs": [],
   "source": [
    "n=6\n"
   ]
  },
  {
   "cell_type": "code",
   "execution_count": 15,
   "id": "094f53d6-907b-416d-8f45-b25d7d40d260",
   "metadata": {},
   "outputs": [
    {
     "name": "stdout",
     "output_type": "stream",
     "text": [
      "1\n",
      "2\n",
      "3\n",
      "4\n"
     ]
    }
   ],
   "source": [
    "## the function takes 3 parameter(start, end, interval)\n",
    "## Start is where the iteration begins\n",
    "## end is the maximum number to reach which is excuted as -1, so for 6 the iteration will stop at 6-1=5. stops at 5\n",
    "## if interval is excluded it defaults to 1\n",
    "\n",
    "for i in range(1,n):\n",
    "    print(i)\n"
   ]
  },
  {
   "cell_type": "code",
   "execution_count": 18,
   "id": "24521796-9057-4384-9689-fb54cc6f9fee",
   "metadata": {},
   "outputs": [
    {
     "name": "stdout",
     "output_type": "stream",
     "text": [
      "1\n",
      "3\n",
      "5\n"
     ]
    }
   ],
   "source": [
    "for i in range(1,6, 2):  ## adding interval\n",
    "    print(i)"
   ]
  },
  {
   "cell_type": "code",
   "execution_count": 89,
   "id": "0521bc96-ce28-4cfd-9c65-8f887a3fda17",
   "metadata": {},
   "outputs": [
    {
     "name": "stdout",
     "output_type": "stream",
     "text": [
      "    * \n",
      "   * * \n",
      "  * * * \n",
      " * * * * \n",
      "* * * * * \n"
     ]
    }
   ],
   "source": [
    "### Nested Loops \n",
    "\n",
    "n=5\n",
    "for i in range(0, n):   ##Note: the value of n (in this case 6) is registered already so,\n",
    "    print(\" \"*(n-1), end=\"\")  ##\n",
    "    n-=1 ## the reduction in \"n\" does not have impact on the existing n(6) for loop iteration\n",
    "    for j in range(0, i+1): ## this cater for the printing of the stars\n",
    "        print(\"* \", end=\"\")  ## this help print the instance of each loop on the same line\n",
    "    print(\"\\r\") ### this takes us to new line below\n",
    "    "
   ]
  },
  {
   "cell_type": "code",
   "execution_count": 92,
   "id": "2954e67c-4e41-4e91-9029-c5be7b02fb23",
   "metadata": {},
   "outputs": [
    {
     "name": "stdout",
     "output_type": "stream",
     "text": [
      "    * \n",
      "   * * \n",
      "  * * * \n",
      " * * * * \n",
      "* * * * * \n"
     ]
    }
   ],
   "source": [
    "n=5 \n",
    "for i in range(0, n): ## The n is registered for the loop already\n",
    "    print(\" \"*(n-1), end=\"\")  ## prints the spaces and will accept more printed character on the same line\n",
    "    print(\"* \"*(i+1))\n",
    "    n-=1 "
   ]
  },
  {
   "cell_type": "code",
   "execution_count": 4,
   "id": "6a9a9f93-b976-4be3-be9c-6d490e9cada1",
   "metadata": {},
   "outputs": [],
   "source": [
    "##loop controls\n",
    "## Break and Continue\n",
    "name_students = [\"Femi\", \"Iyabo\",  \"Abioye\", \"Segun\", \"Lara\", \"Gbenga\"]\n"
   ]
  },
  {
   "cell_type": "code",
   "execution_count": 8,
   "id": "7729f138-a93c-43b4-a002-46376279077b",
   "metadata": {},
   "outputs": [
    {
     "name": "stdout",
     "output_type": "stream",
     "text": [
      "This name: Femi was found too!!\n",
      "This name: Iyabo was found too!!\n",
      "Abioye was found in the list of names\n"
     ]
    }
   ],
   "source": [
    "for name in name_students:\n",
    "    if name == \"Abioye\":  ## it runs on untill this condition is true\n",
    "        print(\"Abioye was found in the list of names\")\n",
    "        break  ## it stops the loop here and close it!!!\n",
    "        print(\"What is happening here!!\")\n",
    "    print(f'This name: {name} was found too!!')"
   ]
  },
  {
   "cell_type": "code",
   "execution_count": 9,
   "id": "8adbcef7-bc15-4366-b7dc-36b3c2f84f49",
   "metadata": {},
   "outputs": [
    {
     "name": "stdout",
     "output_type": "stream",
     "text": [
      "This name: Femi was found too!!\n",
      "This name: Iyabo was found too!!\n",
      "Abioye was found in the list of names\n",
      "What is happening here!!\n",
      "This name: Abioye was found too!!\n",
      "This name: Segun was found too!!\n",
      "This name: Lara was found too!!\n",
      "This name: Gbenga was found too!!\n"
     ]
    }
   ],
   "source": [
    "## testing for pass\n",
    "for name in name_students:\n",
    "    if name == \"Abioye\":  ## it runs on untill this condition is true\n",
    "        print(\"Abioye was found in the list of names\")\n",
    "        pass  ## in continues the loop like nothing happened\n",
    "        print(\"What is happening here!!\")\n",
    "    print(f'This name: {name} was found too!!')"
   ]
  },
  {
   "cell_type": "code",
   "execution_count": 10,
   "id": "d66bb6cb-8471-4750-9ffe-f7906fde2ae9",
   "metadata": {},
   "outputs": [
    {
     "name": "stdout",
     "output_type": "stream",
     "text": [
      "This name: Femi was found too!!\n",
      "This name: Iyabo was found too!!\n",
      "Abioye was found in the list of names\n",
      "This name: Segun was found too!!\n",
      "This name: Lara was found too!!\n",
      "This name: Gbenga was found too!!\n"
     ]
    }
   ],
   "source": [
    "## testing for pass\n",
    "for name in name_students:\n",
    "    if name == \"Abioye\":  ## it runs on untill this condition is true\n",
    "        print(\"Abioye was found in the list of names\")\n",
    "        continue  ## stops the loop instance and start from the begining of the loop\n",
    "        print(\"What is happening here!!\")\n",
    "    print(f'This name: {name} was found too!!')"
   ]
  },
  {
   "cell_type": "code",
   "execution_count": null,
   "id": "4392c43e-173b-4ec1-8f96-bde2581eb153",
   "metadata": {},
   "outputs": [],
   "source": []
  }
 ],
 "metadata": {
  "kernelspec": {
   "display_name": "Python 3 (ipykernel)",
   "language": "python",
   "name": "python3"
  },
  "language_info": {
   "codemirror_mode": {
    "name": "ipython",
    "version": 3
   },
   "file_extension": ".py",
   "mimetype": "text/x-python",
   "name": "python",
   "nbconvert_exporter": "python",
   "pygments_lexer": "ipython3",
   "version": "3.10.8"
  }
 },
 "nbformat": 4,
 "nbformat_minor": 5
}
