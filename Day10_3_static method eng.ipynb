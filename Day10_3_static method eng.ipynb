{
 "cells": [
  {
   "cell_type": "markdown",
   "id": "b88b0f60",
   "metadata": {},
   "source": [
    "## Static Method Lesson"
   ]
  },
  {
   "cell_type": "code",
   "execution_count": 1,
   "id": "73250e39-b555-4022-a1d3-5da9ca7d53bb",
   "metadata": {},
   "outputs": [],
   "source": [
    "class pwskills:\n",
    "    def student_details(self , name , mail_id , number) : ## __init__ constructor was not used\n",
    "        print(name , mail_id, number)"
   ]
  },
  {
   "cell_type": "code",
   "execution_count": 2,
   "id": "bf403f35-2dab-4e1b-863c-42488c20d405",
   "metadata": {},
   "outputs": [],
   "source": [
    "pw = pwskills()  ## NOte: object of class created with no element inside the class functions"
   ]
  },
  {
   "cell_type": "code",
   "execution_count": 3,
   "id": "bd805a04-6bfc-4159-8e66-94774d72f46b",
   "metadata": {},
   "outputs": [
    {
     "name": "stdout",
     "output_type": "stream",
     "text": [
      "sudh sudh@gmail.com 91345353\n"
     ]
    }
   ],
   "source": [
    "pw.student_details(\"sudh\" , \"sudh@gmail.com\" , 91345353) ## our declaration goes with the function \n",
    "## it implement the function "
   ]
  },
  {
   "cell_type": "code",
   "execution_count": 5,
   "id": "7d866032-5c0e-4db2-9d58-1855164e5834",
   "metadata": {},
   "outputs": [],
   "source": [
    "## creat function that does not depend on a class\n",
    "class pwskills1:\n",
    "    def student_details(self , name , mail_id , number) : \n",
    "        print(name , mail_id, number)\n",
    "        \n",
    "    @staticmethod   ## to create independent object within a class\n",
    "    def mentor_class(list_mentor) : ## not linked to class with pointers e.g self and cls\n",
    "        print(list_mentor)\n",
    "        \n",
    "    def mentor(self , mentor_list) :  ## this is an instance method, has self.\n",
    "        print(mentor_list)"
   ]
  },
  {
   "cell_type": "code",
   "execution_count": 6,
   "id": "afc43311-50a8-4a95-8e66-22828d8dd3eb",
   "metadata": {},
   "outputs": [],
   "source": [
    "pw1 = pwskills1()  ## creating object of class pwskill1"
   ]
  },
  {
   "cell_type": "code",
   "execution_count": 7,
   "id": "103dac56-44e3-4ced-867d-46f4f17adac4",
   "metadata": {},
   "outputs": [
    {
     "name": "stdout",
     "output_type": "stream",
     "text": [
      "['krish', 'sudh']\n"
     ]
    }
   ],
   "source": [
    "## calling static method with the help of class object\n",
    "pw1.mentor([\"krish\" , \"sudh\"])  ## it is not reference to existing instances on the class"
   ]
  },
  {
   "cell_type": "code",
   "execution_count": 10,
   "id": "1f2085b9-0dba-40a0-bf18-9621289ffca0",
   "metadata": {},
   "outputs": [
    {
     "name": "stdout",
     "output_type": "stream",
     "text": [
      "['sudh', 'naik']\n"
     ]
    }
   ],
   "source": [
    "## accessing the function through class object == pw1\n",
    "pw1.mentor_class([\"sudh\", \"naik\"]) ## takes new object and process them separately"
   ]
  },
  {
   "cell_type": "code",
   "execution_count": 11,
   "id": "10d5501a-4460-4f4b-b391-f2fb0dfa032b",
   "metadata": {},
   "outputs": [
    {
     "name": "stdout",
     "output_type": "stream",
     "text": [
      "['sudh', 'kris']\n"
     ]
    }
   ],
   "source": [
    "## accessing the function thru class == pwskill1\n",
    "pwskills1.mentor_class([\"sudh\" , \"kris\"]) ## same here"
   ]
  },
  {
   "cell_type": "markdown",
   "id": "1a8636ee",
   "metadata": {},
   "source": [
    "Static method is suitable for function that does not require changes becuase it improves memory usage.\n",
    "\n",
    "static method is always available to all classes created and does not create duplicate in memories like instances that will be used to save different information\n",
    "\n",
    "Availability of static method to the other method/function is dependet on its possition in the coded. Note it is only available to code/function/methods that comes after it in the code block"
   ]
  },
  {
   "cell_type": "code",
   "execution_count": 13,
   "id": "444133f4-1160-45e5-81d0-13fea6b91279",
   "metadata": {},
   "outputs": [],
   "source": [
    "class pwskills1:\n",
    "    def student_details(self , name , mail_id , number) : \n",
    "        print(name , mail_id, number)\n",
    "        \n",
    "    @staticmethod\n",
    "    def mentor_mail_id(mail_id):\n",
    "        print(mail_id)\n",
    "        \n",
    "    @staticmethod\n",
    "    def mentor_class(list_mentor) : \n",
    "        print(list_mentor)\n",
    "        pwskills1.mentor_mail_id([\"krish@gmail.com\" , \"sudh@gmail.com\"]) ## calling static within\n",
    "        #static method class possible too\n",
    "        \n",
    "    @classmethod\n",
    "    def class_name(cls,class_name):\n",
    "        cls.mentor_class([\"sudh\" , \"krish\"])  ### access static method from class method\n",
    "        \n",
    "    def mentor(self , mentor_list) :\n",
    "        print(mentor_list)\n",
    "        self.mentor_class([\"krish\" , \"sudh\"])  ## static class accessed within instance method"
   ]
  },
  {
   "cell_type": "code",
   "execution_count": 13,
   "id": "de2ef83d-6a58-42dd-8692-63634e377e37",
   "metadata": {},
   "outputs": [],
   "source": [
    "pw1 = pwskills1()"
   ]
  },
  {
   "cell_type": "code",
   "execution_count": 14,
   "id": "2f84a6fa-726d-4395-9c1d-d743e6cb7274",
   "metadata": {},
   "outputs": [
    {
     "name": "stdout",
     "output_type": "stream",
     "text": [
      "mohan mohan@gmail.com 9675657657\n"
     ]
    }
   ],
   "source": [
    "pw1.student_details(\"mohan\" , \"mohan@gmail.com\" , 9675657657)"
   ]
  },
  {
   "cell_type": "code",
   "execution_count": 15,
   "id": "e21b63cc-fbd1-4147-b184-347bc17a97e9",
   "metadata": {},
   "outputs": [
    {
     "name": "stdout",
     "output_type": "stream",
     "text": [
      "['krish@gmail.com', 'sudh@gmail.com']\n"
     ]
    }
   ],
   "source": [
    "pw1.mentor_mail_id([\"krish@gmail.com\" , \"sudh@gmail.com\"])"
   ]
  },
  {
   "cell_type": "code",
   "execution_count": 16,
   "id": "b964530b-d86e-4dd5-a239-ac2dcd58d750",
   "metadata": {},
   "outputs": [
    {
     "name": "stdout",
     "output_type": "stream",
     "text": [
      "['sudh', 'krish']\n",
      "['krish@gmail.com', 'sudh@gmail.com']\n"
     ]
    }
   ],
   "source": [
    "pw1.class_name(\"data science masters\")"
   ]
  },
  {
   "cell_type": "code",
   "execution_count": 17,
   "id": "d2edacf3-91cb-44de-a8b6-b802e6e1442b",
   "metadata": {},
   "outputs": [
    {
     "name": "stdout",
     "output_type": "stream",
     "text": [
      "['krish@gmail.com', 'sudh@gmail.com']\n"
     ]
    }
   ],
   "source": [
    "pwskills1.mentor_mail_id([\"krish@gmail.com\" , \"sudh@gmail.com\"])"
   ]
  },
  {
   "cell_type": "code",
   "execution_count": null,
   "id": "6a9a4622-8602-4ff9-bf89-c9ebbbb37a8b",
   "metadata": {},
   "outputs": [],
   "source": []
  }
 ],
 "metadata": {
  "kernelspec": {
   "display_name": "Python 3 (ipykernel)",
   "language": "python",
   "name": "python3"
  },
  "language_info": {
   "codemirror_mode": {
    "name": "ipython",
    "version": 3
   },
   "file_extension": ".py",
   "mimetype": "text/x-python",
   "name": "python",
   "nbconvert_exporter": "python",
   "pygments_lexer": "ipython3",
   "version": "3.9.12"
  }
 },
 "nbformat": 4,
 "nbformat_minor": 5
}
