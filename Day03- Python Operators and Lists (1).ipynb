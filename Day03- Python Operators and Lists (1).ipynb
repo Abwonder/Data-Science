{
 "cells": [
  {
   "cell_type": "markdown",
   "id": "f0c6558b-3dcd-4001-a68c-1a626809b437",
   "metadata": {},
   "source": [
    "## Logical Operators\n",
    "1. And\n",
    "2. or\n",
    "3. not"
   ]
  },
  {
   "cell_type": "code",
   "execution_count": 374,
   "id": "1e30a87a-8605-4a02-8527-1851b57a0766",
   "metadata": {},
   "outputs": [
    {
     "data": {
      "text/plain": [
       "True"
      ]
     },
     "execution_count": 374,
     "metadata": {},
     "output_type": "execute_result"
    }
   ],
   "source": [
    "True and True"
   ]
  },
  {
   "cell_type": "code",
   "execution_count": 197,
   "id": "029bb214-9389-4154-908b-2cd7b0f0bca5",
   "metadata": {},
   "outputs": [
    {
     "data": {
      "text/plain": [
       "True"
      ]
     },
     "execution_count": 197,
     "metadata": {},
     "output_type": "execute_result"
    }
   ],
   "source": [
    "True or False"
   ]
  },
  {
   "cell_type": "code",
   "execution_count": 198,
   "id": "97d08556-b26a-4262-ab53-652ab53b5c22",
   "metadata": {},
   "outputs": [
    {
     "name": "stdout",
     "output_type": "stream",
     "text": [
      "Defined value of START = True\n",
      "Defined value of STOP = False \n",
      "\n",
      "Defined value of START = True\n",
      "Value of STOP by negating START= False \n",
      "\n",
      "Value of START by negating STOP = True\n",
      "Defined value of STOP = False \n",
      "\n"
     ]
    }
   ],
   "source": [
    "# Lets define two variables having boolean values True and False-\n",
    "START = True\n",
    "STOP = False\n",
    "\n",
    "# Print the values as it is\n",
    "print(f\"Defined value of START = {START}\")\n",
    "print(f\"Defined value of STOP = {STOP} \\n\")\n",
    "\n",
    "# if can also be written as - \n",
    "print(f\"Defined value of START = {START}\")\n",
    "print(f\"Value of STOP by negating START= {not START} \\n\")\n",
    "\n",
    "# alternatively -\n",
    "print(f\"Value of START by negating STOP = {not STOP}\")\n",
    "print(f\"Defined value of STOP = {STOP} \\n\")"
   ]
  },
  {
   "cell_type": "code",
   "execution_count": 199,
   "id": "547a7b4e-6006-463c-b798-4512b59c0f40",
   "metadata": {},
   "outputs": [
    {
     "data": {
      "text/plain": [
       "False"
      ]
     },
     "execution_count": 199,
     "metadata": {},
     "output_type": "execute_result"
    }
   ],
   "source": [
    "not True"
   ]
  },
  {
   "cell_type": "code",
   "execution_count": 200,
   "id": "434d1b72-f9b7-493e-a2e6-40b917f1e7d5",
   "metadata": {},
   "outputs": [
    {
     "data": {
      "text/plain": [
       "True"
      ]
     },
     "execution_count": 200,
     "metadata": {},
     "output_type": "execute_result"
    }
   ],
   "source": [
    "not int(bool(0))"
   ]
  },
  {
   "cell_type": "code",
   "execution_count": 201,
   "id": "0647c1af-5715-46fd-875c-e699bb55909d",
   "metadata": {},
   "outputs": [
    {
     "data": {
      "text/plain": [
       "False"
      ]
     },
     "execution_count": 201,
     "metadata": {},
     "output_type": "execute_result"
    }
   ],
   "source": [
    "not int(bool(1))"
   ]
  },
  {
   "cell_type": "code",
   "execution_count": 202,
   "id": "9bb6bbbc-a8be-4ee4-8d62-025cc5dc156f",
   "metadata": {},
   "outputs": [
    {
     "data": {
      "text/plain": [
       "False"
      ]
     },
     "execution_count": 202,
     "metadata": {},
     "output_type": "execute_result"
    }
   ],
   "source": [
    "not 1"
   ]
  },
  {
   "cell_type": "code",
   "execution_count": 203,
   "id": "35bc68b1-ff9f-432a-9059-bf2e01abddc9",
   "metadata": {},
   "outputs": [
    {
     "data": {
      "text/plain": [
       "True"
      ]
     },
     "execution_count": 203,
     "metadata": {},
     "output_type": "execute_result"
    }
   ],
   "source": [
    "not 0"
   ]
  },
  {
   "cell_type": "code",
   "execution_count": 204,
   "id": "ab058358-e42d-4578-8368-38bdc1d665a6",
   "metadata": {},
   "outputs": [
    {
     "data": {
      "text/plain": [
       "False"
      ]
     },
     "execution_count": 204,
     "metadata": {},
     "output_type": "execute_result"
    }
   ],
   "source": [
    "not 1000"
   ]
  },
  {
   "cell_type": "code",
   "execution_count": 205,
   "id": "b573261e-b585-476d-a647-2510fce1bbd8",
   "metadata": {},
   "outputs": [
    {
     "data": {
      "text/plain": [
       "False"
      ]
     },
     "execution_count": 205,
     "metadata": {},
     "output_type": "execute_result"
    }
   ],
   "source": [
    "not -1"
   ]
  },
  {
   "cell_type": "code",
   "execution_count": 206,
   "id": "4a5dda46-77de-4b21-93fa-d4149f422a8d",
   "metadata": {},
   "outputs": [
    {
     "name": "stdout",
     "output_type": "stream",
     "text": [
      "Defined value of START = 1\n",
      "Defined value of STOP = 0 \n",
      "\n",
      "Defined value of START = 1\n",
      "Value of STOP by negating START= 0 \n",
      "\n",
      "Value of START by negating STOP = 1\n",
      "Defined value of STOP = 0 \n",
      "\n"
     ]
    }
   ],
   "source": [
    "START = 1\n",
    "STOP = 0\n",
    "\n",
    "# Print the values as it is\n",
    "print(f\"Defined value of START = {START}\")\n",
    "print(f\"Defined value of STOP = {STOP} \\n\")\n",
    "\n",
    "# if can also be written as - \n",
    "print(f\"Defined value of START = {START}\")\n",
    "print(f\"Value of STOP by negating START= {int(not START)} \\n\")\n",
    "\n",
    "# alternatively -\n",
    "print(f\"Value of START by negating STOP = {int(not STOP)}\")\n",
    "print(f\"Defined value of STOP = {STOP} \\n\")"
   ]
  },
  {
   "cell_type": "code",
   "execution_count": 207,
   "id": "279671b9-8e4a-491f-b3b6-1c8ece64b6ba",
   "metadata": {},
   "outputs": [
    {
     "name": "stdout",
     "output_type": "stream",
     "text": [
      "boolean value of no. 0 is False\n",
      "boolean value of no. 1 is True\n",
      "negation of 0 is True and negation of 1 is False\n",
      "\n",
      "#------------------------#\n",
      "\n"
     ]
    }
   ],
   "source": [
    "zero = 0\n",
    "one = 1\n",
    "\n",
    "print(f\"boolean value of no. {zero} is {bool(zero)}\")\n",
    "print(f\"boolean value of no. {one} is {bool(one)}\")\n",
    "print(f\"negation of {zero} is {not zero} and negation of {one} is {not one}\")\n",
    "print(\"\\n#------------------------#\\n\")"
   ]
  },
  {
   "cell_type": "code",
   "execution_count": 208,
   "id": "38f72ca1-6cfc-4c15-a3a9-b3a9baaa37e0",
   "metadata": {},
   "outputs": [
    {
     "data": {
      "text/plain": [
       "False"
      ]
     },
     "execution_count": 208,
     "metadata": {},
     "output_type": "execute_result"
    }
   ],
   "source": [
    "not 5"
   ]
  },
  {
   "cell_type": "code",
   "execution_count": 209,
   "id": "0fc6b745-cd56-45ee-8331-0d49394318be",
   "metadata": {},
   "outputs": [
    {
     "name": "stdout",
     "output_type": "stream",
     "text": [
      "boolean value of no. -5 is True\n",
      "boolean value of no. 5 is True\n",
      "negation of -5 is False and negation of 5 is False\n",
      "\n",
      "#------------------------#\n",
      "\n"
     ]
    }
   ],
   "source": [
    "Some_negative_integer = -5\n",
    "Some_positive_integer = 5\n",
    "\n",
    "print(f\"boolean value of no. {Some_negative_integer} is {bool(Some_negative_integer)}\")\n",
    "print(f\"boolean value of no. {Some_positive_integer} is {bool(Some_positive_integer)}\")\n",
    "print(f\"negation of {Some_negative_integer} is {not Some_negative_integer} \\\n",
    "and negation of {Some_positive_integer} is {not Some_positive_integer}\")\n",
    "\n",
    "print(\"\\n#------------------------#\\n\")"
   ]
  },
  {
   "cell_type": "code",
   "execution_count": 210,
   "id": "d5070091-a523-4fa6-8b3d-f65fddcb17d9",
   "metadata": {},
   "outputs": [
    {
     "name": "stdout",
     "output_type": "stream",
     "text": [
      "boolean value of no. -5.99 is True\n",
      "boolean value of no. 5.6 is True\n",
      "negation of -5.99 is False and negation of 5.6 is False\n"
     ]
    }
   ],
   "source": [
    "Some_negative_float = -5.99\n",
    "Some_positive_float = 5.6\n",
    "\n",
    "print(f\"boolean value of no. {Some_negative_float} is {bool(Some_negative_float)}\")\n",
    "print(f\"boolean value of no. {Some_positive_float} is {bool(Some_positive_float)}\")\n",
    "print(f\"negation of {Some_negative_float} is {not Some_negative_float} \\\n",
    "and negation of {Some_positive_float} is {not Some_positive_float}\")"
   ]
  },
  {
   "cell_type": "markdown",
   "id": "90d5f14a-dfcb-46d9-9a20-52a9d01be373",
   "metadata": {},
   "source": [
    "## Logical And\n"
   ]
  },
  {
   "cell_type": "code",
   "execution_count": 211,
   "id": "0b1fbd07-3094-407c-83c7-2adefa999573",
   "metadata": {},
   "outputs": [
    {
     "name": "stdout",
     "output_type": "stream",
     "text": [
      "Dish contains VEGETABLES: True\n",
      "Dish contains SALT: False\n",
      "Hence dish prepared was good: False\n",
      "\n"
     ]
    }
   ],
   "source": [
    "VEGETABLES = True\n",
    "SALT = False\n",
    "DISH = VEGETABLES and SALT\n",
    "\n",
    "print(f\"Dish contains VEGETABLES: {VEGETABLES}\")\n",
    "print(f\"Dish contains SALT: {SALT}\")\n",
    "print(f\"Hence dish prepared was good: {DISH}\\n\")"
   ]
  },
  {
   "cell_type": "code",
   "execution_count": 212,
   "id": "7411d1ce-9095-4dc7-8b2d-736e46af56db",
   "metadata": {},
   "outputs": [
    {
     "data": {
      "text/plain": [
       "True"
      ]
     },
     "execution_count": 212,
     "metadata": {},
     "output_type": "execute_result"
    }
   ],
   "source": [
    "not(False) * True"
   ]
  },
  {
   "cell_type": "code",
   "execution_count": 213,
   "id": "00005a41-3da2-435b-b526-69e82ee478c8",
   "metadata": {},
   "outputs": [
    {
     "data": {
      "text/plain": [
       "0"
      ]
     },
     "execution_count": 213,
     "metadata": {},
     "output_type": "execute_result"
    }
   ],
   "source": [
    "False * (not(False))"
   ]
  },
  {
   "cell_type": "code",
   "execution_count": 214,
   "id": "eb77690c-99bd-43f7-b82b-a2ba4c121ab9",
   "metadata": {},
   "outputs": [
    {
     "data": {
      "text/plain": [
       "True"
      ]
     },
     "execution_count": 214,
     "metadata": {},
     "output_type": "execute_result"
    }
   ],
   "source": [
    "not(True) * False"
   ]
  },
  {
   "cell_type": "code",
   "execution_count": 215,
   "id": "f005a05c-b4cd-4c28-8db2-921639523960",
   "metadata": {},
   "outputs": [
    {
     "data": {
      "text/plain": [
       "0"
      ]
     },
     "execution_count": 215,
     "metadata": {},
     "output_type": "execute_result"
    }
   ],
   "source": [
    "False * False"
   ]
  },
  {
   "cell_type": "code",
   "execution_count": 216,
   "id": "1729e8b0-2465-40c4-8e09-ea694fcd47de",
   "metadata": {},
   "outputs": [
    {
     "data": {
      "text/plain": [
       "True"
      ]
     },
     "execution_count": 216,
     "metadata": {},
     "output_type": "execute_result"
    }
   ],
   "source": [
    "not False * False"
   ]
  },
  {
   "cell_type": "code",
   "execution_count": 217,
   "id": "29120b48-ef57-41b6-9903-375cac47ba2f",
   "metadata": {},
   "outputs": [
    {
     "data": {
      "text/plain": [
       "9"
      ]
     },
     "execution_count": 217,
     "metadata": {},
     "output_type": "execute_result"
    }
   ],
   "source": [
    "(1+2)*3"
   ]
  },
  {
   "cell_type": "code",
   "execution_count": 218,
   "id": "a8c1a12e-4f15-40fb-bb3e-a42440e5258d",
   "metadata": {},
   "outputs": [
    {
     "data": {
      "text/plain": [
       "True"
      ]
     },
     "execution_count": 218,
     "metadata": {},
     "output_type": "execute_result"
    }
   ],
   "source": [
    "not(False)*False == True\n"
   ]
  },
  {
   "cell_type": "code",
   "execution_count": 219,
   "id": "25e32fa3-717a-48ec-a2ea-e045ddc8b305",
   "metadata": {},
   "outputs": [
    {
     "name": "stdout",
     "output_type": "stream",
     "text": [
      "0\n"
     ]
    }
   ],
   "source": [
    "print((not(False)) * False)\n"
   ]
  },
  {
   "cell_type": "code",
   "execution_count": 220,
   "id": "54defb67-5f25-4520-99a3-d9d577f01f0d",
   "metadata": {},
   "outputs": [
    {
     "data": {
      "text/plain": [
       "9.2"
      ]
     },
     "execution_count": 220,
     "metadata": {},
     "output_type": "execute_result"
    }
   ],
   "source": [
    "(2*3+40)/5"
   ]
  },
  {
   "cell_type": "code",
   "execution_count": 221,
   "id": "c61bb1f8-d320-49ff-bf7a-b395ac57dcf0",
   "metadata": {},
   "outputs": [
    {
     "data": {
      "text/plain": [
       "True"
      ]
     },
     "execution_count": 221,
     "metadata": {},
     "output_type": "execute_result"
    }
   ],
   "source": [
    "not(False * True)"
   ]
  },
  {
   "cell_type": "code",
   "execution_count": 222,
   "id": "b47cde99-2c2e-4cd1-907a-cc5fe45566b2",
   "metadata": {},
   "outputs": [
    {
     "data": {
      "text/plain": [
       "False"
      ]
     },
     "execution_count": 222,
     "metadata": {},
     "output_type": "execute_result"
    }
   ],
   "source": [
    "not(1)"
   ]
  },
  {
   "cell_type": "code",
   "execution_count": 223,
   "id": "625b9829-32d9-4334-94d6-1f25b4bc2e18",
   "metadata": {},
   "outputs": [
    {
     "data": {
      "text/plain": [
       "True"
      ]
     },
     "execution_count": 223,
     "metadata": {},
     "output_type": "execute_result"
    }
   ],
   "source": [
    "not False * True == True"
   ]
  },
  {
   "cell_type": "markdown",
   "id": "bc4944b4-2a89-4011-957c-e5c45e2d95ce",
   "metadata": {},
   "source": [
    "### 4.1.2 Equality Operators\n",
    "\n",
    "Following operations are present in python for equlity check operation-\n",
    "\n",
    "|Operators|Meaning|\n",
    "|-|-|\n",
    "|**is**|***a is b*** returns true if variable/identifiers a and b *points* to the *same object*|\n",
    "|**is not**|***a is not b*** returns true if variable/identifiers a and b *points* to the *different object*|\n",
    "|**==**|***a == b*** returns true if variable/identifiers a and b has same value|\n",
    "|**!=**|***a != b*** returns true if variable/identifiers a and b has different value|"
   ]
  },
  {
   "cell_type": "code",
   "execution_count": 224,
   "id": "707ab96b-bf88-46fe-b943-411614852bfa",
   "metadata": {},
   "outputs": [],
   "source": [
    "lst_a=[1,2,3,4]\n",
    "lst_b=[1,2,3,4]\n",
    "\n"
   ]
  },
  {
   "cell_type": "code",
   "execution_count": 225,
   "id": "6010182f-3b87-42e2-8290-ecaa33a01c61",
   "metadata": {},
   "outputs": [
    {
     "name": "stdout",
     "output_type": "stream",
     "text": [
      "139718889510592\n",
      "139718888539072\n"
     ]
    }
   ],
   "source": [
    "print(id(lst_a))\n",
    "print(id(lst_b))\n"
   ]
  },
  {
   "cell_type": "code",
   "execution_count": 226,
   "id": "70d155e3-89c4-446e-9a5a-3be206e4a02a",
   "metadata": {},
   "outputs": [
    {
     "data": {
      "text/plain": [
       "False"
      ]
     },
     "execution_count": 226,
     "metadata": {},
     "output_type": "execute_result"
    }
   ],
   "source": [
    "lst_a is lst_b"
   ]
  },
  {
   "cell_type": "code",
   "execution_count": 227,
   "id": "feae066a-f81e-46d6-abc3-cc70b06688a1",
   "metadata": {},
   "outputs": [],
   "source": [
    "lst_a=[1,2,3,4]\n",
    "lst_b=lst_a"
   ]
  },
  {
   "cell_type": "code",
   "execution_count": 228,
   "id": "fb0b041d-548a-4ffa-9cc1-54029c440b2f",
   "metadata": {},
   "outputs": [
    {
     "name": "stdout",
     "output_type": "stream",
     "text": [
      "139718889399040\n",
      "139718889399040\n"
     ]
    }
   ],
   "source": [
    "print(id(lst_a))\n",
    "print(id(lst_b))"
   ]
  },
  {
   "cell_type": "code",
   "execution_count": 229,
   "id": "81803c44-3bd2-4e60-80da-b3a933b843de",
   "metadata": {},
   "outputs": [
    {
     "data": {
      "text/plain": [
       "True"
      ]
     },
     "execution_count": 229,
     "metadata": {},
     "output_type": "execute_result"
    }
   ],
   "source": [
    "lst_a is lst_b"
   ]
  },
  {
   "cell_type": "code",
   "execution_count": 230,
   "id": "725fcac1-417c-4d3d-b7a7-eb9a18e4b93c",
   "metadata": {},
   "outputs": [
    {
     "data": {
      "text/plain": [
       "True"
      ]
     },
     "execution_count": 230,
     "metadata": {},
     "output_type": "execute_result"
    }
   ],
   "source": [
    "lst_a=[1,2,3,4]\n",
    "lst_b=[1,2,3,4]\n",
    "\n",
    "lst_a is not lst_b"
   ]
  },
  {
   "cell_type": "code",
   "execution_count": 231,
   "id": "bac61815-a684-44d9-8df8-3ae1d93f8133",
   "metadata": {},
   "outputs": [
    {
     "data": {
      "text/plain": [
       "True"
      ]
     },
     "execution_count": 231,
     "metadata": {},
     "output_type": "execute_result"
    }
   ],
   "source": [
    "lst_a == lst_b"
   ]
  },
  {
   "cell_type": "code",
   "execution_count": 232,
   "id": "7c34ecf8-4fcb-4fe1-ad9c-41f969c98f7a",
   "metadata": {},
   "outputs": [],
   "source": [
    "a=2\n",
    "b=2"
   ]
  },
  {
   "cell_type": "code",
   "execution_count": 233,
   "id": "749daa12-507c-4e97-aa24-1dd8dbc096bb",
   "metadata": {},
   "outputs": [
    {
     "name": "stdout",
     "output_type": "stream",
     "text": [
      "139719506166032\n",
      "139719506166032\n"
     ]
    }
   ],
   "source": [
    "print(id(a))\n",
    "print(id(b))"
   ]
  },
  {
   "cell_type": "code",
   "execution_count": 234,
   "id": "b1c0e861-44e0-4b87-91cd-065825474d3f",
   "metadata": {},
   "outputs": [
    {
     "name": "stdout",
     "output_type": "stream",
     "text": [
      "139719380380976\n",
      "139719380380976\n"
     ]
    }
   ],
   "source": [
    "str1=\"Krish\"\n",
    "str2=\"Krish\"\n",
    "print(id(str1))\n",
    "print(id(str2))"
   ]
  },
  {
   "cell_type": "code",
   "execution_count": 235,
   "id": "d9967fa9-6c13-4b99-bb39-e0c0481447d4",
   "metadata": {},
   "outputs": [],
   "source": [
    "## immutable\n",
    "str1=\"Krish\"\n",
    "str2=\"Krish1\""
   ]
  },
  {
   "cell_type": "code",
   "execution_count": 236,
   "id": "4310253e-a58e-44ca-81db-ccb428225e4c",
   "metadata": {},
   "outputs": [
    {
     "name": "stdout",
     "output_type": "stream",
     "text": [
      "139719380380976\n",
      "139718889588912\n"
     ]
    }
   ],
   "source": [
    "print(id(str1))\n",
    "print(id(str2))"
   ]
  },
  {
   "cell_type": "code",
   "execution_count": 237,
   "id": "22399a61-8f36-4eba-adeb-c7922badcc6d",
   "metadata": {},
   "outputs": [
    {
     "data": {
      "text/plain": [
       "[1, 2, 3, 4]"
      ]
     },
     "execution_count": 237,
     "metadata": {},
     "output_type": "execute_result"
    }
   ],
   "source": [
    "lst_a"
   ]
  },
  {
   "cell_type": "code",
   "execution_count": 238,
   "id": "e9957786-7f2a-41ab-aef6-9805db9089c2",
   "metadata": {},
   "outputs": [],
   "source": [
    "lst_a[0]=10"
   ]
  },
  {
   "cell_type": "code",
   "execution_count": 239,
   "id": "1268ddbb-7a3d-4c1b-9c30-0d994b8671c3",
   "metadata": {},
   "outputs": [
    {
     "data": {
      "text/plain": [
       "[10, 2, 3, 4]"
      ]
     },
     "execution_count": 239,
     "metadata": {},
     "output_type": "execute_result"
    }
   ],
   "source": [
    "lst_a"
   ]
  },
  {
   "cell_type": "code",
   "execution_count": 240,
   "id": "e4b3acd1-4acb-4d2d-b299-8b566ef08ac5",
   "metadata": {},
   "outputs": [
    {
     "data": {
      "text/plain": [
       "'Krish'"
      ]
     },
     "execution_count": 240,
     "metadata": {},
     "output_type": "execute_result"
    }
   ],
   "source": [
    "str1"
   ]
  },
  {
   "cell_type": "code",
   "execution_count": 241,
   "id": "ddada856-1dcb-4407-a501-31849c022ce0",
   "metadata": {},
   "outputs": [
    {
     "ename": "TypeError",
     "evalue": "'str' object does not support item assignment",
     "output_type": "error",
     "traceback": [
      "\u001b[0;31m---------------------------------------------------------------------------\u001b[0m",
      "\u001b[0;31mTypeError\u001b[0m                                 Traceback (most recent call last)",
      "Cell \u001b[0;32mIn[241], line 1\u001b[0m\n\u001b[0;32m----> 1\u001b[0m \u001b[43mstr1\u001b[49m\u001b[43m[\u001b[49m\u001b[38;5;241;43m0\u001b[39;49m\u001b[43m]\u001b[49m\u001b[38;5;241m=\u001b[39m\u001b[38;5;124m'\u001b[39m\u001b[38;5;124mN\u001b[39m\u001b[38;5;124m'\u001b[39m \u001b[38;5;66;03m## immutable\u001b[39;00m\n",
      "\u001b[0;31mTypeError\u001b[0m: 'str' object does not support item assignment"
     ]
    }
   ],
   "source": [
    "str1[0]='N' ## immutable"
   ]
  },
  {
   "cell_type": "code",
   "execution_count": 242,
   "id": "90dd6515-d32f-4f8b-a0b8-7573b53d5440",
   "metadata": {},
   "outputs": [],
   "source": [
    "## Comparison operation"
   ]
  },
  {
   "cell_type": "code",
   "execution_count": null,
   "id": "9b0eea3e-909f-4583-a04d-227bf5f5dad3",
   "metadata": {},
   "outputs": [],
   "source": []
  },
  {
   "cell_type": "code",
   "execution_count": null,
   "id": "a24c557a-e224-464a-8561-d30191c4aee6",
   "metadata": {},
   "outputs": [],
   "source": []
  },
  {
   "cell_type": "code",
   "execution_count": null,
   "id": "8f4ce995-096b-4797-bf7b-0f97559f3027",
   "metadata": {},
   "outputs": [],
   "source": []
  },
  {
   "cell_type": "code",
   "execution_count": null,
   "id": "f1bfcbc1-36c7-458d-9aac-fb2c83ea46c3",
   "metadata": {},
   "outputs": [],
   "source": []
  },
  {
   "cell_type": "code",
   "execution_count": null,
   "id": "d7e3c51a-c99f-4b4d-bbf2-c135e25b7447",
   "metadata": {},
   "outputs": [],
   "source": []
  },
  {
   "cell_type": "markdown",
   "id": "9ff8a99c-38fb-484c-8e38-87ba3787c1ef",
   "metadata": {},
   "source": [
    "|Operation|Meaning|\n",
    "|:-:|:-:|\n",
    "| **<** |less than|\n",
    "| **<=** |less than or equal to|\n",
    "| **>** |greater than|\n",
    "| **>=** |greater than or equal to|\n"
   ]
  },
  {
   "cell_type": "code",
   "execution_count": 243,
   "id": "5d7d6339-b810-4553-9ea8-343c28ec4e6f",
   "metadata": {},
   "outputs": [
    {
     "name": "stdout",
     "output_type": "stream",
     "text": [
      "bike is faster than car: False\n"
     ]
    }
   ],
   "source": [
    "maxium_speed_of_bike = 150\n",
    "max_speed_of_car = 200\n",
    "\n",
    "print(f\"bike is faster than car: {maxium_speed_of_bike >= max_speed_of_car}\")"
   ]
  },
  {
   "cell_type": "code",
   "execution_count": 244,
   "id": "7a9222eb-2e57-4511-9e62-b7b07d316e78",
   "metadata": {},
   "outputs": [
    {
     "name": "stdout",
     "output_type": "stream",
     "text": [
      "bike is faster than car: False\n"
     ]
    }
   ],
   "source": [
    "maxium_speed_of_bike = 200\n",
    "max_speed_of_car = 200\n",
    "\n",
    "print(f\"bike is faster than car: {maxium_speed_of_bike > max_speed_of_car}\")"
   ]
  },
  {
   "cell_type": "markdown",
   "id": "e340fd85-5946-46e6-8234-1b0caebc6c38",
   "metadata": {},
   "source": [
    "## Arithmethic Operations\n",
    "|Operation|Meaning|\n",
    "|:-:|:-:|\n",
    "| **+** |addition|\n",
    "| **-** |subtraction|\n",
    "| **\\*** |multiplication|\n",
    "| **/** |true division|\n",
    "| **//** |integer division|\n",
    "| **%** |the modulo operator|"
   ]
  },
  {
   "cell_type": "code",
   "execution_count": 245,
   "id": "d16cd857-cb72-4bee-b830-a4f407e6ad85",
   "metadata": {},
   "outputs": [],
   "source": [
    "a=25\n",
    "b=101"
   ]
  },
  {
   "cell_type": "code",
   "execution_count": 246,
   "id": "7fbf03df-6cab-4130-a40a-5181cacc8962",
   "metadata": {},
   "outputs": [
    {
     "data": {
      "text/plain": [
       "2525"
      ]
     },
     "execution_count": 246,
     "metadata": {},
     "output_type": "execute_result"
    }
   ],
   "source": [
    "b*a"
   ]
  },
  {
   "cell_type": "code",
   "execution_count": 247,
   "id": "0254f895-f20e-4004-8ea8-23ed0b4b426e",
   "metadata": {},
   "outputs": [
    {
     "data": {
      "text/plain": [
       "126"
      ]
     },
     "execution_count": 247,
     "metadata": {},
     "output_type": "execute_result"
    }
   ],
   "source": [
    "b+a"
   ]
  },
  {
   "cell_type": "code",
   "execution_count": 248,
   "id": "e7f35b01-2227-4abe-b39d-7b2b5daab2b8",
   "metadata": {},
   "outputs": [
    {
     "data": {
      "text/plain": [
       "0.24752475247524752"
      ]
     },
     "execution_count": 248,
     "metadata": {},
     "output_type": "execute_result"
    }
   ],
   "source": [
    "a/b"
   ]
  },
  {
   "cell_type": "code",
   "execution_count": 249,
   "id": "2b85f879-44fa-4876-8e4d-877924e1c98f",
   "metadata": {},
   "outputs": [
    {
     "data": {
      "text/plain": [
       "0"
      ]
     },
     "execution_count": 249,
     "metadata": {},
     "output_type": "execute_result"
    }
   ],
   "source": [
    "a//b"
   ]
  },
  {
   "cell_type": "code",
   "execution_count": 250,
   "id": "2b2a1e74-ec45-42c8-bc25-59d9a21b26fd",
   "metadata": {},
   "outputs": [
    {
     "data": {
      "text/plain": [
       "4"
      ]
     },
     "execution_count": 250,
     "metadata": {},
     "output_type": "execute_result"
    }
   ],
   "source": [
    "b//a"
   ]
  },
  {
   "cell_type": "code",
   "execution_count": 251,
   "id": "9ddd6be3-7859-43f0-be58-3762b90d5310",
   "metadata": {},
   "outputs": [
    {
     "data": {
      "text/plain": [
       "4.04"
      ]
     },
     "execution_count": 251,
     "metadata": {},
     "output_type": "execute_result"
    }
   ],
   "source": [
    "b/a"
   ]
  },
  {
   "cell_type": "code",
   "execution_count": 252,
   "id": "3f84b5c1-f824-4880-89bd-22645cbbf5ba",
   "metadata": {},
   "outputs": [
    {
     "data": {
      "text/plain": [
       "1"
      ]
     },
     "execution_count": 252,
     "metadata": {},
     "output_type": "execute_result"
    }
   ],
   "source": [
    "b%a"
   ]
  },
  {
   "cell_type": "code",
   "execution_count": 253,
   "id": "cd99a92b-fc8c-4e81-bb4e-5df45764efee",
   "metadata": {},
   "outputs": [
    {
     "data": {
      "text/plain": [
       "25"
      ]
     },
     "execution_count": 253,
     "metadata": {},
     "output_type": "execute_result"
    }
   ],
   "source": [
    "## Display the remainder\n",
    "a%b"
   ]
  },
  {
   "cell_type": "markdown",
   "id": "7322c956-0b1c-4a1b-84b4-294752bcf3da",
   "metadata": {},
   "source": [
    "### Bitwise Operators\n",
    "|Operation|Meaning|\n",
    "|:-:|:-:|\n",
    "| **∼** |bitwise complement (prefix unary operator)|\n",
    "| **&** |bitwise and|\n",
    "| **\\|** |bitwise or|\n",
    "| **^** |bitwise exclusive-or|\n",
    "| **<<** |shift bits left, filling in with zeros|\n",
    "| **>>** |shift bits right, filling in with sign bit|\n"
   ]
  },
  {
   "cell_type": "code",
   "execution_count": 254,
   "id": "5d4f6dc3-9fe6-4d49-8af4-0f4d7c3bfb48",
   "metadata": {},
   "outputs": [
    {
     "data": {
      "text/plain": [
       "'0b1010'"
      ]
     },
     "execution_count": 254,
     "metadata": {},
     "output_type": "execute_result"
    }
   ],
   "source": [
    "var=10\n",
    "bin(var)"
   ]
  },
  {
   "cell_type": "markdown",
   "id": "98e97277-684d-4820-9846-a627e68e3531",
   "metadata": {},
   "source": [
    "## Practicing Bitwise Operations"
   ]
  },
  {
   "attachments": {
    "e521acf4-2883-4fcd-bdef-23f23566f2ac.png": {
     "image/png": "[encoded data removed]"
    }
   },
   "cell_type": "markdown",
   "id": "64188778-0fad-412e-a5f2-7ed3409dcd17",
   "metadata": {},
   "source": [
    "![image.png](attachment:e521acf4-2883-4fcd-bdef-23f23566f2ac.png)"
   ]
  },
  {
   "cell_type": "code",
   "execution_count": 255,
   "id": "ae4be6a4-81a6-4410-87be-7f95227e13cc",
   "metadata": {},
   "outputs": [
    {
     "data": {
      "text/plain": [
       "-6"
      ]
     },
     "execution_count": 255,
     "metadata": {},
     "output_type": "execute_result"
    }
   ],
   "source": [
    "## Going thru all the expressions\n",
    "\n",
    "~5\n"
   ]
  },
  {
   "cell_type": "code",
   "execution_count": 256,
   "id": "7cedb420-250e-49b7-89ea-4e20251dec46",
   "metadata": {},
   "outputs": [
    {
     "data": {
      "text/plain": [
       "-11"
      ]
     },
     "execution_count": 256,
     "metadata": {},
     "output_type": "execute_result"
    }
   ],
   "source": [
    "~10"
   ]
  },
  {
   "cell_type": "code",
   "execution_count": 257,
   "id": "5b201090-c695-4fdf-8ded-4542aeb01813",
   "metadata": {},
   "outputs": [
    {
     "data": {
      "text/plain": [
       "-7"
      ]
     },
     "execution_count": 257,
     "metadata": {},
     "output_type": "execute_result"
    }
   ],
   "source": [
    "~6  ## negate with an increase!!!!"
   ]
  },
  {
   "cell_type": "code",
   "execution_count": 258,
   "id": "ec00d8ae-1cb5-49e5-b5e5-2037c36c58d6",
   "metadata": {},
   "outputs": [
    {
     "data": {
      "text/plain": [
       "1"
      ]
     },
     "execution_count": 258,
     "metadata": {},
     "output_type": "execute_result"
    }
   ],
   "source": [
    "num2 = 5\n",
    "num2>>2"
   ]
  },
  {
   "cell_type": "code",
   "execution_count": 259,
   "id": "ade3e615-1fdb-4486-b6b6-4c5227d00b7c",
   "metadata": {},
   "outputs": [
    {
     "data": {
      "text/plain": [
       "'101'"
      ]
     },
     "execution_count": 259,
     "metadata": {},
     "output_type": "execute_result"
    }
   ],
   "source": [
    "num3=bin(5)\n",
    "num3[2:]\n"
   ]
  },
  {
   "cell_type": "code",
   "execution_count": 260,
   "id": "82c8a749-007d-48b5-a619-027752cde22c",
   "metadata": {},
   "outputs": [
    {
     "data": {
      "text/plain": [
       "-102"
      ]
     },
     "execution_count": 260,
     "metadata": {},
     "output_type": "execute_result"
    }
   ],
   "source": [
    "~101"
   ]
  },
  {
   "cell_type": "code",
   "execution_count": 261,
   "id": "861d0502-cb20-4f6f-a1ec-d31110ab1d1a",
   "metadata": {},
   "outputs": [],
   "source": [
    "y = 1001"
   ]
  },
  {
   "cell_type": "markdown",
   "id": "e881ee64-aa0f-4640-a8fd-be7e45501175",
   "metadata": {},
   "source": [
    "## & Bitwise AND\n",
    "The bitwise AND operator (&) takes two operands and compares the \n",
    "operands bit by bit and sets the corresponding output bit \n",
    "to 1 if and only if both input bits are 1. \n",
    "\n",
    "\n"
   ]
  },
  {
   "cell_type": "code",
   "execution_count": 262,
   "id": "5ffa244f-e534-4c43-b025-de502f12dc25",
   "metadata": {},
   "outputs": [
    {
     "data": {
      "text/plain": [
       "1"
      ]
     },
     "execution_count": 262,
     "metadata": {},
     "output_type": "execute_result"
    }
   ],
   "source": [
    "1 & 1"
   ]
  },
  {
   "cell_type": "code",
   "execution_count": 263,
   "id": "8b726b87-e61d-48ce-af74-72a446265266",
   "metadata": {},
   "outputs": [
    {
     "data": {
      "text/plain": [
       "0"
      ]
     },
     "execution_count": 263,
     "metadata": {},
     "output_type": "execute_result"
    }
   ],
   "source": [
    "1 & 0"
   ]
  },
  {
   "cell_type": "code",
   "execution_count": 264,
   "id": "060a9637-df23-484d-8ee9-db2c3efbeb47",
   "metadata": {},
   "outputs": [
    {
     "data": {
      "text/plain": [
       "0"
      ]
     },
     "execution_count": 264,
     "metadata": {},
     "output_type": "execute_result"
    }
   ],
   "source": [
    "0 & 1"
   ]
  },
  {
   "cell_type": "code",
   "execution_count": 265,
   "id": "cf1acb5e-efa9-4d99-936f-db6734425a5b",
   "metadata": {},
   "outputs": [
    {
     "data": {
      "text/plain": [
       "0"
      ]
     },
     "execution_count": 265,
     "metadata": {},
     "output_type": "execute_result"
    }
   ],
   "source": [
    "0 & 0"
   ]
  },
  {
   "cell_type": "code",
   "execution_count": 266,
   "id": "5f7d8058-5dea-426a-90a1-325ac2b9c0ee",
   "metadata": {},
   "outputs": [
    {
     "data": {
      "text/plain": [
       "4"
      ]
     },
     "execution_count": 266,
     "metadata": {},
     "output_type": "execute_result"
    }
   ],
   "source": [
    "#how to represent binary number  \"0b\"\n",
    "0b00000101 & 0b00000110   ## 4  (5 & 6)"
   ]
  },
  {
   "cell_type": "markdown",
   "id": "a335654f-aea5-4f47-9efc-949478b36a7f",
   "metadata": {},
   "source": [
    "# | Bitwise OR\n",
    "The bitwise OR operator take in two operands just like the bitwise AND and compares them bit by bit but instead of setting the output bit to 1 only when both input bits are 1, it follows this truth table:"
   ]
  },
  {
   "cell_type": "code",
   "execution_count": 267,
   "id": "db4da322-8b97-4027-9b56-247d1d7686cd",
   "metadata": {},
   "outputs": [
    {
     "data": {
      "text/plain": [
       "1"
      ]
     },
     "execution_count": 267,
     "metadata": {},
     "output_type": "execute_result"
    }
   ],
   "source": [
    "1 | 1"
   ]
  },
  {
   "cell_type": "code",
   "execution_count": 268,
   "id": "ebf66fa4-5f1a-40bf-a7cf-ad5b5c74e4b0",
   "metadata": {},
   "outputs": [
    {
     "data": {
      "text/plain": [
       "1"
      ]
     },
     "execution_count": 268,
     "metadata": {},
     "output_type": "execute_result"
    }
   ],
   "source": [
    "0 | 1"
   ]
  },
  {
   "cell_type": "code",
   "execution_count": 269,
   "id": "a6ddc54c-9172-4574-a4ad-270e51fe6107",
   "metadata": {},
   "outputs": [
    {
     "data": {
      "text/plain": [
       "1"
      ]
     },
     "execution_count": 269,
     "metadata": {},
     "output_type": "execute_result"
    }
   ],
   "source": [
    "1 | 0"
   ]
  },
  {
   "cell_type": "code",
   "execution_count": 270,
   "id": "228ea16f-b72c-43a6-9c4c-81fecacc2da1",
   "metadata": {},
   "outputs": [
    {
     "data": {
      "text/plain": [
       "0"
      ]
     },
     "execution_count": 270,
     "metadata": {},
     "output_type": "execute_result"
    }
   ],
   "source": [
    "0 | 0"
   ]
  },
  {
   "cell_type": "markdown",
   "id": "6e041e8c-8b1e-42d3-a106-7039b35dc364",
   "metadata": {},
   "source": [
    "# ^ Bitwise XOR\n",
    "The bitwise XOR operator works similar to the bitwise OR operator. The only difference is that the output bit will be set to 1 when both input bits are different. The following is the logic table for bitwise XOR:"
   ]
  },
  {
   "cell_type": "code",
   "execution_count": 271,
   "id": "2bde813a-3ab1-4371-83fc-c3f6ba20b690",
   "metadata": {},
   "outputs": [
    {
     "data": {
      "text/plain": [
       "0"
      ]
     },
     "execution_count": 271,
     "metadata": {},
     "output_type": "execute_result"
    }
   ],
   "source": [
    "1 ^ 1"
   ]
  },
  {
   "cell_type": "code",
   "execution_count": 272,
   "id": "f9018ac3-a9f5-4390-a857-42ee0d0dabec",
   "metadata": {},
   "outputs": [
    {
     "data": {
      "text/plain": [
       "1"
      ]
     },
     "execution_count": 272,
     "metadata": {},
     "output_type": "execute_result"
    }
   ],
   "source": [
    "0 ^ 1"
   ]
  },
  {
   "cell_type": "code",
   "execution_count": 273,
   "id": "afa20097-046d-4e7d-b516-4c4e70160e52",
   "metadata": {},
   "outputs": [
    {
     "data": {
      "text/plain": [
       "1"
      ]
     },
     "execution_count": 273,
     "metadata": {},
     "output_type": "execute_result"
    }
   ],
   "source": [
    "1 ^ 0"
   ]
  },
  {
   "cell_type": "code",
   "execution_count": 274,
   "id": "9720602d-96a3-435d-a91f-b6915f09e17e",
   "metadata": {},
   "outputs": [
    {
     "data": {
      "text/plain": [
       "0"
      ]
     },
     "execution_count": 274,
     "metadata": {},
     "output_type": "execute_result"
    }
   ],
   "source": [
    "0 ^ 0"
   ]
  },
  {
   "cell_type": "code",
   "execution_count": 275,
   "id": "98475cea-0df3-4d96-8e06-2a4ccac53aaf",
   "metadata": {},
   "outputs": [
    {
     "data": {
      "text/plain": [
       "3"
      ]
     },
     "execution_count": 275,
     "metadata": {},
     "output_type": "execute_result"
    }
   ],
   "source": [
    "0b00000101 ^ 0b00000110"
   ]
  },
  {
   "cell_type": "markdown",
   "id": "fc967916-99cd-499d-aad6-4b9d8cba6a47",
   "metadata": {},
   "source": [
    "# ~ Bitwise NOT\n",
    "The bitwise NOT operator is a little different from the other operators as it accepts only one operand. The bitwise NOT operator flips the bits of it’s operand."
   ]
  },
  {
   "cell_type": "code",
   "execution_count": 276,
   "id": "f45a3394-6c98-48e8-97cb-5325ce3e0c15",
   "metadata": {},
   "outputs": [
    {
     "data": {
      "text/plain": [
       "int"
      ]
     },
     "execution_count": 276,
     "metadata": {},
     "output_type": "execute_result"
    }
   ],
   "source": [
    "type(~5)"
   ]
  },
  {
   "cell_type": "code",
   "execution_count": 277,
   "id": "66f5a41d-5e67-402e-a30e-600b48aa5dcd",
   "metadata": {},
   "outputs": [
    {
     "name": "stdout",
     "output_type": "stream",
     "text": [
      "0b101\n"
     ]
    }
   ],
   "source": [
    "numb = bin(5)\n",
    "print(numb)"
   ]
  },
  {
   "cell_type": "markdown",
   "id": "61377260-7f1b-4666-8bec-4e29021a8265",
   "metadata": {},
   "source": [
    "## << Bitwise Left Shift Operator\n",
    "The left shift operator like the name suggests, moves the bits in it’s left operand to the right by the number of places specified in the right operand."
   ]
  },
  {
   "cell_type": "code",
   "execution_count": 278,
   "id": "d21cff93-5475-4f5b-8cc4-4e1411e6bbd2",
   "metadata": {},
   "outputs": [
    {
     "data": {
      "text/plain": [
       "20"
      ]
     },
     "execution_count": 278,
     "metadata": {},
     "output_type": "execute_result"
    }
   ],
   "source": [
    "5 << 2"
   ]
  },
  {
   "cell_type": "code",
   "execution_count": 279,
   "id": "26b23b56-aa8f-42dc-b78c-91cd9c21eab9",
   "metadata": {},
   "outputs": [
    {
     "data": {
      "text/plain": [
       "-11"
      ]
     },
     "execution_count": 279,
     "metadata": {},
     "output_type": "execute_result"
    }
   ],
   "source": [
    "~var"
   ]
  },
  {
   "cell_type": "code",
   "execution_count": 280,
   "id": "9507d38a-c76e-4405-8f12-4fb630acfb3a",
   "metadata": {},
   "outputs": [
    {
     "data": {
      "text/plain": [
       "True"
      ]
     },
     "execution_count": 280,
     "metadata": {},
     "output_type": "execute_result"
    }
   ],
   "source": [
    "True | False"
   ]
  },
  {
   "cell_type": "code",
   "execution_count": 281,
   "id": "b89ed9f2-32f2-4643-9767-b0476fcb6a82",
   "metadata": {},
   "outputs": [
    {
     "data": {
      "text/plain": [
       "False"
      ]
     },
     "execution_count": 281,
     "metadata": {},
     "output_type": "execute_result"
    }
   ],
   "source": [
    "False & False"
   ]
  },
  {
   "cell_type": "code",
   "execution_count": 282,
   "id": "fe46da9b-dc99-4acd-afe5-30f1bfbaf27e",
   "metadata": {},
   "outputs": [
    {
     "data": {
      "text/plain": [
       "5"
      ]
     },
     "execution_count": 282,
     "metadata": {},
     "output_type": "execute_result"
    }
   ],
   "source": [
    "var >>1"
   ]
  },
  {
   "cell_type": "code",
   "execution_count": 283,
   "id": "0311e341-b687-4630-8b9a-5688d14ea56d",
   "metadata": {},
   "outputs": [
    {
     "data": {
      "text/plain": [
       "20"
      ]
     },
     "execution_count": 283,
     "metadata": {},
     "output_type": "execute_result"
    }
   ],
   "source": [
    "var << 1"
   ]
  },
  {
   "cell_type": "markdown",
   "id": "8fa1eccd-564c-42d1-a514-ca74c0d8b072",
   "metadata": {},
   "source": [
    "## Strings"
   ]
  },
  {
   "cell_type": "code",
   "execution_count": 284,
   "id": "1e322ef0-fbbd-436a-916e-aaad16fd3585",
   "metadata": {},
   "outputs": [
    {
     "data": {
      "text/plain": [
       "'Welcome to the Data Science masters'"
      ]
     },
     "execution_count": 284,
     "metadata": {},
     "output_type": "execute_result"
    }
   ],
   "source": [
    "\n",
    "\"Welcome to the Data Science masters\""
   ]
  },
  {
   "cell_type": "code",
   "execution_count": 285,
   "id": "06892483-dacb-4ff7-80d3-a37d3d1d2336",
   "metadata": {},
   "outputs": [],
   "source": [
    "str1=\"Welcome to Data Science Masters\""
   ]
  },
  {
   "cell_type": "code",
   "execution_count": 286,
   "id": "5c86d5ab-9446-4297-ad0c-c6d0825467da",
   "metadata": {},
   "outputs": [
    {
     "data": {
      "text/plain": [
       "str"
      ]
     },
     "execution_count": 286,
     "metadata": {},
     "output_type": "execute_result"
    }
   ],
   "source": [
    "type(str1)"
   ]
  },
  {
   "cell_type": "code",
   "execution_count": 287,
   "id": "35262123-5ae9-4a3b-ae30-dc41cc6e3f0e",
   "metadata": {},
   "outputs": [
    {
     "ename": "TypeError",
     "evalue": "'str' object does not support item assignment",
     "output_type": "error",
     "traceback": [
      "\u001b[0;31m---------------------------------------------------------------------------\u001b[0m",
      "\u001b[0;31mTypeError\u001b[0m                                 Traceback (most recent call last)",
      "Cell \u001b[0;32mIn[287], line 2\u001b[0m\n\u001b[1;32m      1\u001b[0m \u001b[38;5;66;03m## immutable\u001b[39;00m\n\u001b[0;32m----> 2\u001b[0m \u001b[43mstr1\u001b[49m\u001b[43m[\u001b[49m\u001b[38;5;241;43m0\u001b[39;49m\u001b[43m]\u001b[49m\u001b[38;5;241m=\u001b[39m\u001b[38;5;241m12\u001b[39m   \u001b[38;5;66;03m## strings are immutable\u001b[39;00m\n",
      "\u001b[0;31mTypeError\u001b[0m: 'str' object does not support item assignment"
     ]
    }
   ],
   "source": [
    "## immutable\n",
    "str1[0]=12   ## strings are immutable"
   ]
  },
  {
   "cell_type": "code",
   "execution_count": 288,
   "id": "e1795feb-0392-451f-b4d5-f1d16ae91131",
   "metadata": {},
   "outputs": [],
   "source": [
    "str1=\"Krish Naik\""
   ]
  },
  {
   "cell_type": "code",
   "execution_count": 289,
   "id": "8b278a46-d548-41bf-9350-9dc4d5edc73e",
   "metadata": {},
   "outputs": [
    {
     "data": {
      "text/plain": [
       "'r'"
      ]
     },
     "execution_count": 289,
     "metadata": {},
     "output_type": "execute_result"
    }
   ],
   "source": [
    "str1[1] ## but you can iterate over or select from stored string variables"
   ]
  },
  {
   "cell_type": "code",
   "execution_count": 290,
   "id": "2b7a3873-c04f-40a9-acaa-1edb89907895",
   "metadata": {},
   "outputs": [
    {
     "name": "stdout",
     "output_type": "stream",
     "text": [
      "K\n",
      "r\n",
      "i\n",
      "s\n",
      "h\n",
      " \n",
      "N\n",
      "a\n",
      "i\n",
      "k\n"
     ]
    }
   ],
   "source": [
    "for i in str1:\n",
    "    print(i)"
   ]
  },
  {
   "cell_type": "code",
   "execution_count": 291,
   "id": "bc2b18d8-2b9c-41e3-908f-7c745a96aded",
   "metadata": {},
   "outputs": [
    {
     "name": "stdout",
     "output_type": "stream",
     "text": [
      "Krish Naik"
     ]
    }
   ],
   "source": [
    "## Place the printing side by side\n",
    "for i in str1:\n",
    "    print(i, end=\"\") ## steady printing them side by side\n",
    "    "
   ]
  },
  {
   "cell_type": "code",
   "execution_count": 292,
   "id": "dcc6a1ea-29e4-41a2-b4c5-51fded9c2ab8",
   "metadata": {},
   "outputs": [
    {
     "name": "stdout",
     "output_type": "stream",
     "text": [
      "Krish\n",
      "Naik"
     ]
    }
   ],
   "source": [
    "## Separate First name from surname\n",
    "for i in str1:\n",
    "    if i == \" \":\n",
    "        print(\"\\r\")\n",
    "    else:\n",
    "        print(i, end = \"\")"
   ]
  },
  {
   "cell_type": "code",
   "execution_count": 293,
   "id": "054227a4-6424-4545-9795-1ca1d11cfbb1",
   "metadata": {},
   "outputs": [],
   "source": [
    "welcome=\"Hello World\""
   ]
  },
  {
   "cell_type": "code",
   "execution_count": 294,
   "id": "17e54429-1fb7-4efc-8f06-68aafbf09324",
   "metadata": {},
   "outputs": [
    {
     "data": {
      "text/plain": [
       "['__add__',\n",
       " '__class__',\n",
       " '__contains__',\n",
       " '__delattr__',\n",
       " '__dir__',\n",
       " '__doc__',\n",
       " '__eq__',\n",
       " '__format__',\n",
       " '__ge__',\n",
       " '__getattribute__',\n",
       " '__getitem__',\n",
       " '__getnewargs__',\n",
       " '__gt__',\n",
       " '__hash__',\n",
       " '__init__',\n",
       " '__init_subclass__',\n",
       " '__iter__',\n",
       " '__le__',\n",
       " '__len__',\n",
       " '__lt__',\n",
       " '__mod__',\n",
       " '__mul__',\n",
       " '__ne__',\n",
       " '__new__',\n",
       " '__reduce__',\n",
       " '__reduce_ex__',\n",
       " '__repr__',\n",
       " '__rmod__',\n",
       " '__rmul__',\n",
       " '__setattr__',\n",
       " '__sizeof__',\n",
       " '__str__',\n",
       " '__subclasshook__',\n",
       " 'capitalize',\n",
       " 'casefold',\n",
       " 'center',\n",
       " 'count',\n",
       " 'encode',\n",
       " 'endswith',\n",
       " 'expandtabs',\n",
       " 'find',\n",
       " 'format',\n",
       " 'format_map',\n",
       " 'index',\n",
       " 'isalnum',\n",
       " 'isalpha',\n",
       " 'isascii',\n",
       " 'isdecimal',\n",
       " 'isdigit',\n",
       " 'isidentifier',\n",
       " 'islower',\n",
       " 'isnumeric',\n",
       " 'isprintable',\n",
       " 'isspace',\n",
       " 'istitle',\n",
       " 'isupper',\n",
       " 'join',\n",
       " 'ljust',\n",
       " 'lower',\n",
       " 'lstrip',\n",
       " 'maketrans',\n",
       " 'partition',\n",
       " 'removeprefix',\n",
       " 'removesuffix',\n",
       " 'replace',\n",
       " 'rfind',\n",
       " 'rindex',\n",
       " 'rjust',\n",
       " 'rpartition',\n",
       " 'rsplit',\n",
       " 'rstrip',\n",
       " 'split',\n",
       " 'splitlines',\n",
       " 'startswith',\n",
       " 'strip',\n",
       " 'swapcase',\n",
       " 'title',\n",
       " 'translate',\n",
       " 'upper',\n",
       " 'zfill']"
      ]
     },
     "execution_count": 294,
     "metadata": {},
     "output_type": "execute_result"
    }
   ],
   "source": [
    "dir(welcome)"
   ]
  },
  {
   "cell_type": "code",
   "execution_count": 295,
   "id": "c68902e1-dd9b-4b27-92de-dffc41f609d9",
   "metadata": {},
   "outputs": [],
   "source": [
    "string =\"Pw Skills Data Science\""
   ]
  },
  {
   "cell_type": "code",
   "execution_count": 296,
   "id": "18719f50-a61e-4676-be36-3cf11b31b5d5",
   "metadata": {},
   "outputs": [
    {
     "data": {
      "text/plain": [
       "'i'"
      ]
     },
     "execution_count": 296,
     "metadata": {},
     "output_type": "execute_result"
    }
   ],
   "source": [
    "string[5] ## this count from the first character to the stated number, count star from zero"
   ]
  },
  {
   "cell_type": "code",
   "execution_count": 297,
   "id": "006666f2-c63d-4608-b8ee-004d67ff6fb5",
   "metadata": {},
   "outputs": [
    {
     "name": "stdout",
     "output_type": "stream",
     "text": [
      "0 = P\n",
      "1 = w\n",
      "2 = space\n",
      "3 = S\n",
      "4 = k\n",
      "5 = i\n",
      "6 = l\n",
      "7 = l\n",
      "8 = s\n",
      "9 = space\n",
      "10 = D\n",
      "11 = a\n",
      "12 = t\n",
      "13 = a\n",
      "14 = space\n",
      "15 = S\n",
      "16 = c\n",
      "17 = i\n",
      "18 = e\n",
      "19 = n\n",
      "20 = c\n",
      "21 = e\n"
     ]
    }
   ],
   "source": [
    "## print the index of the number\n",
    "for i in range(len(string)):\n",
    "    if string[i] == \" \":\n",
    "        print(f\"{i} = space\")\n",
    "    else:\n",
    "        print(i, \"=\", string[i])"
   ]
  },
  {
   "cell_type": "code",
   "execution_count": 298,
   "id": "07c71e04-b611-4416-b576-cc8c76617e80",
   "metadata": {},
   "outputs": [
    {
     "name": "stdout",
     "output_type": "stream",
     "text": [
      "0 = P\n",
      "1 = w\n",
      "2 =  \n",
      "3 = S\n",
      "4 = k\n",
      "5 = i\n",
      "6 = l\n",
      "7 = l\n",
      "8 = s\n",
      "9 =  \n",
      "10 = D\n",
      "11 = a\n",
      "12 = t\n",
      "13 = a\n",
      "14 =  \n",
      "15 = S\n",
      "16 = c\n",
      "17 = i\n",
      "18 = e\n",
      "19 = n\n",
      "20 = c\n",
      "21 = e\n"
     ]
    }
   ],
   "source": [
    "## For negative indexing \n",
    "## print the index of the number\n",
    "for i in range(len(string)):\n",
    "    print(i, \"=\", string[i])"
   ]
  },
  {
   "cell_type": "code",
   "execution_count": 299,
   "id": "fe9e11f5-7f07-4ccd-baad-dbccd7249d48",
   "metadata": {},
   "outputs": [
    {
     "data": {
      "text/plain": [
       "22"
      ]
     },
     "execution_count": 299,
     "metadata": {},
     "output_type": "execute_result"
    }
   ],
   "source": [
    "len(string)"
   ]
  },
  {
   "cell_type": "code",
   "execution_count": 300,
   "id": "a12cae29-c6db-42bd-b339-f6dca4c7851d",
   "metadata": {},
   "outputs": [
    {
     "name": "stdout",
     "output_type": "stream",
     "text": [
      "-1 = e\n",
      "-2 = c\n",
      "-3 = n\n",
      "-4 = e\n",
      "-5 = i\n",
      "-6 = c\n",
      "-7 = S\n",
      "-8 =  \n",
      "-9 = a\n",
      "-10 = t\n",
      "-11 = a\n",
      "-12 = D\n",
      "-13 =  \n",
      "-14 = s\n",
      "-15 = l\n",
      "-16 = l\n",
      "-17 = i\n",
      "-18 = k\n",
      "-19 = S\n",
      "-20 =  \n",
      "-21 = w\n",
      "-22 = P\n"
     ]
    }
   ],
   "source": [
    "### print the negative indexing with corresponding \n",
    "n = -1\n",
    "for i in range(len(string)-1, -1, -1): ## the expression is range(22-1,-1, -1)\n",
    "    print(n, \"=\", string[i])\n",
    "    n += -1"
   ]
  },
  {
   "cell_type": "code",
   "execution_count": 301,
   "id": "ca0f1732-ecbb-4949-aead-66d85a0fc7d9",
   "metadata": {},
   "outputs": [
    {
     "data": {
      "text/plain": [
       "'P'"
      ]
     },
     "execution_count": 301,
     "metadata": {},
     "output_type": "execute_result"
    }
   ],
   "source": [
    "string[-22]"
   ]
  },
  {
   "cell_type": "code",
   "execution_count": 302,
   "id": "32fb8253-efc9-4e65-a926-a444134f2eaf",
   "metadata": {},
   "outputs": [
    {
     "data": {
      "text/plain": [
       "''"
      ]
     },
     "execution_count": 302,
     "metadata": {},
     "output_type": "execute_result"
    }
   ],
   "source": [
    "string[-7:4] ## possition of the negative is higher than the second, it print empty"
   ]
  },
  {
   "cell_type": "code",
   "execution_count": 303,
   "id": "ee58e443-7a52-4c03-92b2-21b648269221",
   "metadata": {},
   "outputs": [
    {
     "name": "stdout",
     "output_type": "stream",
     "text": [
      "'Pw Skills Data ' and 'Science'\n",
      " Pw S\n"
     ]
    }
   ],
   "source": [
    "print(\"'\" + string[:-7] + \"'\", 'and', \"'\" + string[-7:] +\"'\")\n",
    "print(\" \"+string[:4])  ## does not get to or above S in the last word Science"
   ]
  },
  {
   "cell_type": "code",
   "execution_count": null,
   "id": "436e2563-8ef3-4bec-a342-643dd757ea02",
   "metadata": {},
   "outputs": [],
   "source": []
  },
  {
   "cell_type": "code",
   "execution_count": null,
   "id": "2d3ff20e-7ad4-4bdd-ba3f-5e1d2e65bd15",
   "metadata": {},
   "outputs": [],
   "source": []
  },
  {
   "cell_type": "code",
   "execution_count": null,
   "id": "cfa5c8d2-2d6a-4ffa-acbb-b742ea82894f",
   "metadata": {},
   "outputs": [],
   "source": []
  },
  {
   "cell_type": "code",
   "execution_count": 304,
   "id": "73d391bf-b0d8-4c71-a8bb-b97f941e93df",
   "metadata": {},
   "outputs": [
    {
     "data": {
      "text/plain": [
       "'ills D'"
      ]
     },
     "execution_count": 304,
     "metadata": {},
     "output_type": "execute_result"
    }
   ],
   "source": [
    "## slice operation\n",
    "string[5:11]"
   ]
  },
  {
   "cell_type": "code",
   "execution_count": 305,
   "id": "3de57a01-2bef-47da-895b-44bd05b62686",
   "metadata": {},
   "outputs": [
    {
     "data": {
      "text/plain": [
       "'e'"
      ]
     },
     "execution_count": 305,
     "metadata": {},
     "output_type": "execute_result"
    }
   ],
   "source": [
    "string[-1]"
   ]
  },
  {
   "cell_type": "code",
   "execution_count": 306,
   "id": "55fab397-3f30-42bc-b364-f4104e96fa1e",
   "metadata": {},
   "outputs": [
    {
     "data": {
      "text/plain": [
       "'nce'"
      ]
     },
     "execution_count": 306,
     "metadata": {},
     "output_type": "execute_result"
    }
   ],
   "source": [
    "string[-3:]  ## count 3 letter backward and print all letter from that point to end."
   ]
  },
  {
   "cell_type": "code",
   "execution_count": 307,
   "id": "caeb9b04-0e81-46c2-a375-b4d718078fe9",
   "metadata": {},
   "outputs": [
    {
     "data": {
      "text/plain": [
       "'Scie'"
      ]
     },
     "execution_count": 307,
     "metadata": {},
     "output_type": "execute_result"
    }
   ],
   "source": [
    "string[-7:-3] ### print btwn the backward count of 7 and 3. last letter not printed"
   ]
  },
  {
   "cell_type": "code",
   "execution_count": 308,
   "id": "845e1900-978d-4687-a358-db61add510a0",
   "metadata": {},
   "outputs": [
    {
     "data": {
      "text/plain": [
       "'Pw Skills Data Science'"
      ]
     },
     "execution_count": 308,
     "metadata": {},
     "output_type": "execute_result"
    }
   ],
   "source": [
    "string"
   ]
  },
  {
   "cell_type": "code",
   "execution_count": 309,
   "id": "37d10dbe-788e-477b-b765-56337e9073db",
   "metadata": {},
   "outputs": [
    {
     "data": {
      "text/plain": [
       "''"
      ]
     },
     "execution_count": 309,
     "metadata": {},
     "output_type": "execute_result"
    }
   ],
   "source": [
    "string[-7:5] ## -7 comes before 5 position letter, prints nothing. printing is left to right. \n",
    "#No left to right interval between them"
   ]
  },
  {
   "cell_type": "code",
   "execution_count": 310,
   "id": "5844b3ab-ead6-43df-98f9-59d2054ce40a",
   "metadata": {},
   "outputs": [
    {
     "data": {
      "text/plain": [
       "''"
      ]
     },
     "execution_count": 310,
     "metadata": {},
     "output_type": "execute_result"
    }
   ],
   "source": [
    "string[7:5] ## Cant print backward, 7 index higher that 5"
   ]
  },
  {
   "cell_type": "code",
   "execution_count": 311,
   "id": "154674b7-8761-4eeb-8d77-5597c676d18a",
   "metadata": {},
   "outputs": [
    {
     "data": {
      "text/plain": [
       "''"
      ]
     },
     "execution_count": 311,
     "metadata": {},
     "output_type": "execute_result"
    }
   ],
   "source": [
    "string[-10:10] ## same as above"
   ]
  },
  {
   "cell_type": "code",
   "execution_count": 312,
   "id": "58c8e9b8-6362-4065-b34e-c5cde623078c",
   "metadata": {},
   "outputs": [
    {
     "data": {
      "text/plain": [
       "'Pw Skills Data Scienc'"
      ]
     },
     "execution_count": 312,
     "metadata": {},
     "output_type": "execute_result"
    }
   ],
   "source": [
    "string[:-1]  ## prints everthing except last letter"
   ]
  },
  {
   "cell_type": "code",
   "execution_count": 313,
   "id": "dd7134fc-2c5b-4f3e-a658-f4cd8ad2e237",
   "metadata": {},
   "outputs": [
    {
     "data": {
      "text/plain": [
       "'Pw Skills Data Science'"
      ]
     },
     "execution_count": 313,
     "metadata": {},
     "output_type": "execute_result"
    }
   ],
   "source": [
    "string[:]## prints everything no exception"
   ]
  },
  {
   "cell_type": "code",
   "execution_count": 314,
   "id": "084987c8-42ce-4cff-a46f-b0fd333b676a",
   "metadata": {},
   "outputs": [
    {
     "data": {
      "text/plain": [
       "'rt'"
      ]
     },
     "execution_count": 314,
     "metadata": {},
     "output_type": "execute_result"
    }
   ],
   "source": [
    "name=\"Karthik\"\n",
    "name[-5:4]\n"
   ]
  },
  {
   "cell_type": "code",
   "execution_count": 315,
   "id": "43d42014-4f65-496e-8e51-f411d6d3f259",
   "metadata": {},
   "outputs": [
    {
     "data": {
      "text/plain": [
       "'Pw Skills Data Science'"
      ]
     },
     "execution_count": 315,
     "metadata": {},
     "output_type": "execute_result"
    }
   ],
   "source": [
    "string"
   ]
  },
  {
   "cell_type": "code",
   "execution_count": 316,
   "id": "0ca359cb-1f58-4a3c-856a-eaa15070f07b",
   "metadata": {},
   "outputs": [
    {
     "data": {
      "text/plain": [
       "'ecneicS ataD sllikS wP'"
      ]
     },
     "execution_count": 316,
     "metadata": {},
     "output_type": "execute_result"
    }
   ],
   "source": [
    "## \n",
    "string[::-1]"
   ]
  },
  {
   "cell_type": "code",
   "execution_count": 317,
   "id": "f017f22e-8304-404d-84ad-a828733ecd27",
   "metadata": {},
   "outputs": [
    {
     "data": {
      "text/plain": [
       "'Pw Skills '"
      ]
     },
     "execution_count": 317,
     "metadata": {},
     "output_type": "execute_result"
    }
   ],
   "source": [
    "## reverse list, use above to understand this\n",
    "string[:10] ## :: with negative sighn reverse the strings with 2 mean pick every second element"
   ]
  },
  {
   "cell_type": "code",
   "execution_count": 318,
   "id": "6417545c-53d2-4929-be17-46dc956354ed",
   "metadata": {},
   "outputs": [
    {
     "data": {
      "text/plain": [
       "'w Skills Data Science'"
      ]
     },
     "execution_count": 318,
     "metadata": {},
     "output_type": "execute_result"
    }
   ],
   "source": [
    "##understanding this reverse dynamics\n",
    "string[1::] ## isolate only the first letter and print the rest"
   ]
  },
  {
   "cell_type": "code",
   "execution_count": 319,
   "id": "4de72d5b-ac4f-4540-8959-0c37cbf082e3",
   "metadata": {},
   "outputs": [
    {
     "data": {
      "text/plain": [
       "' Skills Data Science'"
      ]
     },
     "execution_count": 319,
     "metadata": {},
     "output_type": "execute_result"
    }
   ],
   "source": [
    "##understanding this reverse dynamics\n",
    "string[2::]## Isolat the first two letters and pring the rest (2)"
   ]
  },
  {
   "cell_type": "code",
   "execution_count": 320,
   "id": "7eb6a46a-9c3e-4836-b5b3-0084b0a5fb76",
   "metadata": {},
   "outputs": [
    {
     "data": {
      "text/plain": [
       "'ills Data Science'"
      ]
     },
     "execution_count": 320,
     "metadata": {},
     "output_type": "execute_result"
    }
   ],
   "source": [
    "##understanding this reverse dynamics\n",
    "string[5::] ## same explanation as above"
   ]
  },
  {
   "cell_type": "code",
   "execution_count": 321,
   "id": "9dac243d-01a8-4576-9107-351c7c2b636b",
   "metadata": {},
   "outputs": [
    {
     "data": {
      "text/plain": [
       "'P'"
      ]
     },
     "execution_count": 321,
     "metadata": {},
     "output_type": "execute_result"
    }
   ],
   "source": [
    "##understanding this reverse dynamics: for the number between the colon\n",
    "string[:1:] ## same explanation as above"
   ]
  },
  {
   "cell_type": "code",
   "execution_count": 322,
   "id": "423d80ad-04ca-4f65-b285-be06ce532d72",
   "metadata": {},
   "outputs": [
    {
     "data": {
      "text/plain": [
       "'Pw'"
      ]
     },
     "execution_count": 322,
     "metadata": {},
     "output_type": "execute_result"
    }
   ],
   "source": [
    "##understanding this reverse dynamics: for the number between the colon\n",
    "string[:2:] ## same explanation as above"
   ]
  },
  {
   "cell_type": "code",
   "execution_count": 323,
   "id": "fc04dfcf-a314-4c63-b1ac-6105955f55be",
   "metadata": {},
   "outputs": [
    {
     "data": {
      "text/plain": [
       "'Pw S'"
      ]
     },
     "execution_count": 323,
     "metadata": {},
     "output_type": "execute_result"
    }
   ],
   "source": [
    "##understanding this reverse dynamics: for the number between the colon\n",
    "string[:4:] ## same explanation as above"
   ]
  },
  {
   "cell_type": "code",
   "execution_count": 324,
   "id": "f9a2f1ff-f07a-41ba-b4b6-33432e08cf9b",
   "metadata": {},
   "outputs": [
    {
     "data": {
      "text/plain": [
       "'i'"
      ]
     },
     "execution_count": 324,
     "metadata": {},
     "output_type": "execute_result"
    }
   ],
   "source": [
    "##understanding this reverse dynamics. Check their combined effect\n",
    "string[5:6:] ## 5 removed the first 5 characters and 6 was to display first 6 characters\n",
    "# note: note 6-5=1, 1 character ahead of 5 character was displayed"
   ]
  },
  {
   "cell_type": "code",
   "execution_count": 325,
   "id": "96a0fd30-a961-447b-8b4d-c1b3e8648475",
   "metadata": {},
   "outputs": [
    {
     "data": {
      "text/plain": [
       "'il'"
      ]
     },
     "execution_count": 325,
     "metadata": {},
     "output_type": "execute_result"
    }
   ],
   "source": [
    "## more samples\n",
    "string[5:7:]"
   ]
  },
  {
   "cell_type": "code",
   "execution_count": 326,
   "id": "3ce5d155-afcd-4dd2-b18a-7f5200c2c1c1",
   "metadata": {},
   "outputs": [
    {
     "data": {
      "text/plain": [
       "'ill'"
      ]
     },
     "execution_count": 326,
     "metadata": {},
     "output_type": "execute_result"
    }
   ],
   "source": [
    "## more samples\n",
    "string[5:8:]"
   ]
  },
  {
   "cell_type": "code",
   "execution_count": 327,
   "id": "cabdb252-555b-475a-b223-9e147dd9c9a0",
   "metadata": {},
   "outputs": [
    {
     "data": {
      "text/plain": [
       "'ecneicS ataD sllikS wP'"
      ]
     },
     "execution_count": 327,
     "metadata": {},
     "output_type": "execute_result"
    }
   ],
   "source": [
    "##all put together\n",
    "## more samples\n",
    "string[::-1]"
   ]
  },
  {
   "cell_type": "code",
   "execution_count": 328,
   "id": "f09f64b8-d45c-4639-af22-a86c5f17da13",
   "metadata": {},
   "outputs": [
    {
     "data": {
      "text/plain": [
       "'ikS wP'"
      ]
     },
     "execution_count": 328,
     "metadata": {},
     "output_type": "execute_result"
    }
   ],
   "source": [
    "##all put together\n",
    "## more samples\n",
    "string[5::-1]  ## "
   ]
  },
  {
   "cell_type": "code",
   "execution_count": 355,
   "id": "3dab3632-8b8c-4b47-a8f0-063ec424ebc7",
   "metadata": {},
   "outputs": [
    {
     "data": {
      "text/plain": [
       "'ecneicS ata'"
      ]
     },
     "execution_count": 355,
     "metadata": {},
     "output_type": "execute_result"
    }
   ],
   "source": [
    "string[:10:-1]"
   ]
  },
  {
   "cell_type": "code",
   "execution_count": 359,
   "id": "cc8b5cf5-0e7a-4c49-8263-4d4c170fe47f",
   "metadata": {},
   "outputs": [
    {
     "data": {
      "text/plain": [
       "'iSaa liSw'"
      ]
     },
     "execution_count": 359,
     "metadata": {},
     "output_type": "execute_result"
    }
   ],
   "source": [
    "string[-5::-2]"
   ]
  },
  {
   "cell_type": "code",
   "execution_count": 360,
   "id": "3a4e4b57-8754-4af7-8011-1f11fb8019cb",
   "metadata": {},
   "outputs": [
    {
     "data": {
      "text/plain": [
       "'ecneicS ataD sllikS wP'"
      ]
     },
     "execution_count": 360,
     "metadata": {},
     "output_type": "execute_result"
    }
   ],
   "source": [
    "string[::-1]"
   ]
  },
  {
   "cell_type": "code",
   "execution_count": 361,
   "id": "48d12583-b301-4a81-b0ee-c20d078a3257",
   "metadata": {},
   "outputs": [
    {
     "data": {
      "text/plain": [
       "'eeSt lSP'"
      ]
     },
     "execution_count": 361,
     "metadata": {},
     "output_type": "execute_result"
    }
   ],
   "source": [
    "string[::-3]"
   ]
  },
  {
   "cell_type": "code",
   "execution_count": 362,
   "id": "6e5cfb4a-893a-4dd3-9ab9-05355780b24e",
   "metadata": {},
   "outputs": [
    {
     "data": {
      "text/plain": [
       "'PiDSc'"
      ]
     },
     "execution_count": 362,
     "metadata": {},
     "output_type": "execute_result"
    }
   ],
   "source": [
    "string[::5]"
   ]
  },
  {
   "cell_type": "code",
   "execution_count": 363,
   "id": "e6e600da-fb4a-479a-828d-ec5ac8efe7ba",
   "metadata": {},
   "outputs": [],
   "source": [
    "name=\"Krish\""
   ]
  },
  {
   "cell_type": "code",
   "execution_count": 365,
   "id": "7a74fce5-6c8e-464b-9827-815ea65c00d5",
   "metadata": {},
   "outputs": [
    {
     "data": {
      "text/plain": [
       "'hiK'"
      ]
     },
     "execution_count": 365,
     "metadata": {},
     "output_type": "execute_result"
    }
   ],
   "source": [
    "name[::-2]"
   ]
  },
  {
   "cell_type": "code",
   "execution_count": 368,
   "id": "622ac4af-48ff-40b7-9df4-ee18e5900ed3",
   "metadata": {},
   "outputs": [
    {
     "data": {
      "text/plain": [
       "'si'"
      ]
     },
     "execution_count": 368,
     "metadata": {},
     "output_type": "execute_result"
    }
   ],
   "source": [
    "name[3:1:-1]"
   ]
  },
  {
   "cell_type": "code",
   "execution_count": 337,
   "id": "f0ccb883-0770-40f1-b1e4-58cedd2da622",
   "metadata": {},
   "outputs": [],
   "source": [
    "course_name=\"Data Science Masters\""
   ]
  },
  {
   "cell_type": "code",
   "execution_count": 338,
   "id": "111944a3-b563-42df-bda9-a2da78164428",
   "metadata": {},
   "outputs": [],
   "source": [
    "name=\"Karthik\""
   ]
  },
  {
   "cell_type": "code",
   "execution_count": 339,
   "id": "855f1fa4-b360-4991-965d-21033d2634c2",
   "metadata": {},
   "outputs": [
    {
     "data": {
      "text/plain": [
       "'kihtraK'"
      ]
     },
     "execution_count": 339,
     "metadata": {},
     "output_type": "execute_result"
    }
   ],
   "source": [
    "name[::-1]"
   ]
  },
  {
   "cell_type": "code",
   "execution_count": 340,
   "id": "1071790a-e65e-446d-82b6-a555831b2fd7",
   "metadata": {},
   "outputs": [
    {
     "data": {
      "text/plain": [
       "' ecneicS'"
      ]
     },
     "execution_count": 340,
     "metadata": {},
     "output_type": "execute_result"
    }
   ],
   "source": [
    "course_name[12:4:-1]"
   ]
  },
  {
   "cell_type": "code",
   "execution_count": 341,
   "id": "30e81a85-f7ee-44cc-9ab4-8fc37bef8600",
   "metadata": {},
   "outputs": [
    {
     "data": {
      "text/plain": [
       "'Science'"
      ]
     },
     "execution_count": 341,
     "metadata": {},
     "output_type": "execute_result"
    }
   ],
   "source": [
    "course_name[5:12]"
   ]
  },
  {
   "cell_type": "code",
   "execution_count": 342,
   "id": "459f5320-d777-4669-a64e-452429908a28",
   "metadata": {},
   "outputs": [
    {
     "data": {
      "text/plain": [
       "'Data Science Masters'"
      ]
     },
     "execution_count": 342,
     "metadata": {},
     "output_type": "execute_result"
    }
   ],
   "source": [
    "course_name"
   ]
  },
  {
   "cell_type": "code",
   "execution_count": 343,
   "id": "e0e74ef5-e223-4263-ba98-0ff60db18f67",
   "metadata": {},
   "outputs": [
    {
     "data": {
      "text/plain": [
       "'ecneicS'"
      ]
     },
     "execution_count": 343,
     "metadata": {},
     "output_type": "execute_result"
    }
   ],
   "source": [
    "course_name[11:4:-1]"
   ]
  },
  {
   "cell_type": "code",
   "execution_count": 344,
   "id": "3d5ccf57-dcd2-49eb-9034-e3bb5d1d2bc0",
   "metadata": {},
   "outputs": [
    {
     "data": {
      "text/plain": [
       "' ecneicS'"
      ]
     },
     "execution_count": 344,
     "metadata": {},
     "output_type": "execute_result"
    }
   ],
   "source": [
    "course_name[12:4:-1]"
   ]
  },
  {
   "cell_type": "code",
   "execution_count": 345,
   "id": "a18818d3-9bd8-4f53-b42d-8cd20e4ae75d",
   "metadata": {},
   "outputs": [
    {
     "data": {
      "text/plain": [
       "' ecneic'"
      ]
     },
     "execution_count": 345,
     "metadata": {},
     "output_type": "execute_result"
    }
   ],
   "source": [
    "course_name[12:5:-1]"
   ]
  },
  {
   "cell_type": "code",
   "execution_count": 346,
   "id": "bc58ca47-02da-47d0-926a-6ca62aaf8b10",
   "metadata": {},
   "outputs": [
    {
     "data": {
      "text/plain": [
       "'Data Science MastersCourse'"
      ]
     },
     "execution_count": 346,
     "metadata": {},
     "output_type": "execute_result"
    }
   ],
   "source": [
    "## concatentaion\n",
    "course_name + \"Course\""
   ]
  },
  {
   "cell_type": "code",
   "execution_count": 369,
   "id": "0b3dd5fc-1fe3-416c-89ef-ab35f09a8981",
   "metadata": {},
   "outputs": [
    {
     "data": {
      "text/plain": [
       "'a Science'"
      ]
     },
     "execution_count": 369,
     "metadata": {},
     "output_type": "execute_result"
    }
   ],
   "source": [
    "course_name[3:12:1]"
   ]
  },
  {
   "cell_type": "code",
   "execution_count": 348,
   "id": "c0293d8e-9f11-4aa7-a708-af0276285752",
   "metadata": {},
   "outputs": [
    {
     "name": "stdout",
     "output_type": "stream",
     "text": [
      "HelloWorlds\n"
     ]
    }
   ],
   "source": [
    "print(\"Hello\" + \"Worlds\")"
   ]
  },
  {
   "cell_type": "code",
   "execution_count": 349,
   "id": "5aa2fe35-07fb-4cb8-8874-9058ac4e1172",
   "metadata": {},
   "outputs": [
    {
     "data": {
      "text/plain": [
       "'Data Science MastersData Science MastersData Science MastersData Science MastersData Science Masters'"
      ]
     },
     "execution_count": 349,
     "metadata": {},
     "output_type": "execute_result"
    }
   ],
   "source": [
    "course_name *5"
   ]
  },
  {
   "cell_type": "code",
   "execution_count": 370,
   "id": "d6499265-aba8-49bc-b644-b6f1188717ed",
   "metadata": {},
   "outputs": [
    {
     "data": {
      "text/plain": [
       "20"
      ]
     },
     "execution_count": 370,
     "metadata": {},
     "output_type": "execute_result"
    }
   ],
   "source": [
    "len(course_name)"
   ]
  },
  {
   "cell_type": "code",
   "execution_count": 371,
   "id": "18589de0-422c-4fda-9e40-dd0b4b1a9960",
   "metadata": {},
   "outputs": [
    {
     "data": {
      "text/plain": [
       "'Data Science Masters'"
      ]
     },
     "execution_count": 371,
     "metadata": {},
     "output_type": "execute_result"
    }
   ],
   "source": [
    "course_name"
   ]
  },
  {
   "cell_type": "code",
   "execution_count": 372,
   "id": "c2fcf69e-5d14-4679-b4aa-64ae2b42166f",
   "metadata": {},
   "outputs": [
    {
     "data": {
      "text/plain": [
       "9"
      ]
     },
     "execution_count": 372,
     "metadata": {},
     "output_type": "execute_result"
    }
   ],
   "source": [
    "## find function\n",
    "course_name.find(\"n\")  ## counting starts from zero"
   ]
  },
  {
   "cell_type": "code",
   "execution_count": 373,
   "id": "62b9d8ab-dde3-48e9-8703-a4cdf2e80b19",
   "metadata": {},
   "outputs": [
    {
     "data": {
      "text/plain": [
       "3"
      ]
     },
     "execution_count": 373,
     "metadata": {},
     "output_type": "execute_result"
    }
   ],
   "source": [
    "course_name.find(\"a\",2,10)"
   ]
  },
  {
   "cell_type": "code",
   "execution_count": 353,
   "id": "58e88d61-0829-435e-a86f-24dfc0b5763d",
   "metadata": {},
   "outputs": [
    {
     "data": {
      "text/plain": [
       "-1"
      ]
     },
     "execution_count": 353,
     "metadata": {},
     "output_type": "execute_result"
    }
   ],
   "source": [
    "course_name.find(\"z\")"
   ]
  },
  {
   "cell_type": "code",
   "execution_count": 354,
   "id": "b9172204-126b-4f9e-a5b1-c7abeb3993a3",
   "metadata": {},
   "outputs": [
    {
     "data": {
      "text/plain": [
       "'Data Science Masters'"
      ]
     },
     "execution_count": 354,
     "metadata": {},
     "output_type": "execute_result"
    }
   ],
   "source": [
    "course_name"
   ]
  },
  {
   "cell_type": "code",
   "execution_count": 54,
   "id": "4eecc160-d7d2-4643-b654-9b9873a2c25e",
   "metadata": {},
   "outputs": [
    {
     "ename": "NameError",
     "evalue": "name 'course_name' is not defined",
     "output_type": "error",
     "traceback": [
      "\u001b[0;31m---------------------------------------------------------------------------\u001b[0m",
      "\u001b[0;31mNameError\u001b[0m                                 Traceback (most recent call last)",
      "Cell \u001b[0;32mIn[54], line 2\u001b[0m\n\u001b[1;32m      1\u001b[0m \u001b[38;5;66;03m## count()\u001b[39;00m\n\u001b[0;32m----> 2\u001b[0m \u001b[43mcourse_name\u001b[49m\u001b[38;5;241m.\u001b[39mcount(\u001b[38;5;124m'\u001b[39m\u001b[38;5;124ma\u001b[39m\u001b[38;5;124m'\u001b[39m)\n",
      "\u001b[0;31mNameError\u001b[0m: name 'course_name' is not defined"
     ]
    }
   ],
   "source": [
    "## count()\n",
    "course_name.count('a')"
   ]
  },
  {
   "cell_type": "code",
   "execution_count": null,
   "id": "9e5d8558-545b-4f18-a88c-abe4c7cf9076",
   "metadata": {},
   "outputs": [],
   "source": [
    "course_name.count(' ')"
   ]
  },
  {
   "cell_type": "code",
   "execution_count": null,
   "id": "44d59c0e-9975-49f4-9ba9-caec6ed03987",
   "metadata": {},
   "outputs": [],
   "source": [
    "course_name.count('')"
   ]
  },
  {
   "cell_type": "code",
   "execution_count": null,
   "id": "5defc0bf-4419-4a1f-a307-ab8e69990249",
   "metadata": {},
   "outputs": [],
   "source": [
    "course_name"
   ]
  },
  {
   "cell_type": "code",
   "execution_count": null,
   "id": "60317737-6bf3-4abc-9b69-fd351045233f",
   "metadata": {},
   "outputs": [],
   "source": [
    "course_name[::-1]"
   ]
  },
  {
   "cell_type": "code",
   "execution_count": null,
   "id": "6671a097-62c3-4830-b04a-c22259fb2b37",
   "metadata": {},
   "outputs": [],
   "source": [
    "# string split function"
   ]
  },
  {
   "cell_type": "code",
   "execution_count": null,
   "id": "881c48a9-5f31-4f8a-b755-66d8321ff65a",
   "metadata": {},
   "outputs": [],
   "source": [
    "course_name.split(' ')"
   ]
  },
  {
   "cell_type": "code",
   "execution_count": 55,
   "id": "e0236b25-fbba-4ede-be00-6069d36987f9",
   "metadata": {},
   "outputs": [
    {
     "ename": "NameError",
     "evalue": "name 'course_name' is not defined",
     "output_type": "error",
     "traceback": [
      "\u001b[0;31m---------------------------------------------------------------------------\u001b[0m",
      "\u001b[0;31mNameError\u001b[0m                                 Traceback (most recent call last)",
      "Cell \u001b[0;32mIn[55], line 1\u001b[0m\n\u001b[0;32m----> 1\u001b[0m \u001b[43mcourse_name\u001b[49m\n",
      "\u001b[0;31mNameError\u001b[0m: name 'course_name' is not defined"
     ]
    }
   ],
   "source": [
    "course_name"
   ]
  },
  {
   "cell_type": "code",
   "execution_count": null,
   "id": "3c7e9daf-620c-49ce-8aa7-22f0707fe39a",
   "metadata": {},
   "outputs": [],
   "source": [
    "course_name.split('S')"
   ]
  },
  {
   "cell_type": "code",
   "execution_count": null,
   "id": "3de0a6ca-5651-4ca4-9ed1-8564bbfc98a9",
   "metadata": {},
   "outputs": [],
   "source": [
    "course_name.split('s')"
   ]
  },
  {
   "cell_type": "code",
   "execution_count": null,
   "id": "b927ad1b-a034-4f93-8ce6-4020957b2f5c",
   "metadata": {},
   "outputs": [],
   "source": [
    "course_name.partition('s')"
   ]
  },
  {
   "cell_type": "code",
   "execution_count": null,
   "id": "167646c5-c071-4ae1-9c43-b3e144e668bf",
   "metadata": {},
   "outputs": [],
   "source": [
    "## SString upper and lowercase\n",
    "course_name.upper()\n"
   ]
  },
  {
   "cell_type": "code",
   "execution_count": null,
   "id": "b16d77e5-6232-4ec4-94cc-c39cd6d388a3",
   "metadata": {},
   "outputs": [],
   "source": [
    "course_name.lower()"
   ]
  },
  {
   "cell_type": "code",
   "execution_count": 56,
   "id": "9ebc066c-58bc-4cec-8283-2f7d73cf64c7",
   "metadata": {},
   "outputs": [
    {
     "ename": "NameError",
     "evalue": "name 'course_name' is not defined",
     "output_type": "error",
     "traceback": [
      "\u001b[0;31m---------------------------------------------------------------------------\u001b[0m",
      "\u001b[0;31mNameError\u001b[0m                                 Traceback (most recent call last)",
      "Cell \u001b[0;32mIn[56], line 1\u001b[0m\n\u001b[0;32m----> 1\u001b[0m \u001b[43mcourse_name\u001b[49m\n",
      "\u001b[0;31mNameError\u001b[0m: name 'course_name' is not defined"
     ]
    }
   ],
   "source": [
    "course_name"
   ]
  },
  {
   "cell_type": "code",
   "execution_count": null,
   "id": "eaf83939-b58a-432c-a8e9-3214b9f7a0dd",
   "metadata": {},
   "outputs": [],
   "source": [
    "course_name.swapcase()"
   ]
  },
  {
   "cell_type": "code",
   "execution_count": null,
   "id": "15bae527-4570-4580-8aa7-f8ee21145529",
   "metadata": {},
   "outputs": [],
   "source": [
    "course_name.title()"
   ]
  },
  {
   "cell_type": "code",
   "execution_count": null,
   "id": "78841045-562c-418a-a37a-a3fe877a2810",
   "metadata": {},
   "outputs": [],
   "source": [
    "name=\"krish nbaik\""
   ]
  },
  {
   "cell_type": "code",
   "execution_count": null,
   "id": "a4610ea2-a6f9-4634-bbeb-cdd1cf109116",
   "metadata": {},
   "outputs": [],
   "source": [
    "name.title()"
   ]
  },
  {
   "cell_type": "code",
   "execution_count": null,
   "id": "bc900f16-2795-4e8c-86b7-59f632f28122",
   "metadata": {},
   "outputs": [],
   "source": [
    "bin(-2)"
   ]
  },
  {
   "cell_type": "code",
   "execution_count": null,
   "id": "7decf215-60bc-4170-a13a-18e5b42fc043",
   "metadata": {},
   "outputs": [],
   "source": [
    "len(course_name)"
   ]
  },
  {
   "cell_type": "code",
   "execution_count": null,
   "id": "4fc83c17-01b2-4fb9-a3bc-266327a9ba6c",
   "metadata": {},
   "outputs": [],
   "source": [
    "course_name.count('')"
   ]
  },
  {
   "cell_type": "code",
   "execution_count": null,
   "id": "ab613bff-e15a-4be4-a500-001de69a289e",
   "metadata": {},
   "outputs": [],
   "source": [
    "course_name[-5:10]"
   ]
  },
  {
   "cell_type": "code",
   "execution_count": null,
   "id": "ae4751b9-88d1-47f1-aca2-feb299e33fcf",
   "metadata": {},
   "outputs": [],
   "source": [
    "course_name"
   ]
  },
  {
   "cell_type": "code",
   "execution_count": null,
   "id": "94200727-d973-4c38-957e-6da77e86017b",
   "metadata": {},
   "outputs": [],
   "source": [
    "## Assignments\n",
    "size = int(input(\"Enter the triangle Length:\"))\n",
    "for i in range(size):\n",
    "    for j in range(size-i):\n",
    "        print(\"\",end=\" \")\n",
    "    for k in range(i+1) :\n",
    "        print(\"*\",end=\"\")\n",
    "    for m in range(k-1):\n",
    "        print(\"*\", end=\"\")\n",
    "    print()\n"
   ]
  },
  {
   "cell_type": "code",
   "execution_count": null,
   "id": "304e81cc-7705-4c69-bd42-33db96c0975b",
   "metadata": {},
   "outputs": [],
   "source": [
    "course_name.upper()."
   ]
  },
  {
   "cell_type": "code",
   "execution_count": null,
   "id": "fda983fb-2493-4b08-bb3d-c6c16daf7a38",
   "metadata": {},
   "outputs": [],
   "source": [
    "## solution 2\n",
    "n = 10\n",
    "for i in range(n):\n",
    "    print(\" \"*(n-i),end='')\n",
    "    for j in range(i*2+1):\n",
    "        print(\"*\",end=\"\")\n",
    "    print()\n"
   ]
  },
  {
   "cell_type": "code",
   "execution_count": null,
   "id": "d9a15044-1702-41b7-a009-7a8aa719959e",
   "metadata": {},
   "outputs": [],
   "source": [
    "course_name"
   ]
  },
  {
   "cell_type": "code",
   "execution_count": null,
   "id": "b411a520-9005-4268-b8cd-c29381fbebb3",
   "metadata": {},
   "outputs": [],
   "source": []
  },
  {
   "cell_type": "code",
   "execution_count": null,
   "id": "1e3283f5-68e6-43a4-ad4e-a0d0dec00c89",
   "metadata": {},
   "outputs": [],
   "source": []
  },
  {
   "cell_type": "code",
   "execution_count": null,
   "id": "4ccf7ef2-0478-4695-afed-7d52be6cdcfe",
   "metadata": {},
   "outputs": [],
   "source": []
  }
 ],
 "metadata": {
  "kernelspec": {
   "display_name": "Python 3 (ipykernel)",
   "language": "python",
   "name": "python3"
  },
  "language_info": {
   "codemirror_mode": {
    "name": "ipython",
    "version": 3
   },
   "file_extension": ".py",
   "mimetype": "text/x-python",
   "name": "python",
   "nbconvert_exporter": "python",
   "pygments_lexer": "ipython3",
   "version": "3.10.8"
  }
 },
 "nbformat": 4,
 "nbformat_minor": 5
}
