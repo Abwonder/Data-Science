{
 "cells": [
  {
   "cell_type": "markdown",
   "id": "c3d87558",
   "metadata": {},
   "source": [
    "## Best practices when writing code"
   ]
  },
  {
   "cell_type": "code",
   "execution_count": 1,
   "id": "31348c43-94ec-4f33-ba41-0126c9a39d1e",
   "metadata": {},
   "outputs": [
    {
     "name": "stdout",
     "output_type": "stream",
     "text": [
      "division by zero\n"
     ]
    }
   ],
   "source": [
    "#use always a specific exception\n",
    "try :\n",
    "    10/0\n",
    "except Exception as e : # super class\n",
    "    print(e)   ## not code it is not specific, it is super class"
   ]
  },
  {
   "cell_type": "code",
   "execution_count": 2,
   "id": "716f6e45-aef9-461e-988b-c93e8aa5d0e8",
   "metadata": {},
   "outputs": [
    {
     "name": "stdout",
     "output_type": "stream",
     "text": [
      "division by zero\n"
     ]
    }
   ],
   "source": [
    "try :\n",
    "    10/0\n",
    "except ZeroDivisionError as e :\n",
    "    print(e)"
   ]
  },
  {
   "cell_type": "code",
   "execution_count": 3,
   "id": "23447a5a-658b-4fd2-8a00-0af0f72c3c53",
   "metadata": {},
   "outputs": [
    {
     "name": "stdout",
     "output_type": "stream",
     "text": [
      "this is my zero dedision error i am handling  division by zero\n"
     ]
    }
   ],
   "source": [
    "#print always a valid msg\n",
    "try :\n",
    "    10/0\n",
    "except ZeroDivisionError as e :\n",
    "    print(\"this is my zero dedision error i am handling \" , e)"
   ]
  },
  {
   "cell_type": "code",
   "execution_count": 4,
   "id": "852ef67e-487a-4ea5-ab7f-2a1486b1682a",
   "metadata": {},
   "outputs": [],
   "source": [
    "#always try to log \n",
    "import logging\n",
    "logging.basicConfig(filename = \"error.log\" , level = logging.ERROR)\n",
    "try :\n",
    "    10/0\n",
    "except ZeroDivisionError as e :\n",
    "    logging.error(\"this is my zero dedision error i am handling {} \".format( e))\n"
   ]
  },
  {
   "cell_type": "code",
   "execution_count": 5,
   "id": "01dca34d-63f2-4a04-bbd0-433e504e1e6a",
   "metadata": {},
   "outputs": [],
   "source": [
    "#always avoid to write a multiple exception handling \n",
    "try :\n",
    "    10/0\n",
    "except FileNotFoundError as e : \n",
    "    logging.error(\"this is my file not found  {} \".format( e))\n",
    "except AttributeError as e : \n",
    "    logging.error(\"this is my attribute erro  {} \".format( e))\n",
    "except ZeroDivisionError as e :\n",
    "    logging.error(\"this is my zero dedision error i am handling {} \".format( e))\n"
   ]
  },
  {
   "cell_type": "code",
   "execution_count": 6,
   "id": "3c3fef08-5872-461d-91c9-4fbae19a8e6e",
   "metadata": {},
   "outputs": [],
   "source": [
    "#prepare a proper documnetation"
   ]
  },
  {
   "cell_type": "code",
   "execution_count": 6,
   "id": "dd415e6f",
   "metadata": {},
   "outputs": [
    {
     "ename": "SyntaxError",
     "evalue": "invalid syntax (1494537680.py, line 3)",
     "output_type": "error",
     "traceback": [
      "\u001b[1;36m  Input \u001b[1;32mIn [6]\u001b[1;36m\u001b[0m\n\u001b[1;33m    R = X*X print \"Square=\",R\u001b[0m\n\u001b[1;37m            ^\u001b[0m\n\u001b[1;31mSyntaxError\u001b[0m\u001b[1;31m:\u001b[0m invalid syntax\n"
     ]
    }
   ],
   "source": [
    "X = int(input(\"Enter a Number\")) \n",
    "\n",
    "R = X*X print \"Square=\",R"
   ]
  },
  {
   "cell_type": "code",
   "execution_count": null,
   "id": "222f08b8-c1e9-46d7-abd2-2d26ea36805e",
   "metadata": {},
   "outputs": [],
   "source": [
    "#cleanup all the resources \n",
    "\n",
    "try :\n",
    "    with open(\"test.txt\" , \"w\" ) as f :\n",
    "        f.write(\"thsi is my msg to file \" )\n",
    "except FileNotFoundError as e : \n",
    "     logging.error(\"this is my file not found  {} \".format( e))\n",
    "finally : \n",
    "    f.close()"
   ]
  }
 ],
 "metadata": {
  "kernelspec": {
   "display_name": "Python 3 (ipykernel)",
   "language": "python",
   "name": "python3"
  },
  "language_info": {
   "codemirror_mode": {
    "name": "ipython",
    "version": 3
   },
   "file_extension": ".py",
   "mimetype": "text/x-python",
   "name": "python",
   "nbconvert_exporter": "python",
   "pygments_lexer": "ipython3",
   "version": "3.9.12"
  }
 },
 "nbformat": 4,
 "nbformat_minor": 5
}
