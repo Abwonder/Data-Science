{
 "cells": [
  {
   "cell_type": "markdown",
   "id": "2d43783e",
   "metadata": {},
   "source": [
    "## Mongodb Assignment_Feb17"
   ]
  },
  {
   "cell_type": "markdown",
   "id": "a3061f1e",
   "metadata": {},
   "source": [
    "### Question 1\n",
    "Q1. What is MongoDB? Explain non-relational databases in short. In which scenarios it is preferred to use\n",
    "MongoDB over SQL databases?\n",
    "\n",
    "MongoDB is a document-oriented NoSQL database used for high volume data storage which permits the scalability and flexibility that complexity in application requires. When compared to SQL, instead of using tables and rows as in the traditional relational databases MongoDB makes use of collections and documents which consist of key-value pairs which formed the basic unit of data in mongoDB.\n",
    "\n",
    "Non-relational databases are used for storing unstructured data and do not require structured language to query them which implies these databases doesn't use tables, row and column to store data.\n",
    "\n",
    "\n",
    "Scenarios where mongoDB is preferred is as follows:\n",
    "1. When high data availability if require automatically, fast and instantly.\n",
    "2. when scalability is a major goal, mongDB has capability to handle fast growth as it has sharding solution.\n",
    "3. when cloud computation is needed, mongodb in use for cloud computing\n"
   ]
  },
  {
   "cell_type": "markdown",
   "id": "394edcfa",
   "metadata": {},
   "source": [
    "### Question 2\n",
    "Q2. State and Explain the features of MongoDB.\n",
    "\n",
    "a. Ad-hoc queries for optimized, real-time analytics\n",
    "b. Indexing appropriately for better query executions\n",
    "c. Replication for better data availability and stability\n",
    "d. Sharding\n",
    "e. Load balancing\n",
    "\n",
    "    Ad-hoc queries for optimized, real-time analytics ==> An ad hoc query is a short-lived command whose value depends on a variable, and each time an ad hoc query is executed, the result may be different, depending on the variables in question. it also supports and account for user defined queries  and so other queries\n",
    "    \n",
    "    Indexing appropriately for better query executions ==> Indexing is properly done on mongodb which helps improve search speed and performance. it offers a broad range of indices and features with language-specific sort orders that support complex access patterns to datasets.\n",
    "    \n",
    "    Replication for better data availability and stability ==> Replication is employed on mongodb because When data only resides in a single database, it is exposed to multiple potential points of failure, such as a server crash, service interruptions, or even good old hardware failure. Any of these events would make accessing your data nearly impossible. So, replica sets are employed for this purpose which simply means aprimary server or node accepts all write operations and applies those same operations across secondary servers, replicating the data. If the primary server should ever experience a critical failure, any one of the secondary servers can be elected to become the new primary node. And if the former primary node comes back online, it does so as a secondary server for the new primary node.\n",
    "    Sharding ==> this can be define as the process of splitting larger datasets across multiple distributed collections, or “shards”. This helps the database distribute and better execute what might otherwise be problematic and cumbersome queries. Without sharding, scaling a growing web application with millions of daily users is nearly impossible.\n",
    "    Load balancing ==> "
   ]
  },
  {
   "cell_type": "code",
   "execution_count": null,
   "id": "a35b5e4c",
   "metadata": {},
   "outputs": [],
   "source": []
  },
  {
   "cell_type": "code",
   "execution_count": null,
   "id": "5c368a58",
   "metadata": {},
   "outputs": [],
   "source": []
  },
  {
   "cell_type": "code",
   "execution_count": null,
   "id": "5d3bf712",
   "metadata": {},
   "outputs": [],
   "source": []
  },
  {
   "cell_type": "code",
   "execution_count": null,
   "id": "b5bbe1cc",
   "metadata": {},
   "outputs": [],
   "source": []
  },
  {
   "cell_type": "code",
   "execution_count": null,
   "id": "bd8912e2",
   "metadata": {},
   "outputs": [],
   "source": []
  },
  {
   "cell_type": "code",
   "execution_count": null,
   "id": "15fa52bd",
   "metadata": {},
   "outputs": [],
   "source": []
  },
  {
   "cell_type": "markdown",
   "id": "6dd7f4c0",
   "metadata": {},
   "source": [
    "Q1. What is MongoDB? Explain non-relational databases in short. In which scenarios it is preferred to use\n",
    "MongoDB over SQL databases?\n",
    "Q2. State and Explain the features of MongoDB.\n",
    "Q3. Write a code to connect MongoDB to Python. Also, create a database and a collection in MongoDB.\n",
    "Q4. Using the database and the collection created in question number 3, write a code to insert one record,\n",
    "and insert many records. Use the find() and find_one() methods to print the inserted record.\n",
    "Q5. Explain how you can use the find() method to query the MongoDB database. Write a simple code to\n",
    "demonstrate this.\n",
    "Q6. Explain the sort() method. Give an example to demonstrate sorting in MongoDB.\n",
    "Q7. Explain why delete_one(), delete_many(), and drop() is used."
   ]
  },
  {
   "cell_type": "code",
   "execution_count": null,
   "id": "c8ed1f49",
   "metadata": {},
   "outputs": [],
   "source": []
  },
  {
   "cell_type": "code",
   "execution_count": null,
   "id": "2b7a32ac",
   "metadata": {},
   "outputs": [],
   "source": []
  },
  {
   "cell_type": "code",
   "execution_count": null,
   "id": "cdeb04c1",
   "metadata": {},
   "outputs": [],
   "source": []
  },
  {
   "cell_type": "code",
   "execution_count": null,
   "id": "09dc15c4",
   "metadata": {},
   "outputs": [],
   "source": []
  },
  {
   "cell_type": "code",
   "execution_count": null,
   "id": "e02bca01",
   "metadata": {},
   "outputs": [],
   "source": []
  },
  {
   "cell_type": "code",
   "execution_count": null,
   "id": "c012f6e9",
   "metadata": {},
   "outputs": [],
   "source": []
  },
  {
   "cell_type": "code",
   "execution_count": null,
   "id": "64987f8a",
   "metadata": {},
   "outputs": [],
   "source": []
  },
  {
   "cell_type": "code",
   "execution_count": null,
   "id": "96fad191",
   "metadata": {},
   "outputs": [],
   "source": []
  },
  {
   "cell_type": "code",
   "execution_count": null,
   "id": "60ec938f",
   "metadata": {},
   "outputs": [],
   "source": []
  },
  {
   "cell_type": "code",
   "execution_count": null,
   "id": "d0caa9e4",
   "metadata": {},
   "outputs": [],
   "source": []
  }
 ],
 "metadata": {
  "kernelspec": {
   "display_name": "Python 3 (ipykernel)",
   "language": "python",
   "name": "python3"
  },
  "language_info": {
   "codemirror_mode": {
    "name": "ipython",
    "version": 3
   },
   "file_extension": ".py",
   "mimetype": "text/x-python",
   "name": "python",
   "nbconvert_exporter": "python",
   "pygments_lexer": "ipython3",
   "version": "3.9.12"
  }
 },
 "nbformat": 4,
 "nbformat_minor": 5
}
