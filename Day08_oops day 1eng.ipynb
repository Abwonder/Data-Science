{
 "cells": [
  {
   "cell_type": "markdown",
   "id": "a52a0032-2da0-4eca-a234-9f72c780fc49",
   "metadata": {},
   "source": [
    "\"Oops\" stands for Object-Oriented Programming System"
   ]
  },
  {
   "cell_type": "code",
   "execution_count": 1,
   "id": "4e1d9ea2-9cd4-472d-a1c2-5c763334d982",
   "metadata": {},
   "outputs": [],
   "source": [
    "a= 1"
   ]
  },
  {
   "cell_type": "code",
   "execution_count": 2,
   "id": "10864483-fdee-4790-8caf-54e5fa32d0e2",
   "metadata": {},
   "outputs": [
    {
     "name": "stdout",
     "output_type": "stream",
     "text": [
      "<class 'int'>\n"
     ]
    }
   ],
   "source": [
    "print(type(a))  ## the question comes up what is class"
   ]
  },
  {
   "cell_type": "code",
   "execution_count": 3,
   "id": "97f7fc1a-9f08-4761-b2b3-778706dcaadd",
   "metadata": {},
   "outputs": [
    {
     "name": "stdout",
     "output_type": "stream",
     "text": [
      "<class 'str'>\n"
     ]
    }
   ],
   "source": [
    "print(type(\"pwskills\")) ## same here\n",
    "\n",
    "## it is synonymous to classification of real life objects\n",
    "## with different attributes!!!"
   ]
  },
  {
   "cell_type": "code",
   "execution_count": 4,
   "id": "d1d30468-6a87-4e70-ba0d-9c1192ba5565",
   "metadata": {},
   "outputs": [],
   "source": [
    "class test:  ## this is how class is created!!!\n",
    "    pass\n",
    "## with the class descriptor we will be able to invoke properties of the class    "
   ]
  },
  {
   "cell_type": "code",
   "execution_count": 5,
   "id": "443b8b20-9c7a-4450-8d48-730ea2997782",
   "metadata": {},
   "outputs": [],
   "source": [
    "class test:\n",
    "    pass"
   ]
  },
  {
   "cell_type": "code",
   "execution_count": 6,
   "id": "e0df25d7-7b4e-40bf-9993-5db5c5b5a953",
   "metadata": {},
   "outputs": [],
   "source": [
    "a = test()   ## a becomes the object or instance of the class test"
   ]
  },
  {
   "cell_type": "code",
   "execution_count": 7,
   "id": "f8b23ac6-6749-4e79-8f87-0c68ceabbb5d",
   "metadata": {},
   "outputs": [
    {
     "name": "stdout",
     "output_type": "stream",
     "text": [
      "<class '__main__.test'>\n"
     ]
    }
   ],
   "source": [
    "print(type(a))  ## class ot test"
   ]
  },
  {
   "cell_type": "code",
   "execution_count": 8,
   "id": "288f5741-3a63-4f02-abee-cc684180a279",
   "metadata": {},
   "outputs": [],
   "source": [
    "# creating class with one function defined\n",
    "class pwskills:\n",
    "    \n",
    "    def welcome_msg(self):\n",
    "        print(\"welcome to pwskills\")"
   ]
  },
  {
   "cell_type": "code",
   "execution_count": 9,
   "id": "cf486dc0-0f4d-42fc-a136-b015ce6bbc8d",
   "metadata": {},
   "outputs": [
    {
     "name": "stdout",
     "output_type": "stream",
     "text": [
      "welcome to pwskills\n"
     ]
    }
   ],
   "source": [
    "pwskills().welcome_msg() ## form it can be written!!!"
   ]
  },
  {
   "cell_type": "code",
   "execution_count": 14,
   "id": "563bf795-b761-438b-8b0c-f2fd5d97ba96",
   "metadata": {},
   "outputs": [],
   "source": [
    "rohan = pwskills() ## rohan becomes the placeholder!!!"
   ]
  },
  {
   "cell_type": "code",
   "execution_count": 15,
   "id": "a2fc2f97-ff9f-46de-af3b-59b7dd8199e7",
   "metadata": {},
   "outputs": [
    {
     "name": "stdout",
     "output_type": "stream",
     "text": [
      "welcome to pwskills\n"
     ]
    }
   ],
   "source": [
    "rohan.welcome_msg()"
   ]
  },
  {
   "cell_type": "code",
   "execution_count": 11,
   "id": "da0d4d91-700e-48ef-82c6-a16dd68f1a32",
   "metadata": {},
   "outputs": [],
   "source": [
    "## any variable can be use to inherit the class\n",
    "sohan = pwskills()"
   ]
  },
  {
   "cell_type": "code",
   "execution_count": 12,
   "id": "67b55714-d922-47e2-8ceb-a71bfa1c7247",
   "metadata": {},
   "outputs": [
    {
     "name": "stdout",
     "output_type": "stream",
     "text": [
      "welcome to pwskills\n"
     ]
    }
   ],
   "source": [
    "#welcome_msg() is a function inside class pwskills()\n",
    "sohan.welcome_msg()  ## accessing the functions\n"
   ]
  },
  {
   "cell_type": "code",
   "execution_count": 31,
   "id": "c5d50aa5-1785-4d6c-ab28-601e5b4b15f6",
   "metadata": {},
   "outputs": [],
   "source": [
    "## My example, demonstrating two function: note infinite number of function can be place within a class object\n",
    "\n",
    "class abioye:  ## note when defining class no bracket for object(ie not abioye())\n",
    "    \n",
    "    def brothers():\n",
    "        print(\"The name of my brother are: wale, ayinla, segun\")\n",
    "        \n",
    "    # def sisters():\n",
    "    #     print(\"sisters are: Abigeal, lora\")\n"
   ]
  },
  {
   "cell_type": "code",
   "execution_count": 32,
   "id": "3b1f3b18-632d-4baa-b12a-561328898fae",
   "metadata": {},
   "outputs": [
    {
     "ename": "TypeError",
     "evalue": "abioye.brothers() takes 0 positional arguments but 1 was given",
     "output_type": "error",
     "traceback": [
      "\u001b[0;31m---------------------------------------------------------------------------\u001b[0m",
      "\u001b[0;31mTypeError\u001b[0m                                 Traceback (most recent call last)",
      "Cell \u001b[0;32mIn[32], line 4\u001b[0m\n\u001b[1;32m      1\u001b[0m \u001b[38;5;66;03m## accessing the functions\u001b[39;00m\n\u001b[1;32m      2\u001b[0m \u001b[38;5;66;03m## place holder or descriptor\u001b[39;00m\n\u001b[0;32m----> 4\u001b[0m \u001b[43mabioye\u001b[49m\u001b[43m(\u001b[49m\u001b[43m)\u001b[49m\u001b[38;5;241;43m.\u001b[39;49m\u001b[43mbrothers\u001b[49m\u001b[43m(\u001b[49m\u001b[43m)\u001b[49m\n\u001b[1;32m      5\u001b[0m \u001b[38;5;66;03m# de_abioye=abioye()\u001b[39;00m\n",
      "\u001b[0;31mTypeError\u001b[0m: abioye.brothers() takes 0 positional arguments but 1 was given"
     ]
    }
   ],
   "source": [
    "## accessing the functions\n",
    "## place holder or descriptor\n",
    "\n",
    "abioye().brothers()  ## this is wrong because when creating a function inside\n",
    "# de_abioye=abioye()\n"
   ]
  },
  {
   "cell_type": "code",
   "execution_count": 33,
   "id": "31d888be-56ce-4807-b730-adbf97e1e1d0",
   "metadata": {},
   "outputs": [
    {
     "name": "stdout",
     "output_type": "stream",
     "text": [
      "The name of my brother are: wale, ayinla, segun\n"
     ]
    }
   ],
   "source": [
    "# lets try if this works without defining function\n",
    "\n",
    "class abioye01:  ## note when defining class no bracket for object(ie not abioye())\n",
    "    print(\"The name of my brother are: wale, ayinla, segun\")  ## it workds !!!"
   ]
  },
  {
   "cell_type": "code",
   "execution_count": 34,
   "id": "9ceceb29-80f6-4f7b-a2a2-2308d03861bb",
   "metadata": {},
   "outputs": [],
   "source": [
    "new_abioye = abioye01()  ## I made it an object, typecasting should help"
   ]
  },
  {
   "cell_type": "code",
   "execution_count": 35,
   "id": "c991f1f2-cf4a-49ed-9821-e976f9003de9",
   "metadata": {},
   "outputs": [
    {
     "data": {
      "text/plain": [
       "<__main__.abioye01 at 0x7f6dc55babf0>"
      ]
     },
     "execution_count": 35,
     "metadata": {},
     "output_type": "execute_result"
    }
   ],
   "source": [
    "new_abioye"
   ]
  },
  {
   "cell_type": "code",
   "execution_count": 37,
   "id": "52902e3b-0516-4e46-bbb1-7fdc075fbbd1",
   "metadata": {},
   "outputs": [
    {
     "name": "stdout",
     "output_type": "stream",
     "text": [
      "<__main__.abioye01 object at 0x7f6dc55babf0>\n"
     ]
    }
   ],
   "source": [
    "print(str(new_abioye)) #did not work"
   ]
  },
  {
   "cell_type": "code",
   "execution_count": 39,
   "id": "9452539d-78f5-4d33-b6b2-8f749550e946",
   "metadata": {},
   "outputs": [
    {
     "name": "stdout",
     "output_type": "stream",
     "text": [
      "<__main__.abioye01 object at 0x7f6dc55babf0>\n"
     ]
    }
   ],
   "source": [
    "print(new_abioye)  ## so did not work!!!"
   ]
  },
  {
   "cell_type": "code",
   "execution_count": 45,
   "id": "debe532c-6a9d-43c3-87c5-2b82c3a123cf",
   "metadata": {},
   "outputs": [
    {
     "name": "stdout",
     "output_type": "stream",
     "text": [
      "The name of my brother are: wale, ayinla, segun\n"
     ]
    }
   ],
   "source": [
    "# best to use!!!\n",
    "class abioye01:  ## note when defining class no bracket for object(ie not abioye())\n",
    "    print(\"The name of my brother are: wale, ayinla, segun\")   works when declared like this"
   ]
  },
  {
   "cell_type": "code",
   "execution_count": 46,
   "id": "0278ce59-3d17-4da2-8f79-8ad00b591a22",
   "metadata": {},
   "outputs": [],
   "source": [
    "## For define function to be use with \n",
    "class abioye01:  ## note when defining class no bracket for object(ie not abioye())\n",
    "    def brothers(self):\n",
    "        print(\"The name of my brother are: wale, ayinla, segun\")"
   ]
  },
  {
   "cell_type": "code",
   "execution_count": 47,
   "id": "9cead254-e4e6-4e72-bbd0-92d4887ff443",
   "metadata": {},
   "outputs": [
    {
     "name": "stdout",
     "output_type": "stream",
     "text": [
      "The name of my brother are: wale, ayinla, segun\n"
     ]
    }
   ],
   "source": [
    "abioye01().brothers() ## this worked, lets add more to it!!"
   ]
  },
  {
   "cell_type": "code",
   "execution_count": 50,
   "id": "27c3c5ec-3f38-4548-8d63-13bffed54d3c",
   "metadata": {},
   "outputs": [],
   "source": [
    "class abioye01:  ## note when defining class no bracket for object(ie not abioye())\n",
    "    def brothers(self):\n",
    "        print(\"The name of my brother are: wale, ayinla, segun\")\n",
    "        \n",
    "    def sisters(self):\n",
    "        print(\"sisters are: Abigeal, lora\")    \n",
    "# Note: the self declaration help class to understand the method belongs to it "
   ]
  },
  {
   "cell_type": "code",
   "execution_count": 54,
   "id": "84ef9ae5-2cf0-47e0-b6d3-b54e604c5ab1",
   "metadata": {},
   "outputs": [
    {
     "name": "stdout",
     "output_type": "stream",
     "text": [
      "The name of my brother are: wale, ayinla, segun\n"
     ]
    }
   ],
   "source": [
    "abioye01().brothers() ## It works, the expression"
   ]
  },
  {
   "cell_type": "code",
   "execution_count": 55,
   "id": "9dda7b42-03ce-4da1-ae1b-eaffa94e19ba",
   "metadata": {},
   "outputs": [
    {
     "name": "stdout",
     "output_type": "stream",
     "text": [
      "sisters are: Abigeal, lora\n"
     ]
    }
   ],
   "source": [
    "abioye01().sisters()  ## It works\n"
   ]
  },
  {
   "cell_type": "code",
   "execution_count": 13,
   "id": "c697ea71-a91d-4544-b837-d6ebaf96b28e",
   "metadata": {},
   "outputs": [],
   "source": [
    "a = 1 "
   ]
  },
  {
   "cell_type": "code",
   "execution_count": 14,
   "id": "7dea4172-c4c0-4a6e-a3eb-12adbe594b8d",
   "metadata": {},
   "outputs": [],
   "source": [
    "b = 2"
   ]
  },
  {
   "cell_type": "code",
   "execution_count": 20,
   "id": "8f04514c-8747-4762-9046-e59428ad3942",
   "metadata": {},
   "outputs": [
    {
     "data": {
      "text/plain": [
       "1"
      ]
     },
     "execution_count": 20,
     "metadata": {},
     "output_type": "execute_result"
    }
   ],
   "source": [
    "a "
   ]
  },
  {
   "cell_type": "code",
   "execution_count": 21,
   "id": "33f8fc37-0c11-48c7-9690-ee93f7e8394d",
   "metadata": {},
   "outputs": [
    {
     "data": {
      "text/plain": [
       "2"
      ]
     },
     "execution_count": 21,
     "metadata": {},
     "output_type": "execute_result"
    }
   ],
   "source": [
    "b"
   ]
  },
  {
   "cell_type": "code",
   "execution_count": null,
   "id": "65c4d6d0-2ccf-4ed3-a6e7-7901f09cb1f3",
   "metadata": {},
   "outputs": [],
   "source": [
    "## contructor helps class to take a data, __init__"
   ]
  },
  {
   "cell_type": "code",
   "execution_count": 65,
   "id": "dfd34ab6-ad2d-419a-a2d0-01ef522c33de",
   "metadata": {},
   "outputs": [],
   "source": [
    "class pwskills1:\n",
    "    \n",
    "    def __init__(self ,phone_number , email_id, student_id ):\n",
    "        \n",
    "        self.phone_number = phone_number\n",
    "        self.email_id = email_id\n",
    "        self.student_id = student_id\n",
    "        \n",
    "# Above declared def __init__ is called constructor.... this is where all the assignment are done\n",
    "    \n",
    "    def return_student_detials(self):  ## This the first function defined\n",
    "        return self.phone_number, self.email_id , self.student_id\n",
    "        \n"
   ]
  },
  {
   "cell_type": "code",
   "execution_count": 57,
   "id": "60639256-0a1e-49c6-8401-dd893774386a",
   "metadata": {},
   "outputs": [],
   "source": [
    "sohan = pwskills1(999679869 , \"sohan@gmail.com\" , 102)  ## all the arguments are declared and can be called individually"
   ]
  },
  {
   "cell_type": "code",
   "execution_count": 66,
   "id": "31dcb04d-f1a9-4ad0-b4eb-f0a9318c0084",
   "metadata": {},
   "outputs": [
    {
     "data": {
      "text/plain": [
       "999679869"
      ]
     },
     "execution_count": 66,
     "metadata": {},
     "output_type": "execute_result"
    }
   ],
   "source": [
    "sohan.phone_number   ## This is sample of calling each arguments\n",
    "#Note: No bracket in front of phone_number because it not a function in the class object!!!"
   ]
  },
  {
   "cell_type": "code",
   "execution_count": 64,
   "id": "95dbb266-8dee-4093-a41e-e0ee223b0bff",
   "metadata": {},
   "outputs": [
    {
     "data": {
      "text/plain": [
       "999679869"
      ]
     },
     "execution_count": 64,
     "metadata": {},
     "output_type": "execute_result"
    }
   ],
   "source": [
    "pwskills1(999679869 , \"sohan@gmail.com\" , 102).phone_number"
   ]
  },
  {
   "cell_type": "code",
   "execution_count": 63,
   "id": "ab5f3d57-93cd-4280-adb1-d6ebb2f277eb",
   "metadata": {},
   "outputs": [
    {
     "data": {
      "text/plain": [
       "'sohan@gmail.com'"
      ]
     },
     "execution_count": 63,
     "metadata": {},
     "output_type": "execute_result"
    }
   ],
   "source": [
    "sohan.email_id ##  "
   ]
  },
  {
   "cell_type": "code",
   "execution_count": null,
   "id": "b227ce21-5237-4e1f-b47c-20c4c6ad8d68",
   "metadata": {},
   "outputs": [],
   "source": []
  },
  {
   "cell_type": "code",
   "execution_count": 68,
   "id": "d00d919b-5e7d-4eac-8c5f-b33a49bac7aa",
   "metadata": {},
   "outputs": [
    {
     "data": {
      "text/plain": [
       "(999679869, 'sohan@gmail.com', 102)"
      ]
     },
     "execution_count": 68,
     "metadata": {},
     "output_type": "execute_result"
    }
   ],
   "source": [
    "sohan.return_student_detials()  ## for functtion, bracket is added to to the method/function\n",
    "##it returns the operations in the function defined\n"
   ]
  },
  {
   "cell_type": "code",
   "execution_count": 73,
   "id": "62bd0500-9ce4-4e38-9752-1906aa35419c",
   "metadata": {},
   "outputs": [],
   "source": [
    "rohan = pwskills1(95435665, \"rohan@gmail.com\" , 101)"
   ]
  },
  {
   "cell_type": "code",
   "execution_count": 74,
   "id": "427bb866-93c8-461b-80ce-03adf81b9bae",
   "metadata": {},
   "outputs": [
    {
     "data": {
      "text/plain": [
       "95435665"
      ]
     },
     "execution_count": 74,
     "metadata": {},
     "output_type": "execute_result"
    }
   ],
   "source": [
    "rohan.phone_number"
   ]
  },
  {
   "cell_type": "code",
   "execution_count": 75,
   "id": "3a24f76a-7854-463e-816d-b9301aeefed1",
   "metadata": {},
   "outputs": [
    {
     "data": {
      "text/plain": [
       "'rohan@gmail.com'"
      ]
     },
     "execution_count": 75,
     "metadata": {},
     "output_type": "execute_result"
    }
   ],
   "source": [
    "rohan.email_id"
   ]
  },
  {
   "cell_type": "code",
   "execution_count": 76,
   "id": "045f181e-7184-4e11-b15b-ab4a1700ea2d",
   "metadata": {},
   "outputs": [
    {
     "data": {
      "text/plain": [
       "101"
      ]
     },
     "execution_count": 76,
     "metadata": {},
     "output_type": "execute_result"
    }
   ],
   "source": [
    "rohan.student_id"
   ]
  },
  {
   "cell_type": "code",
   "execution_count": 77,
   "id": "994b1323-0643-45ef-bc0c-8f6dd7d3e9a6",
   "metadata": {},
   "outputs": [
    {
     "data": {
      "text/plain": [
       "(95435665, 'rohan@gmail.com', 101)"
      ]
     },
     "execution_count": 77,
     "metadata": {},
     "output_type": "execute_result"
    }
   ],
   "source": [
    "rohan.return_student_detials()"
   ]
  },
  {
   "cell_type": "code",
   "execution_count": 85,
   "id": "30daf6bd-4b27-4c61-a38d-6f1e22be94fe",
   "metadata": {},
   "outputs": [],
   "source": [
    "class pwskills2:  \n",
    "    \n",
    "    def __init__(abioye ,phone_number , email_id, student_id ):  ## declarator can be any variable, here its \n",
    "        \n",
    "        abioye.phone_number = phone_number\n",
    "        abioye.email_id = email_id\n",
    "        abioye.student_id = student_id\n",
    "        \n",
    "    \n",
    "    def return_student_detials(abioye):\n",
    "        return abioye.phone_number, abioye.email_id , abioye.student_id"
   ]
  },
  {
   "cell_type": "code",
   "execution_count": 86,
   "id": "864b9c7a-dbf7-48ee-be6b-1c488fd3753c",
   "metadata": {},
   "outputs": [],
   "source": [
    "oyatoye = pwskills2(99699579567, \"mohan@gmail.com\" , 234)  ##mapping to the argument!!"
   ]
  },
  {
   "cell_type": "code",
   "execution_count": 87,
   "id": "748125ab-8f28-4e68-b6b7-2ba5b0a61db3",
   "metadata": {},
   "outputs": [
    {
     "data": {
      "text/plain": [
       "99699579567"
      ]
     },
     "execution_count": 87,
     "metadata": {},
     "output_type": "execute_result"
    }
   ],
   "source": [
    "oyatoye.phone_number"
   ]
  },
  {
   "cell_type": "code",
   "execution_count": 88,
   "id": "ccebf48d-cc13-492a-bcdc-f145a938dc27",
   "metadata": {},
   "outputs": [
    {
     "data": {
      "text/plain": [
       "(99699579567, 'mohan@gmail.com', 234)"
      ]
     },
     "execution_count": 88,
     "metadata": {},
     "output_type": "execute_result"
    }
   ],
   "source": [
    "oyatoye.return_student_detials()"
   ]
  },
  {
   "cell_type": "code",
   "execution_count": 93,
   "id": "54e3f14b-fd9b-4257-bc6c-c496d3be0ce3",
   "metadata": {},
   "outputs": [],
   "source": [
    "class pwskills3:\n",
    "    ## constructor takes data and map them to the class with leading declarator that the can be attributed to!!!\n",
    "    def __init__(sudh ,phone_number , email_id, student_id ):\n",
    "        \n",
    "        sudh.phone_mynumber = phone_number ## place holder after the declaration can be anything to save the initial argument decalared in the constructor\n",
    "        sudh.email_id = email_id\n",
    "        sudh.student_id = student_id\n",
    "###  is a pointer       \n",
    "    \n",
    "    def return_student_detials(sudh):\n",
    "        return sudh.phone_mynumber, sudh.email_id , sudh.student_id"
   ]
  },
  {
   "cell_type": "code",
   "execution_count": 90,
   "id": "57755fd7-f0c6-492d-9b04-4ead901ca7d5",
   "metadata": {},
   "outputs": [],
   "source": [
    "rohan = pwskills3(999735,\"rohan@gmail.com\" , 123)"
   ]
  },
  {
   "cell_type": "code",
   "execution_count": 94,
   "id": "891262b7-bf86-4ac7-aa89-a97c5b802d63",
   "metadata": {},
   "outputs": [
    {
     "data": {
      "text/plain": [
       "999735"
      ]
     },
     "execution_count": 94,
     "metadata": {},
     "output_type": "execute_result"
    }
   ],
   "source": [
    "rohan.phone_mynumber  ## it worked"
   ]
  },
  {
   "cell_type": "code",
   "execution_count": 95,
   "id": "9591bc00-e840-4500-abd7-14ba31140bb5",
   "metadata": {},
   "outputs": [
    {
     "data": {
      "text/plain": [
       "(999735, 'rohan@gmail.com', 123)"
      ]
     },
     "execution_count": 95,
     "metadata": {},
     "output_type": "execute_result"
    }
   ],
   "source": [
    "rohan.return_student_detials() "
   ]
  },
  {
   "cell_type": "code",
   "execution_count": null,
   "id": "475b6927-9584-442a-8860-379392477ea1",
   "metadata": {},
   "outputs": [],
   "source": []
  }
 ],
 "metadata": {
  "kernelspec": {
   "display_name": "Python 3 (ipykernel)",
   "language": "python",
   "name": "python3"
  },
  "language_info": {
   "codemirror_mode": {
    "name": "ipython",
    "version": 3
   },
   "file_extension": ".py",
   "mimetype": "text/x-python",
   "name": "python",
   "nbconvert_exporter": "python",
   "pygments_lexer": "ipython3",
   "version": "3.10.8"
  }
 },
 "nbformat": 4,
 "nbformat_minor": 5
}
