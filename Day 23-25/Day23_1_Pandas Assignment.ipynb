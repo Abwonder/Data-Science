{
 "cells": [
  {
   "cell_type": "markdown",
   "id": "3052023d-9e7e-4855-b3b8-b786f139b3d1",
   "metadata": {},
   "source": [
    "### Pandas Assignment\n"
   ]
  },
  {
   "cell_type": "markdown",
   "id": "74f0fd52-c48c-49dc-8955-dc616978c80f",
   "metadata": {},
   "source": [
    "### Question 1\n",
    "Q1. Create a Pandas Series that contains the following data: 4, 8, 15, 16, 23, and 42. Then, print the series."
   ]
  },
  {
   "cell_type": "code",
   "execution_count": 2,
   "id": "3b454fef-a7b9-44d0-b71e-93fc7a8a1d9d",
   "metadata": {},
   "outputs": [
    {
     "data": {
      "text/plain": [
       "0     4\n",
       "1     8\n",
       "2    15\n",
       "3    16\n",
       "4    23\n",
       "5    42\n",
       "dtype: int64"
      ]
     },
     "execution_count": 2,
     "metadata": {},
     "output_type": "execute_result"
    }
   ],
   "source": [
    "### creating\n",
    "import pandas as pd\n",
    "\n",
    "df = pd.Series([4, 8, 15, 16, 23, 42])\n",
    "df"
   ]
  },
  {
   "cell_type": "code",
   "execution_count": 3,
   "id": "89389d13-148e-4ebf-8442-347f847f1fc4",
   "metadata": {},
   "outputs": [
    {
     "data": {
      "text/plain": [
       "pandas.core.series.Series"
      ]
     },
     "execution_count": 3,
     "metadata": {},
     "output_type": "execute_result"
    }
   ],
   "source": [
    "type(df)"
   ]
  },
  {
   "cell_type": "markdown",
   "id": "a72625c7-d8f1-4c7d-8cc9-1a4023c485b6",
   "metadata": {},
   "source": [
    "### Question 2\n",
    "CQ2.reate a variable of list type containing 10 elements in it, and apply pandas.Series function on the\n",
    "variable print it."
   ]
  },
  {
   "cell_type": "code",
   "execution_count": 4,
   "id": "b48fa639-f753-4267-bc50-9f5a34a53c26",
   "metadata": {},
   "outputs": [
    {
     "data": {
      "text/plain": [
       "[0, 1, 2, 3, 4, 5, 6, 7, 8, 9]"
      ]
     },
     "execution_count": 4,
     "metadata": {},
     "output_type": "execute_result"
    }
   ],
   "source": [
    "var1 = [x for x in range(10)]\n",
    "var1"
   ]
  },
  {
   "cell_type": "code",
   "execution_count": 5,
   "id": "1b679e1b-7f4f-494c-a2af-b76ae6936afa",
   "metadata": {},
   "outputs": [
    {
     "data": {
      "text/plain": [
       "list"
      ]
     },
     "execution_count": 5,
     "metadata": {},
     "output_type": "execute_result"
    }
   ],
   "source": [
    "type(var1)"
   ]
  },
  {
   "cell_type": "code",
   "execution_count": 6,
   "id": "f318b523-3fb5-4095-9d49-d89d3d0ee419",
   "metadata": {},
   "outputs": [
    {
     "data": {
      "text/plain": [
       "0    0\n",
       "1    1\n",
       "2    2\n",
       "3    3\n",
       "4    4\n",
       "5    5\n",
       "6    6\n",
       "7    7\n",
       "8    8\n",
       "9    9\n",
       "dtype: int64"
      ]
     },
     "execution_count": 6,
     "metadata": {},
     "output_type": "execute_result"
    }
   ],
   "source": [
    "df_pad = pd.Series(var1)\n",
    "df_pad"
   ]
  },
  {
   "cell_type": "code",
   "execution_count": 7,
   "id": "0413923f-2da6-4830-ac52-1e1d5fc8591f",
   "metadata": {},
   "outputs": [
    {
     "data": {
      "text/plain": [
       "pandas.core.series.Series"
      ]
     },
     "execution_count": 7,
     "metadata": {},
     "output_type": "execute_result"
    }
   ],
   "source": [
    "type(df_pad)"
   ]
  },
  {
   "cell_type": "markdown",
   "id": "6d222860-97a8-4b44-8bb6-f366305f9613",
   "metadata": {},
   "source": [
    "### Question 3\n",
    "Q3. Create a Pandas DataFrame that contains the following data:\n",
    "\n",
    "Name\n",
    "Alice\n",
    "Bob\n",
    "Claire\n",
    "\n",
    "Age\n",
    "25\n",
    "30\n",
    "27\n",
    "\n",
    "Gender\n",
    "Female\n",
    "Male\n",
    "Female"
   ]
  },
  {
   "cell_type": "code",
   "execution_count": 14,
   "id": "1e4ea31f-1878-4c48-8289-59f0a4de9d78",
   "metadata": {},
   "outputs": [
    {
     "name": "stdout",
     "output_type": "stream",
     "text": [
      "<class 'pandas.core.frame.DataFrame'>\n"
     ]
    }
   ],
   "source": [
    "dic = {\"Name\":[\"Alice\", \"Bob\", \"Claire\"], \"Age\":[25, 30, 27], \"Gender\":[\"Female\", \"Male\", \"Female\"]}\n",
    "df = pd.DataFrame(dic)\n",
    "print(type(df))"
   ]
  },
  {
   "cell_type": "code",
   "execution_count": 15,
   "id": "808b1fbf-586a-4ec2-93a2-3ec73db57163",
   "metadata": {},
   "outputs": [
    {
     "data": {
      "text/html": [
       "<div>\n",
       "<style scoped>\n",
       "    .dataframe tbody tr th:only-of-type {\n",
       "        vertical-align: middle;\n",
       "    }\n",
       "\n",
       "    .dataframe tbody tr th {\n",
       "        vertical-align: top;\n",
       "    }\n",
       "\n",
       "    .dataframe thead th {\n",
       "        text-align: right;\n",
       "    }\n",
       "</style>\n",
       "<table border=\"1\" class=\"dataframe\">\n",
       "  <thead>\n",
       "    <tr style=\"text-align: right;\">\n",
       "      <th></th>\n",
       "      <th>Name</th>\n",
       "      <th>Age</th>\n",
       "      <th>Gender</th>\n",
       "    </tr>\n",
       "  </thead>\n",
       "  <tbody>\n",
       "    <tr>\n",
       "      <th>0</th>\n",
       "      <td>Alice</td>\n",
       "      <td>25</td>\n",
       "      <td>Female</td>\n",
       "    </tr>\n",
       "    <tr>\n",
       "      <th>1</th>\n",
       "      <td>Bob</td>\n",
       "      <td>30</td>\n",
       "      <td>Male</td>\n",
       "    </tr>\n",
       "    <tr>\n",
       "      <th>2</th>\n",
       "      <td>Claire</td>\n",
       "      <td>27</td>\n",
       "      <td>Female</td>\n",
       "    </tr>\n",
       "  </tbody>\n",
       "</table>\n",
       "</div>"
      ],
      "text/plain": [
       "     Name  Age  Gender\n",
       "0   Alice   25  Female\n",
       "1     Bob   30    Male\n",
       "2  Claire   27  Female"
      ]
     },
     "execution_count": 15,
     "metadata": {},
     "output_type": "execute_result"
    }
   ],
   "source": [
    "df"
   ]
  },
  {
   "cell_type": "markdown",
   "id": "360bf076-a66f-4614-a9d5-54c36a42169c",
   "metadata": {},
   "source": [
    "### Question 4\n",
    "What is ‘DataFrame’ in pandas and how is it different from pandas.series? Explain with an example.\n",
    "\n",
    "\n",
    "The DataFrame consists of Index objects for the axes labels (row and column labels) and Series objects for the column data.\n",
    "\n",
    "The Series object provides encapsulation for each of the column data (which is held in a one dimensional numpy.ndarray), with row labels and the column label.\n",
    "Below is a dataframe"
   ]
  },
  {
   "cell_type": "markdown",
   "id": "0743a3d8-decc-4637-b3b1-03261bd09a14",
   "metadata": {},
   "source": [
    "\n",
    "##"
   ]
  },
  {
   "cell_type": "code",
   "execution_count": 16,
   "id": "05b69e2f-4598-40c8-8d55-c5fcf203f9ee",
   "metadata": {},
   "outputs": [
    {
     "name": "stdout",
     "output_type": "stream",
     "text": [
      "    name  age  gender department  salary\n",
      "0   John   32    Male         IT   60000\n",
      "1   Jane   28  Female         HR   50000\n",
      "2    Bob   45    Male      Sales   70000\n",
      "3  Alice   37  Female         IT   65000\n"
     ]
    }
   ],
   "source": [
    "## This is a dataframe and each of the column is as series\n",
    "import pandas as pd\n",
    "\n",
    "data = {'name': ['John', 'Jane', 'Bob', 'Alice'], \n",
    "        'age': [32, 28, 45, 37], \n",
    "        'gender': ['Male', 'Female', 'Male', 'Female'], \n",
    "        'department': ['IT', 'HR', 'Sales', 'IT'], \n",
    "        'salary': [60000, 50000, 70000, 65000]}\n",
    "\n",
    "df = pd.DataFrame(data)\n",
    "print(df)\n",
    " "
   ]
  },
  {
   "cell_type": "code",
   "execution_count": 17,
   "id": "690cda06-f328-468a-abea-d22f94247d80",
   "metadata": {},
   "outputs": [
    {
     "data": {
      "text/plain": [
       "pandas.core.frame.DataFrame"
      ]
     },
     "execution_count": 17,
     "metadata": {},
     "output_type": "execute_result"
    }
   ],
   "source": [
    "type(df)"
   ]
  },
  {
   "cell_type": "code",
   "execution_count": 23,
   "id": "1944664f-bc22-48dc-b99e-85492113deaa",
   "metadata": {},
   "outputs": [
    {
     "name": "stdout",
     "output_type": "stream",
     "text": [
      "0     John\n",
      "1     Jane\n",
      "2      Bob\n",
      "3    Alice\n",
      "Name: name, dtype: object\n"
     ]
    }
   ],
   "source": [
    "### picking out one of the cell and print out the data type to show its series\n",
    "name = df[\"name\"]\n",
    "print(name)\n",
    "\n",
    "\n"
   ]
  },
  {
   "cell_type": "code",
   "execution_count": 24,
   "id": "6d5dffd9-05a5-4947-8459-fa2410f07518",
   "metadata": {},
   "outputs": [
    {
     "data": {
      "text/plain": [
       "pandas.core.series.Series"
      ]
     },
     "execution_count": 24,
     "metadata": {},
     "output_type": "execute_result"
    }
   ],
   "source": [
    "type(name)"
   ]
  },
  {
   "cell_type": "markdown",
   "id": "32a94dcf-d82c-4549-94ab-a9eef2d7bc7c",
   "metadata": {},
   "source": [
    "### Question 5 \n",
    "What are some common functions you can use to manipulate data in a Pandas DataFrame? Can you give an example of when you might use one of these functions?\n",
    "\n",
    "Below are commong fuctions that can be used to maniputlate data in Pandas DataFrame:\n",
    "1. head() and tail()\n",
    "2. describe()\n",
    "3. sort_values()\n",
    "4. groupby()\n",
    "5. drop()\n",
    "6. apply()\n",
    "\n",
    "Below are the simple usage of one of the function with the existing dataframe above,\n",
    "I will order the dataframe base on age!!"
   ]
  },
  {
   "cell_type": "code",
   "execution_count": 25,
   "id": "9fd8fe1b-f5a6-478c-8045-e76afa14ecdc",
   "metadata": {},
   "outputs": [
    {
     "name": "stdout",
     "output_type": "stream",
     "text": [
      "    name  age  gender department  salary\n",
      "0   John   32    Male         IT   60000\n",
      "1   Jane   28  Female         HR   50000\n",
      "2    Bob   45    Male      Sales   70000\n",
      "3  Alice   37  Female         IT   65000\n"
     ]
    }
   ],
   "source": [
    "### ordering the dateframe by age!!!\n",
    "import pandas as pd\n",
    "\n",
    "data = {'name': ['John', 'Jane', 'Bob', 'Alice'], \n",
    "        'age': [32, 28, 45, 37], \n",
    "        'gender': ['Male', 'Female', 'Male', 'Female'], \n",
    "        'department': ['IT', 'HR', 'Sales', 'IT'], \n",
    "        'salary': [60000, 50000, 70000, 65000]}\n",
    "\n",
    "df = pd.DataFrame(data)\n",
    "print(df)"
   ]
  },
  {
   "cell_type": "code",
   "execution_count": 26,
   "id": "70349df9-9ce9-4df9-a3d0-bb3863c64585",
   "metadata": {},
   "outputs": [
    {
     "name": "stdout",
     "output_type": "stream",
     "text": [
      "    name  age  gender department  salary\n",
      "2    Bob   45    Male      Sales   70000\n",
      "3  Alice   37  Female         IT   65000\n",
      "0   John   32    Male         IT   60000\n",
      "1   Jane   28  Female         HR   50000\n"
     ]
    }
   ],
   "source": [
    "age_arr = df.sort_values(by='age', ascending=False)\n",
    "print(age_arr)"
   ]
  },
  {
   "cell_type": "markdown",
   "id": "6fd66299-fa5d-4784-b083-9b3ef02f394f",
   "metadata": {},
   "source": [
    "### Question 6\n",
    "Q6. Which of the following is mutable in nature Series, DataFrame, Panel?\n",
    "\n",
    "Both Series and DataFrame are mutable in nature, meaning their contents can be modified after they are created. "
   ]
  },
  {
   "cell_type": "markdown",
   "id": "6e1c104f-8600-4754-b6f3-d90c78459c4b",
   "metadata": {},
   "source": [
    "### Question 7\n",
    "Q7. Create a DataFrame using multiple Series. Explain with an example.\n",
    "\n",
    "Below, I will be creating different three series, build dictionary and finally create data frame from the prior."
   ]
  },
  {
   "cell_type": "code",
   "execution_count": 27,
   "id": "1e2a71d8-8caf-4c4c-9c7e-3d341ec16cb9",
   "metadata": {},
   "outputs": [
    {
     "name": "stdout",
     "output_type": "stream",
     "text": [
      "      Name  Age Gender\n",
      "0   Abioye   25      M\n",
      "1    Bimpe   30      F\n",
      "2  Adeyemi   35      M\n",
      "3    Yinka   40      F\n"
     ]
    }
   ],
   "source": [
    "import pandas as pd\n",
    "\n",
    "# create a Series for each column\n",
    "names = pd.Series(['Abioye', 'Bimpe', 'Adeyemi', 'Yinka'])\n",
    "ages = pd.Series([25, 30, 35, 40])\n",
    "genders = pd.Series(['M', 'F', 'M', 'F'])\n",
    "\n",
    "# create a dictionary of Series\n",
    "data = {'Name': names, 'Age': ages, 'Gender': genders}\n",
    "\n",
    "# create a DataFrame from the dictionary of Series\n",
    "df = pd.DataFrame(data)\n",
    "\n",
    "# print the DataFrame\n",
    "print(df)"
   ]
  },
  {
   "cell_type": "markdown",
   "id": "9f25fd37-c7ee-40e3-824f-fdc97f3bbe8d",
   "metadata": {},
   "source": [
    "##### The End ###"
   ]
  }
 ],
 "metadata": {
  "kernelspec": {
   "display_name": "Python 3 (ipykernel)",
   "language": "python",
   "name": "python3"
  },
  "language_info": {
   "codemirror_mode": {
    "name": "ipython",
    "version": 3
   },
   "file_extension": ".py",
   "mimetype": "text/x-python",
   "name": "python",
   "nbconvert_exporter": "python",
   "pygments_lexer": "ipython3",
   "version": "3.10.8"
  }
 },
 "nbformat": 4,
 "nbformat_minor": 5
}
