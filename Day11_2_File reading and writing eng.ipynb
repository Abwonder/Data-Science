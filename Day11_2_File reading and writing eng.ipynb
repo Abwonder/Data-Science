{
 "cells": [
  {
   "cell_type": "markdown",
   "id": "f689e2ae",
   "metadata": {},
   "source": [
    "## File reading and writing "
   ]
  },
  {
   "cell_type": "code",
   "execution_count": 2,
   "id": "4c731d33-02a6-45e4-b5f1-2adb0c53c3c1",
   "metadata": {},
   "outputs": [],
   "source": [
    "# this is a dictionary having keys and values\n",
    "data = {\n",
    "    \"name\" : \"sudh\",\n",
    "    \"mail_id\" : \"sudh@gmail.com\",\n",
    "    \"phone_number\" : 91345435,\n",
    "    \"subject\" :[\"data science\" , \"big data\" , \"data analytics\"]\n",
    "}"
   ]
  },
  {
   "cell_type": "code",
   "execution_count": 9,
   "id": "a3300c27",
   "metadata": {},
   "outputs": [
    {
     "data": {
      "text/plain": [
       "'sudh'"
      ]
     },
     "execution_count": 9,
     "metadata": {},
     "output_type": "execute_result"
    }
   ],
   "source": [
    "data.get(\"name\")  ## to remember what I needed!!!!"
   ]
  },
  {
   "cell_type": "code",
   "execution_count": 18,
   "id": "27af6963",
   "metadata": {},
   "outputs": [
    {
     "name": "stdout",
     "output_type": "stream",
     "text": [
      "['name', 'sudh', 'mail_id', 'sudh@gmail.com', 'phone_number', 91345435, 'subject', 'data science', 'big data', 'data analytics']\n"
     ]
    }
   ],
   "source": [
    "## Playing with the above code print it out as list\n",
    "list1=[]\n",
    "\n",
    "for i in data:\n",
    "#     print(i)\n",
    "    list1.append(i)\n",
    "    if type(data.get(i)) == str or type(data.get(i)) == int:\n",
    "#         print(data.get(i))\n",
    "        list1.append(data.get(i))\n",
    "    elif type(data.get(i)) == list:\n",
    "        for j in data.get(i):\n",
    "            list1.append(j)\n",
    "#             print(j)\n",
    "print(list1)"
   ]
  },
  {
   "cell_type": "code",
   "execution_count": 19,
   "id": "ae5b6073",
   "metadata": {},
   "outputs": [],
   "source": [
    "# this is a dictionary having keys and values\n",
    "data = {\n",
    "    \"name\" : \"sudh\",\n",
    "    \"mail_id\" : \"sudh@gmail.com\",\n",
    "    \"phone_number\" : 91345435,\n",
    "    \"subject\" :[\"data science\" , \"big data\" , \"data analytics\"]\n",
    "}   ## this is the format of json file: key and values"
   ]
  },
  {
   "cell_type": "code",
   "execution_count": 20,
   "id": "c671620c-8665-4c27-93fa-c229be5b6ce2",
   "metadata": {},
   "outputs": [],
   "source": [
    "import json    ## json- java script object notation\n",
    "## a way of moving data across the internet!!!"
   ]
  },
  {
   "cell_type": "code",
   "execution_count": 22,
   "id": "22a65eb0-a267-4f69-8163-7662d36a095f",
   "metadata": {},
   "outputs": [],
   "source": [
    "though if open test1.json as f to operation, it still saves as test1.json\n",
    "with open(\"test1.json\", \"w\") as f :\n",
    "    json.dump(data,f)  ## move copy data from data to f. convert the txt to json\n",
    "    "
   ]
  },
  {
   "cell_type": "code",
   "execution_count": 23,
   "id": "711b9bd0-ef68-446e-bcd2-5e3bb7696151",
   "metadata": {},
   "outputs": [],
   "source": [
    "with open(\"test1.json\" , 'r') as f :\n",
    "    data1 = json.load(f) ## load the data onto data1 for usage!!!\n",
    "    "
   ]
  },
  {
   "cell_type": "code",
   "execution_count": 24,
   "id": "8719897b-64ce-49bc-9135-0539431cc038",
   "metadata": {},
   "outputs": [
    {
     "data": {
      "text/plain": [
       "{'name': 'sudh',\n",
       " 'mail_id': 'sudh@gmail.com',\n",
       " 'phone_number': 91345435,\n",
       " 'subject': ['data science', 'big data', 'data analytics']}"
      ]
     },
     "execution_count": 24,
     "metadata": {},
     "output_type": "execute_result"
    }
   ],
   "source": [
    "data1"
   ]
  },
  {
   "cell_type": "code",
   "execution_count": 25,
   "id": "e64d8186-aa3e-4b42-968d-1c361bf35c34",
   "metadata": {},
   "outputs": [
    {
     "data": {
      "text/plain": [
       "'big data'"
      ]
     },
     "execution_count": 25,
     "metadata": {},
     "output_type": "execute_result"
    }
   ],
   "source": [
    "data1['subject'][1]  ## extracting data within dictionary"
   ]
  },
  {
   "cell_type": "code",
   "execution_count": 28,
   "id": "d7a07d57",
   "metadata": {},
   "outputs": [
    {
     "data": {
      "text/plain": [
       "['data science', 'big data', 'data analytics']"
      ]
     },
     "execution_count": 28,
     "metadata": {},
     "output_type": "execute_result"
    }
   ],
   "source": [
    "data1['subject']  ## this work same as bracket"
   ]
  },
  {
   "cell_type": "code",
   "execution_count": 29,
   "id": "22a17656",
   "metadata": {},
   "outputs": [
    {
     "ename": "TypeError",
     "evalue": "'dict' object is not callable",
     "output_type": "error",
     "traceback": [
      "\u001b[1;31m---------------------------------------------------------------------------\u001b[0m",
      "\u001b[1;31mTypeError\u001b[0m                                 Traceback (most recent call last)",
      "Input \u001b[1;32mIn [29]\u001b[0m, in \u001b[0;36m<cell line: 1>\u001b[1;34m()\u001b[0m\n\u001b[1;32m----> 1\u001b[0m \u001b[43mdata1\u001b[49m\u001b[43m(\u001b[49m\u001b[38;5;124;43m'\u001b[39;49m\u001b[38;5;124;43msubject\u001b[39;49m\u001b[38;5;124;43m'\u001b[39;49m\u001b[43m)\u001b[49m\n",
      "\u001b[1;31mTypeError\u001b[0m: 'dict' object is not callable"
     ]
    }
   ],
   "source": [
    "data1('subject')"
   ]
  },
  {
   "cell_type": "code",
   "execution_count": 31,
   "id": "d8b59801",
   "metadata": {},
   "outputs": [
    {
     "data": {
      "text/plain": [
       "['data science', 'big data', 'data analytics']"
      ]
     },
     "execution_count": 31,
     "metadata": {},
     "output_type": "execute_result"
    }
   ],
   "source": [
    "data1.get(\"subject\")   ### bracket works with get"
   ]
  },
  {
   "cell_type": "code",
   "execution_count": 32,
   "id": "a9e2703a",
   "metadata": {},
   "outputs": [
    {
     "data": {
      "text/plain": [
       "'big data'"
      ]
     },
     "execution_count": 32,
     "metadata": {},
     "output_type": "execute_result"
    }
   ],
   "source": [
    "## should be able to combine it with slicing\n",
    "data1.get(\"subject\")[1]  ### bracket works with get"
   ]
  },
  {
   "cell_type": "code",
   "execution_count": null,
   "id": "109acacd",
   "metadata": {},
   "outputs": [],
   "source": [
    "## only slicing method works\n",
    "data1['subject'][1]"
   ]
  },
  {
   "cell_type": "code",
   "execution_count": 44,
   "id": "6de347d8-dcae-4413-8a45-32d68ef2a4b5",
   "metadata": {},
   "outputs": [],
   "source": [
    "# when my data is separated with comma can be related to (comma separte values)\n",
    "# csv\n",
    "data = [[\"name\" , \"email_id\" , \"number\"],\n",
    "       [\"sudh\" , \"sudh@gmail.com\" , 92342342],\n",
    "        [\"krish\" , \"krish@gmail.com\" , 9324324242]\n",
    "       ]"
   ]
  },
  {
   "cell_type": "code",
   "execution_count": 43,
   "id": "2f079ead-a416-42e4-b84d-1852f07ea92f",
   "metadata": {},
   "outputs": [],
   "source": [
    "import csv   ## module to handle csv!!!"
   ]
  },
  {
   "cell_type": "code",
   "execution_count": 45,
   "id": "3f5c031e-f539-4dfd-87e1-43e6ae8b96ca",
   "metadata": {},
   "outputs": [],
   "source": [
    "with open(\"test3.csv\" , 'w') as f :  ## file to store is created\n",
    "    w = csv.writer(f) ## gets it set for writing\n",
    "    for i in data:\n",
    "#         print(i) # let's see how it iterates\n",
    "        w.writerow(i)"
   ]
  },
  {
   "cell_type": "code",
   "execution_count": 46,
   "id": "fbdd9bdf-f2a8-401a-b823-76d5c2eb006d",
   "metadata": {},
   "outputs": [
    {
     "name": "stdout",
     "output_type": "stream",
     "text": [
      "['name', 'email_id', 'number']\n",
      "[]\n",
      "['sudh', 'sudh@gmail.com', '92342342']\n",
      "[]\n",
      "['krish', 'krish@gmail.com', '9324324242']\n",
      "[]\n"
     ]
    }
   ],
   "source": [
    "with open(\"test3.csv\" , 'r') as f :\n",
    "    read = csv.reader(f)\n",
    "    for i in read:\n",
    "        print(i)\n",
    "    "
   ]
  },
  {
   "cell_type": "code",
   "execution_count": 13,
   "id": "51f558b6-23a2-4b7f-aa5e-3673ac1cee23",
   "metadata": {},
   "outputs": [],
   "source": [
    "## working with binary numbers\n",
    "with open(\"test4.bin\", 'wb') as f :  ## wb is write binary\n",
    "    f.write(b\"\\x01\\x02\\x03\")"
   ]
  },
  {
   "cell_type": "code",
   "execution_count": 14,
   "id": "5a7467ff-c347-47f5-93ec-a6ef3b9e2f59",
   "metadata": {},
   "outputs": [
    {
     "name": "stdout",
     "output_type": "stream",
     "text": [
      "b'\\x01\\x02\\x03'\n"
     ]
    }
   ],
   "source": [
    "with open(\"test4.bin\" , \"rb\") as f :\n",
    "    print(f.read())"
   ]
  },
  {
   "cell_type": "code",
   "execution_count": null,
   "id": "110a4f9b-0729-4d27-ac99-dcd885024d5d",
   "metadata": {},
   "outputs": [],
   "source": []
  }
 ],
 "metadata": {
  "kernelspec": {
   "display_name": "Python 3 (ipykernel)",
   "language": "python",
   "name": "python3"
  },
  "language_info": {
   "codemirror_mode": {
    "name": "ipython",
    "version": 3
   },
   "file_extension": ".py",
   "mimetype": "text/x-python",
   "name": "python",
   "nbconvert_exporter": "python",
   "pygments_lexer": "ipython3",
   "version": "3.9.12"
  }
 },
 "nbformat": 4,
 "nbformat_minor": 5
}
